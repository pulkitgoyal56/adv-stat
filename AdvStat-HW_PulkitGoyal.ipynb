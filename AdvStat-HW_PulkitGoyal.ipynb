{
 "cells": [
  {
   "cell_type": "markdown",
   "id": "9e62cd82-8b58-42a9-b1cd-0e4aac29f71d",
   "metadata": {
    "jp-MarkdownHeadingCollapsed": true,
    "tags": []
   },
   "source": [
    "# Imports"
   ]
  },
  {
   "cell_type": "code",
   "execution_count": 1,
   "id": "675c21e4-d1c5-42d5-a3a2-c0870d43a935",
   "metadata": {},
   "outputs": [],
   "source": [
    "import math"
   ]
  },
  {
   "cell_type": "code",
   "execution_count": 2,
   "id": "c2125ab7-1a18-4e26-8e22-b5f914b4cce7",
   "metadata": {},
   "outputs": [],
   "source": [
    "import numpy as np\n",
    "\n",
    "np.set_printoptions(suppress=True) # Suppress Scientific Notation for Printing"
   ]
  },
  {
   "cell_type": "code",
   "execution_count": 3,
   "id": "c93d8053-30bd-49a6-ba53-7f84670875d5",
   "metadata": {},
   "outputs": [],
   "source": [
    "import pandas as pd"
   ]
  },
  {
   "cell_type": "code",
   "execution_count": 4,
   "id": "6dfff2e8-9eab-4853-84e2-1adf0d0bca87",
   "metadata": {},
   "outputs": [],
   "source": [
    "import matplotlib.pyplot as plt"
   ]
  },
  {
   "cell_type": "code",
   "execution_count": 5,
   "id": "326f0255-6256-4c66-96c8-fbcc6ecce89f",
   "metadata": {},
   "outputs": [],
   "source": [
    "import scipy.stats as st"
   ]
  },
  {
   "cell_type": "code",
   "execution_count": 6,
   "id": "928f4d7d-683c-49ec-a7ab-eea9d79a5faa",
   "metadata": {},
   "outputs": [],
   "source": [
    "import statsmodels.api as sm\n",
    "import statsmodels.stats.power as sm_power"
   ]
  },
  {
   "cell_type": "markdown",
   "id": "da7c6b1d-a8af-4e82-983c-2ce5792b0bd9",
   "metadata": {},
   "source": [
    "---"
   ]
  },
  {
   "cell_type": "code",
   "execution_count": 7,
   "id": "3d5353d6-c4c1-4bf0-9e96-c8cce69d8b36",
   "metadata": {},
   "outputs": [],
   "source": [
    "from IPython.display import display, HTML"
   ]
  },
  {
   "cell_type": "raw",
   "id": "e6e710a4-18bc-4124-a390-cd49f0ea0f95",
   "metadata": {
    "id": "Hj1kEjsKKnBF",
    "tags": []
   },
   "source": [
    "<div class=\"alert alert-block alert-success\">\n",
    "\\begin{align*}\n",
    "\\end{align*}\n",
    "</div>"
   ]
  },
  {
   "cell_type": "code",
   "execution_count": 8,
   "id": "56c1b1cc-50ea-4b3f-920c-eb758ab12206",
   "metadata": {},
   "outputs": [],
   "source": [
    "def pprint(txt='', ltxt=None, alert='success'): \n",
    "    display(HTML(f\"\"\"\n",
    "        <div class='alert alert-block alert-{alert}'>\n",
    "            {txt}\n",
    "            {f'''/b/begin{{align*}}{ltxt}/b/end{{align*}}''' if ltxt else ''}\n",
    "        </div>\n",
    "    \"\"\".replace(\"/b/\", \"\\\\\")))"
   ]
  },
  {
   "cell_type": "markdown",
   "id": "dcde187d-e45e-408f-901d-e5fb624660a5",
   "metadata": {},
   "source": [
    "> Color Legend"
   ]
  },
  {
   "cell_type": "markdown",
   "id": "62a0e428-d340-49c6-be61-2dd0f27a1878",
   "metadata": {},
   "source": [
    "<div class=\"alert alert-block alert-warning\">\n",
    "    Orange - <b>Given Info</b>\n",
    "</div>"
   ]
  },
  {
   "cell_type": "markdown",
   "id": "2a39cbc3-3008-4523-bd95-357a24699e2e",
   "metadata": {},
   "source": [
    "<div class=\"alert alert-block alert-info\">\n",
    "    Blue - <b>Standard Result/Formula</b>\n",
    "</div>"
   ]
  },
  {
   "cell_type": "markdown",
   "id": "b2d7a959-8450-4f1f-8f90-df9cdfa1d9d4",
   "metadata": {},
   "source": [
    "<div class=\"alert alert-block alert-success\">\n",
    "    Green - <b>Solution</b>\n",
    "</div>"
   ]
  },
  {
   "cell_type": "markdown",
   "id": "fcbcdeda-35b0-4e9a-8b66-d889910c98c5",
   "metadata": {},
   "source": [
    "<div class=\"alert alert-block alert-danger\">\n",
    "    Red - <b>My Questions</b>\n",
    "</div>"
   ]
  },
  {
   "cell_type": "markdown",
   "id": "a5073758-dfef-49b7-a654-23ebf412a9e0",
   "metadata": {
    "heading_collapsed": "true",
    "jp-MarkdownHeadingCollapsed": true,
    "tags": []
   },
   "source": [
    "# Assignment 1"
   ]
  },
  {
   "cell_type": "markdown",
   "id": "e94d8fb5-9bcf-471a-ab35-fd8d6579d44e",
   "metadata": {
    "heading_collapsed": "true",
    "jp-MarkdownHeadingCollapsed": true,
    "tags": []
   },
   "source": [
    "## 1."
   ]
  },
  {
   "cell_type": "markdown",
   "id": "ae49af49-d040-4dba-867b-b20bd35a4515",
   "metadata": {},
   "source": [
    "<div class=\"alert alert-block alert-warning\">\n",
    "\\begin{equation*}\n",
    "    \\begin{aligned}[c]\n",
    "        n_m &= 814\\\\\n",
    "        \\bar{x}_m &= 177.7\\, cm\\\\\n",
    "        s_m^2 &= 49.0\\, cm^2\n",
    "    \\end{aligned}\n",
    "    \\qquad\\qquad\\qquad\\qquad\n",
    "    \\begin{aligned}[c]\n",
    "        n_f &= 854\\\\\n",
    "        \\bar{x}_f &= 165.1\\, cm\\\\\n",
    "        s_f^2 &= 38.4\\, cm^2\n",
    "    \\end{aligned}\n",
    "\\end{equation*}\n",
    "</div>"
   ]
  },
  {
   "cell_type": "markdown",
   "id": "c73a5715-7d17-42fa-bf91-ce743d7d9c01",
   "metadata": {
    "tags": []
   },
   "source": [
    "`b.`"
   ]
  },
  {
   "cell_type": "markdown",
   "id": "c04d509e-59a4-4867-a172-4216261e9539",
   "metadata": {
    "id": "Hj1kEjsKKnBF",
    "tags": []
   },
   "source": [
    "<div class=\"alert alert-block alert-info\">\n",
    "\\begin{align}\n",
    "    Cohen's\\ d &= \\frac{\\bar{x}_1 - \\bar{x}_2}{s}\n",
    "    \\backepsilon s = \\sqrt{\\frac{(n_1 - 1).s_1^2 + (n_2 - 1).s_2^2}{n_1 + n_2 - 2}}\n",
    "\\end{align}\n",
    "</div>"
   ]
  },
  {
   "cell_type": "markdown",
   "id": "240c4427-aba9-4fba-a556-b18642c8cf4a",
   "metadata": {
    "tags": []
   },
   "source": [
    "`a.`"
   ]
  },
  {
   "cell_type": "markdown",
   "id": "2e7101f6-bea3-42eb-94e1-9710414ecb40",
   "metadata": {},
   "source": [
    "<div class=\"alert alert-block alert-success\">\n",
    "\\begin{align}\n",
    "    d &= \\frac{\\bar{x}_m - \\bar{x}_f}{s} = \\frac{177.7 - 165.1}{s} = \\frac{12.6}{s}\\\\\n",
    "    s &= \\sqrt{\\frac{(n_m - 1).s_m^2 + (n_f - 1).s_f^2}{n_m + n_f - 2}}\\\\\n",
    "      &= \\sqrt{\\frac{(814 - 1)*49.0 + (854 - 1)*38.4}{814 + 854 - 2}}\\\\\n",
    "      &= 6.601\\\\\\\\\n",
    "    \\therefore d &= \\frac{12.6}{6.6} = 1.91\n",
    "\\end{align}\n",
    "</div>"
   ]
  },
  {
   "cell_type": "markdown",
   "id": "4e9a05ff-7bc9-4c22-aac7-04199e4a7c60",
   "metadata": {
    "tags": []
   },
   "source": [
    "`c.`"
   ]
  },
  {
   "cell_type": "markdown",
   "id": "cc9f323f-6386-4a35-9c44-986d21d1af4e",
   "metadata": {},
   "source": [
    "<div class=\"alert alert-block alert-success\">\n",
    "The effect size is large.\n",
    "</div>"
   ]
  },
  {
   "cell_type": "markdown",
   "id": "d36f55d6-8d53-442d-b855-f7c0c5185dcd",
   "metadata": {
    "heading_collapsed": "true",
    "jp-MarkdownHeadingCollapsed": true,
    "tags": []
   },
   "source": [
    "## 2."
   ]
  },
  {
   "cell_type": "markdown",
   "id": "a4404fcb-8034-4342-b3e3-745d245358f9",
   "metadata": {},
   "source": [
    "<div class=\"alert alert-block alert-info\">\n",
    "For equal sample size and sample variance, the independent two-sample t-test t-statistic is related to the effct size by the following relationship.\n",
    "\\begin{align}\n",
    "    t = d.\\sqrt{\\frac{n}{2}}\n",
    "\\end{align}\n",
    "</div>"
   ]
  },
  {
   "cell_type": "markdown",
   "id": "1fc5d099-a6c5-4ca6-bbd7-34981b1aa049",
   "metadata": {},
   "source": [
    "<div class=\"alert alert-block alert-success\">\n",
    "So, the t-value for the given conditions is $0.2*\\sqrt{\\frac{72}{2}} = 1.2 > \\alpha\\ (0.05)$. Therefore, the effect is <b>not significant</b>.\n",
    "</div>"
   ]
  },
  {
   "cell_type": "markdown",
   "id": "d4c5d4a2-d5df-4c32-be57-9df1445787cd",
   "metadata": {
    "heading_collapsed": "true",
    "jp-MarkdownHeadingCollapsed": true,
    "tags": []
   },
   "source": [
    "## 3."
   ]
  },
  {
   "cell_type": "markdown",
   "id": "751a1c9d-48c9-447f-b882-3835145a5129",
   "metadata": {},
   "source": [
    "<div class=\"alert alert-block alert-warning\">\n",
    "\\begin{equation*}\n",
    "    \\begin{aligned}[c]\n",
    "        g_m &= 8.66\\\\\n",
    "        s_m &= 3.2\\\\\n",
    "    \\end{aligned}\n",
    "    \\qquad\\qquad\\qquad\\qquad\n",
    "    \\begin{aligned}[c]\n",
    "        g_f &= 8.45\\\\\n",
    "        s_f &= 2.8\\\\\n",
    "    \\end{aligned}\\\\\n",
    "    r = 0.47\n",
    "\\end{equation*}\n",
    "</div>"
   ]
  },
  {
   "cell_type": "markdown",
   "id": "e121b4cd-b445-457e-9974-1509ba0a0578",
   "metadata": {},
   "source": [
    "<div class=\"alert alert-block alert-success\">\n",
    "\\begin{align}\n",
    "    d_{rm} &= \\frac{\\bar{g}_m - \\bar{g}_f}{s_z} = \\frac{8.66 - 8.45}{s_z} = \\frac{0.21}{s_z}\\\\\n",
    "    s_z &= \\sqrt{\\frac{s_m^2 + s_f^2 - 2.r.s_m.s_f}{2.(1-r)}}\\\\\n",
    "        &= \\sqrt{\\frac{3.2^2 + 2.8^2 - 2*0.47*3.2*2.8}{2*(1-0.47)}}\\\\\n",
    "        &= 3.018\\\\\\\\\n",
    "    \\therefore d_{rm} &= \\frac{0.21}{3.018} = 0.696\n",
    "\\end{align}\n",
    "</div>"
   ]
  },
  {
   "cell_type": "markdown",
   "id": "4fd1ebdb-427a-4207-b088-b3297a8d006e",
   "metadata": {
    "heading_collapsed": "true",
    "jp-MarkdownHeadingCollapsed": true,
    "tags": []
   },
   "source": [
    "## 4"
   ]
  },
  {
   "cell_type": "markdown",
   "id": "9fe7f3f4-5dde-451e-b84d-b9211cba981b",
   "metadata": {},
   "source": [
    "<div class=\"alert alert-block alert-info\">\n",
    "The variance explained can be captured partial eta-squared ($\\eta^2$) measure, which is related to the f-statistic ($f$) in ANOVA as,\n",
    "\\begin{align}\n",
    "    f^2 = \\frac{\\eta^2}{1-\\eta^2}\n",
    "\\end{align}\n",
    "</div>"
   ]
  },
  {
   "cell_type": "markdown",
   "id": "a4b4cf8d-6ea5-4d02-9c28-da7183675c9f",
   "metadata": {},
   "source": [
    "<div class=\"alert alert-block alert-warning\">\n",
    "\\begin{align*}\n",
    "    \\eta^2 &= 0.1\\\\\n",
    "    1-\\beta &= 0.9\\\\\n",
    "    \\alpha &= 0.05\\\\\n",
    "\\end{align*}\n",
    "</div>"
   ]
  },
  {
   "cell_type": "markdown",
   "id": "4fb7ed1b-9fef-466b-8347-1645e0d633c6",
   "metadata": {},
   "source": [
    "<div class=\"alert alert-block alert-success\">\n",
    "\\begin{align*}\n",
    "    \\therefore f &= \\sqrt{\\frac{0.1}{1-0.1}} = 0.333\n",
    "\\end{align*}\n",
    "</div>"
   ]
  },
  {
   "cell_type": "markdown",
   "id": "84e4f0af-1939-4b7a-aaea-e9afdc2bc11e",
   "metadata": {
    "tags": []
   },
   "source": [
    "`a.`"
   ]
  },
  {
   "cell_type": "code",
   "execution_count": 9,
   "id": "973c1903-01d6-4a7c-a4a2-ba1d64122f03",
   "metadata": {},
   "outputs": [
    {
     "data": {
      "text/html": [
       "\n",
       "        <div class='alert alert-block alert-success'>\n",
       "            \n",
       "            \\begin{align*}\\text{Using power analyis, number of samples required for effect size } (f = 0.333) \\Rightarrow 118\\end{align*}\n",
       "        </div>\n",
       "    "
      ],
      "text/plain": [
       "<IPython.core.display.HTML object>"
      ]
     },
     "metadata": {},
     "output_type": "display_data"
    }
   ],
   "source": [
    "nobs = math.ceil(sm_power.FTestAnovaPower().solve_power(effect_size=0.333, alpha=0.05, power=0.9, k_groups=3))\n",
    "pprint(ltxt=f\"\\\\text{{Using power analyis, number of samples required for effect size }} (f = 0.333) \\\\Rightarrow {nobs}\")"
   ]
  },
  {
   "cell_type": "markdown",
   "id": "b034ea0c-edd9-4391-b444-02519b9fa63f",
   "metadata": {
    "tags": []
   },
   "source": [
    "`b.`"
   ]
  },
  {
   "cell_type": "code",
   "execution_count": 10,
   "id": "da80836e-0d47-484e-8d6e-5212c0dc5ea0",
   "metadata": {},
   "outputs": [
    {
     "name": "stderr",
     "output_type": "stream",
     "text": [
      "C:\\Users\\pulki\\AppData\\Local\\Temp\\ipykernel_17924\\3694109675.py:2: DeprecationWarning: Conversion of an array with ndim > 0 to a scalar is deprecated, and will error in future. Ensure you extract a single element from your array before performing this operation. (Deprecated NumPy 1.25.)\n",
      "  nobss = np.array([float(sm_power.FTestAnovaPower().solve_power(effect_size=0.333, alpha=0.05, power=power, k_groups=3)) for power in powers])\n"
     ]
    }
   ],
   "source": [
    "powers = np.arange(0.06, 0.99, 0.01)\n",
    "nobss = np.array([float(sm_power.FTestAnovaPower().solve_power(effect_size=0.333, alpha=0.05, power=power, k_groups=3)) for power in powers])"
   ]
  },
  {
   "cell_type": "code",
   "execution_count": 11,
   "id": "fc928ff0-fcc1-45c5-a916-a8a12610ce00",
   "metadata": {},
   "outputs": [
    {
     "data": {
      "image/png": "[encoded data removed]",
      "text/plain": [
       "<Figure size 640x480 with 1 Axes>"
      ]
     },
     "metadata": {},
     "output_type": "display_data"
    }
   ],
   "source": [
    "sm_power.FTestAnovaPower().plot_power('nobs', nobs=nobss, effect_size=[0.333], alpha=[0.05], k_groups=3)\n",
    "plt.xlim([0, None])\n",
    "# plt.xticks(np.append(plt.xticks()[0], math.ceil(nobss[np.isclose(powers, 0.9)][0])))\n",
    "plt.yticks(np.linspace(0, 1, 11))\n",
    "plt.ylabel(r\"Power (1-$\\beta$)\")\n",
    "plt.axvspan(nobss[np.isclose(powers, 0.9)][0], plt.xticks()[0][-1], color='r', alpha=0.1)\n",
    "plt.hlines(0.9, 0, nobss[np.isclose(powers, 0.9)][0], color='r', ls='-.', lw=2, alpha=0.2);"
   ]
  },
  {
   "cell_type": "markdown",
   "id": "d53f8dbc-4260-4085-9c75-5308d46fab4d",
   "metadata": {
    "tags": []
   },
   "source": [
    "`c.`"
   ]
  },
  {
   "cell_type": "code",
   "execution_count": 12,
   "id": "b06bc1be-c224-4c09-846a-a4e1a833343e",
   "metadata": {},
   "outputs": [
    {
     "data": {
      "text/html": [
       "\n",
       "        <div class='alert alert-block alert-success'>\n",
       "            \n",
       "            \\begin{align*}\\text{Using power analyis, number of samples required for effect size } (f = 0.1) \\Rightarrow 1269\\end{align*}\n",
       "        </div>\n",
       "    "
      ],
      "text/plain": [
       "<IPython.core.display.HTML object>"
      ]
     },
     "metadata": {},
     "output_type": "display_data"
    }
   ],
   "source": [
    "nobs = math.ceil(sm_power.FTestAnovaPower().solve_power(effect_size=0.1, alpha=0.05, power=0.9, k_groups=3))\n",
    "pprint(ltxt=f\"\\\\text{{Using power analyis, number of samples required for effect size }} (f = 0.1) \\\\Rightarrow {nobs}\")"
   ]
  },
  {
   "cell_type": "markdown",
   "id": "3fcc5dde-56a4-43e8-a237-dccb572f2bdf",
   "metadata": {
    "heading_collapsed": "true",
    "jp-MarkdownHeadingCollapsed": true,
    "tags": []
   },
   "source": [
    "## 5."
   ]
  },
  {
   "cell_type": "code",
   "execution_count": 13,
   "id": "6edc6ce2-0335-4f53-96ef-d74a300aa598",
   "metadata": {},
   "outputs": [],
   "source": [
    "data = pd.read_csv('data/1/Table1.csv')"
   ]
  },
  {
   "cell_type": "code",
   "execution_count": 14,
   "id": "6ad2232f-b18d-4846-972b-8787ec7992a0",
   "metadata": {},
   "outputs": [
    {
     "data": {
      "text/html": [
       "<div>\n",
       "<style scoped>\n",
       "    .dataframe tbody tr th:only-of-type {\n",
       "        vertical-align: middle;\n",
       "    }\n",
       "\n",
       "    .dataframe tbody tr th {\n",
       "        vertical-align: top;\n",
       "    }\n",
       "\n",
       "    .dataframe thead th {\n",
       "        text-align: right;\n",
       "    }\n",
       "</style>\n",
       "<table border=\"1\" class=\"dataframe\">\n",
       "  <thead>\n",
       "    <tr style=\"text-align: right;\">\n",
       "      <th></th>\n",
       "      <th>ItemNr</th>\n",
       "      <th>PopulationEffect</th>\n",
       "      <th>MeanGroup1</th>\n",
       "      <th>SDGroup1</th>\n",
       "      <th>MeanGroup2</th>\n",
       "      <th>SDGroup2</th>\n",
       "      <th>p</th>\n",
       "    </tr>\n",
       "  </thead>\n",
       "  <tbody>\n",
       "    <tr>\n",
       "      <th>0</th>\n",
       "      <td>1</td>\n",
       "      <td>0</td>\n",
       "      <td>6.865663</td>\n",
       "      <td>93.243186</td>\n",
       "      <td>3.532821</td>\n",
       "      <td>92.849045</td>\n",
       "      <td>0.858232</td>\n",
       "    </tr>\n",
       "    <tr>\n",
       "      <th>1</th>\n",
       "      <td>2</td>\n",
       "      <td>0</td>\n",
       "      <td>-19.103643</td>\n",
       "      <td>90.160491</td>\n",
       "      <td>-16.177325</td>\n",
       "      <td>88.983605</td>\n",
       "      <td>0.870582</td>\n",
       "    </tr>\n",
       "    <tr>\n",
       "      <th>2</th>\n",
       "      <td>3</td>\n",
       "      <td>1</td>\n",
       "      <td>-15.747061</td>\n",
       "      <td>102.164439</td>\n",
       "      <td>-34.091446</td>\n",
       "      <td>93.417503</td>\n",
       "      <td>0.351061</td>\n",
       "    </tr>\n",
       "    <tr>\n",
       "      <th>3</th>\n",
       "      <td>4</td>\n",
       "      <td>1</td>\n",
       "      <td>6.621659</td>\n",
       "      <td>83.492126</td>\n",
       "      <td>58.531006</td>\n",
       "      <td>89.420670</td>\n",
       "      <td>0.003420</td>\n",
       "    </tr>\n",
       "    <tr>\n",
       "      <th>4</th>\n",
       "      <td>5</td>\n",
       "      <td>0</td>\n",
       "      <td>-12.783565</td>\n",
       "      <td>104.391452</td>\n",
       "      <td>-12.918734</td>\n",
       "      <td>113.932785</td>\n",
       "      <td>0.995077</td>\n",
       "    </tr>\n",
       "  </tbody>\n",
       "</table>\n",
       "</div>"
      ],
      "text/plain": [
       "   ItemNr  PopulationEffect  MeanGroup1    SDGroup1  MeanGroup2    SDGroup2  \\\n",
       "0       1                 0    6.865663   93.243186    3.532821   92.849045   \n",
       "1       2                 0  -19.103643   90.160491  -16.177325   88.983605   \n",
       "2       3                 1  -15.747061  102.164439  -34.091446   93.417503   \n",
       "3       4                 1    6.621659   83.492126   58.531006   89.420670   \n",
       "4       5                 0  -12.783565  104.391452  -12.918734  113.932785   \n",
       "\n",
       "          p  \n",
       "0  0.858232  \n",
       "1  0.870582  \n",
       "2  0.351061  \n",
       "3  0.003420  \n",
       "4  0.995077  "
      ]
     },
     "execution_count": 14,
     "metadata": {},
     "output_type": "execute_result"
    }
   ],
   "source": [
    "data.head()"
   ]
  },
  {
   "cell_type": "code",
   "execution_count": 15,
   "id": "a49c33e5-ed65-4cdc-ac9a-9cbf874b73f9",
   "metadata": {},
   "outputs": [],
   "source": [
    "alpha = 0.05"
   ]
  },
  {
   "cell_type": "markdown",
   "id": "6969264c-2345-4331-98cd-1d55eff7a3da",
   "metadata": {
    "tags": []
   },
   "source": [
    "### `1. No Correction`"
   ]
  },
  {
   "cell_type": "code",
   "execution_count": 16,
   "id": "1bdc113e-d163-4c79-ab0f-75049dc606f0",
   "metadata": {},
   "outputs": [],
   "source": [
    "c = 'n_c'"
   ]
  },
  {
   "cell_type": "code",
   "execution_count": 17,
   "id": "282120f3-6aa3-426c-8008-3480954e10ee",
   "metadata": {},
   "outputs": [],
   "source": [
    "data[c] = data['p'] < alpha"
   ]
  },
  {
   "cell_type": "markdown",
   "id": "8bcdd65c-04db-4f54-aa6f-1df933ef7951",
   "metadata": {},
   "source": [
    "> `Which items differ significantly using α=0.05.?`"
   ]
  },
  {
   "cell_type": "code",
   "execution_count": 18,
   "id": "b202eb0a-99cb-4394-a7de-8b79359a30d6",
   "metadata": {},
   "outputs": [
    {
     "data": {
      "text/html": [
       "<div>\n",
       "<style scoped>\n",
       "    .dataframe tbody tr th:only-of-type {\n",
       "        vertical-align: middle;\n",
       "    }\n",
       "\n",
       "    .dataframe tbody tr th {\n",
       "        vertical-align: top;\n",
       "    }\n",
       "\n",
       "    .dataframe thead th {\n",
       "        text-align: right;\n",
       "    }\n",
       "</style>\n",
       "<table border=\"1\" class=\"dataframe\">\n",
       "  <thead>\n",
       "    <tr style=\"text-align: right;\">\n",
       "      <th></th>\n",
       "      <th>ItemNr</th>\n",
       "      <th>PopulationEffect</th>\n",
       "      <th>MeanGroup1</th>\n",
       "      <th>SDGroup1</th>\n",
       "      <th>MeanGroup2</th>\n",
       "      <th>SDGroup2</th>\n",
       "      <th>p</th>\n",
       "      <th>n_c</th>\n",
       "    </tr>\n",
       "  </thead>\n",
       "  <tbody>\n",
       "    <tr>\n",
       "      <th>0</th>\n",
       "      <td>4</td>\n",
       "      <td>1</td>\n",
       "      <td>6.621659</td>\n",
       "      <td>83.492126</td>\n",
       "      <td>58.531006</td>\n",
       "      <td>89.420670</td>\n",
       "      <td>0.003420</td>\n",
       "      <td>True</td>\n",
       "    </tr>\n",
       "    <tr>\n",
       "      <th>1</th>\n",
       "      <td>7</td>\n",
       "      <td>1</td>\n",
       "      <td>6.962812</td>\n",
       "      <td>96.066891</td>\n",
       "      <td>-35.132100</td>\n",
       "      <td>82.916984</td>\n",
       "      <td>0.021014</td>\n",
       "      <td>True</td>\n",
       "    </tr>\n",
       "    <tr>\n",
       "      <th>2</th>\n",
       "      <td>8</td>\n",
       "      <td>1</td>\n",
       "      <td>-5.045829</td>\n",
       "      <td>105.239143</td>\n",
       "      <td>35.892766</td>\n",
       "      <td>99.306192</td>\n",
       "      <td>0.048202</td>\n",
       "      <td>True</td>\n",
       "    </tr>\n",
       "    <tr>\n",
       "      <th>3</th>\n",
       "      <td>15</td>\n",
       "      <td>1</td>\n",
       "      <td>-9.250379</td>\n",
       "      <td>105.470703</td>\n",
       "      <td>-62.162545</td>\n",
       "      <td>99.005903</td>\n",
       "      <td>0.011169</td>\n",
       "      <td>True</td>\n",
       "    </tr>\n",
       "    <tr>\n",
       "      <th>4</th>\n",
       "      <td>17</td>\n",
       "      <td>1</td>\n",
       "      <td>5.176001</td>\n",
       "      <td>105.475429</td>\n",
       "      <td>-41.249891</td>\n",
       "      <td>79.441165</td>\n",
       "      <td>0.014606</td>\n",
       "      <td>True</td>\n",
       "    </tr>\n",
       "    <tr>\n",
       "      <th>5</th>\n",
       "      <td>19</td>\n",
       "      <td>1</td>\n",
       "      <td>-7.216715</td>\n",
       "      <td>126.894245</td>\n",
       "      <td>55.354562</td>\n",
       "      <td>99.668515</td>\n",
       "      <td>0.007259</td>\n",
       "      <td>True</td>\n",
       "    </tr>\n",
       "    <tr>\n",
       "      <th>6</th>\n",
       "      <td>22</td>\n",
       "      <td>1</td>\n",
       "      <td>10.473582</td>\n",
       "      <td>117.295995</td>\n",
       "      <td>-58.314360</td>\n",
       "      <td>99.941405</td>\n",
       "      <td>0.002122</td>\n",
       "      <td>True</td>\n",
       "    </tr>\n",
       "    <tr>\n",
       "      <th>7</th>\n",
       "      <td>27</td>\n",
       "      <td>1</td>\n",
       "      <td>-18.063857</td>\n",
       "      <td>90.477102</td>\n",
       "      <td>55.642084</td>\n",
       "      <td>102.978673</td>\n",
       "      <td>0.000249</td>\n",
       "      <td>True</td>\n",
       "    </tr>\n",
       "    <tr>\n",
       "      <th>8</th>\n",
       "      <td>30</td>\n",
       "      <td>1</td>\n",
       "      <td>16.420660</td>\n",
       "      <td>110.055172</td>\n",
       "      <td>-62.918949</td>\n",
       "      <td>98.684516</td>\n",
       "      <td>0.000255</td>\n",
       "      <td>True</td>\n",
       "    </tr>\n",
       "    <tr>\n",
       "      <th>9</th>\n",
       "      <td>37</td>\n",
       "      <td>0</td>\n",
       "      <td>33.910796</td>\n",
       "      <td>90.518823</td>\n",
       "      <td>-10.815471</td>\n",
       "      <td>90.254361</td>\n",
       "      <td>0.015074</td>\n",
       "      <td>True</td>\n",
       "    </tr>\n",
       "  </tbody>\n",
       "</table>\n",
       "</div>"
      ],
      "text/plain": [
       "   ItemNr  PopulationEffect  MeanGroup1    SDGroup1  MeanGroup2    SDGroup2  \\\n",
       "0       4                 1    6.621659   83.492126   58.531006   89.420670   \n",
       "1       7                 1    6.962812   96.066891  -35.132100   82.916984   \n",
       "2       8                 1   -5.045829  105.239143   35.892766   99.306192   \n",
       "3      15                 1   -9.250379  105.470703  -62.162545   99.005903   \n",
       "4      17                 1    5.176001  105.475429  -41.249891   79.441165   \n",
       "5      19                 1   -7.216715  126.894245   55.354562   99.668515   \n",
       "6      22                 1   10.473582  117.295995  -58.314360   99.941405   \n",
       "7      27                 1  -18.063857   90.477102   55.642084  102.978673   \n",
       "8      30                 1   16.420660  110.055172  -62.918949   98.684516   \n",
       "9      37                 0   33.910796   90.518823  -10.815471   90.254361   \n",
       "\n",
       "          p   n_c  \n",
       "0  0.003420  True  \n",
       "1  0.021014  True  \n",
       "2  0.048202  True  \n",
       "3  0.011169  True  \n",
       "4  0.014606  True  \n",
       "5  0.007259  True  \n",
       "6  0.002122  True  \n",
       "7  0.000249  True  \n",
       "8  0.000255  True  \n",
       "9  0.015074  True  "
      ]
     },
     "execution_count": 18,
     "metadata": {},
     "output_type": "execute_result"
    }
   ],
   "source": [
    "data.loc[data[c]].sort_values('ItemNr', ignore_index=True)"
   ]
  },
  {
   "cell_type": "markdown",
   "id": "fc1052ca-ca2e-4690-9a4e-0b681209845a",
   "metadata": {},
   "source": [
    "> `How many items are false positives? Which items?`"
   ]
  },
  {
   "cell_type": "code",
   "execution_count": 19,
   "id": "2d6ab8aa-d80d-4183-99b2-3cb76755f6ac",
   "metadata": {},
   "outputs": [
    {
     "data": {
      "text/html": [
       "<div>\n",
       "<style scoped>\n",
       "    .dataframe tbody tr th:only-of-type {\n",
       "        vertical-align: middle;\n",
       "    }\n",
       "\n",
       "    .dataframe tbody tr th {\n",
       "        vertical-align: top;\n",
       "    }\n",
       "\n",
       "    .dataframe thead th {\n",
       "        text-align: right;\n",
       "    }\n",
       "</style>\n",
       "<table border=\"1\" class=\"dataframe\">\n",
       "  <thead>\n",
       "    <tr style=\"text-align: right;\">\n",
       "      <th></th>\n",
       "      <th>ItemNr</th>\n",
       "      <th>PopulationEffect</th>\n",
       "      <th>MeanGroup1</th>\n",
       "      <th>SDGroup1</th>\n",
       "      <th>MeanGroup2</th>\n",
       "      <th>SDGroup2</th>\n",
       "      <th>p</th>\n",
       "      <th>n_c</th>\n",
       "    </tr>\n",
       "  </thead>\n",
       "  <tbody>\n",
       "    <tr>\n",
       "      <th>0</th>\n",
       "      <td>37</td>\n",
       "      <td>0</td>\n",
       "      <td>33.910796</td>\n",
       "      <td>90.518823</td>\n",
       "      <td>-10.815471</td>\n",
       "      <td>90.254361</td>\n",
       "      <td>0.015074</td>\n",
       "      <td>True</td>\n",
       "    </tr>\n",
       "  </tbody>\n",
       "</table>\n",
       "</div>"
      ],
      "text/plain": [
       "   ItemNr  PopulationEffect  MeanGroup1   SDGroup1  MeanGroup2   SDGroup2  \\\n",
       "0      37                 0   33.910796  90.518823  -10.815471  90.254361   \n",
       "\n",
       "          p   n_c  \n",
       "0  0.015074  True  "
      ]
     },
     "execution_count": 19,
     "metadata": {},
     "output_type": "execute_result"
    }
   ],
   "source": [
    "data.loc[data[c] & ~data['PopulationEffect']].sort_values('ItemNr', ignore_index=True)"
   ]
  },
  {
   "cell_type": "markdown",
   "id": "cb63f063-9660-49a4-b515-9b8f378e591a",
   "metadata": {},
   "source": [
    "> `How many items are false negatives? Which items?`"
   ]
  },
  {
   "cell_type": "code",
   "execution_count": 20,
   "id": "72efda3e-eee7-468f-af90-eb495277d0e8",
   "metadata": {},
   "outputs": [
    {
     "data": {
      "text/html": [
       "<div>\n",
       "<style scoped>\n",
       "    .dataframe tbody tr th:only-of-type {\n",
       "        vertical-align: middle;\n",
       "    }\n",
       "\n",
       "    .dataframe tbody tr th {\n",
       "        vertical-align: top;\n",
       "    }\n",
       "\n",
       "    .dataframe thead th {\n",
       "        text-align: right;\n",
       "    }\n",
       "</style>\n",
       "<table border=\"1\" class=\"dataframe\">\n",
       "  <thead>\n",
       "    <tr style=\"text-align: right;\">\n",
       "      <th></th>\n",
       "      <th>ItemNr</th>\n",
       "      <th>PopulationEffect</th>\n",
       "      <th>MeanGroup1</th>\n",
       "      <th>SDGroup1</th>\n",
       "      <th>MeanGroup2</th>\n",
       "      <th>SDGroup2</th>\n",
       "      <th>p</th>\n",
       "      <th>n_c</th>\n",
       "    </tr>\n",
       "  </thead>\n",
       "  <tbody>\n",
       "    <tr>\n",
       "      <th>0</th>\n",
       "      <td>3</td>\n",
       "      <td>1</td>\n",
       "      <td>-15.747061</td>\n",
       "      <td>102.164439</td>\n",
       "      <td>-34.091446</td>\n",
       "      <td>93.417503</td>\n",
       "      <td>0.351061</td>\n",
       "      <td>False</td>\n",
       "    </tr>\n",
       "  </tbody>\n",
       "</table>\n",
       "</div>"
      ],
      "text/plain": [
       "   ItemNr  PopulationEffect  MeanGroup1    SDGroup1  MeanGroup2   SDGroup2  \\\n",
       "0       3                 1  -15.747061  102.164439  -34.091446  93.417503   \n",
       "\n",
       "          p    n_c  \n",
       "0  0.351061  False  "
      ]
     },
     "execution_count": 20,
     "metadata": {},
     "output_type": "execute_result"
    }
   ],
   "source": [
    "data.loc[~data[c] & data['PopulationEffect']].sort_values('ItemNr', ignore_index=True)"
   ]
  },
  {
   "cell_type": "markdown",
   "id": "f764c9f9-4dad-49c4-963a-eec4709907ec",
   "metadata": {
    "tags": []
   },
   "source": [
    "### `2. Bonferroni FWE Correction`"
   ]
  },
  {
   "cell_type": "code",
   "execution_count": 21,
   "id": "0e065565-5b84-44f8-a825-c130cce48246",
   "metadata": {},
   "outputs": [],
   "source": [
    "c = 'bfwe_c'"
   ]
  },
  {
   "cell_type": "code",
   "execution_count": 22,
   "id": "d7588482-0786-495d-8d84-e65b3964d362",
   "metadata": {},
   "outputs": [],
   "source": [
    "data[c] = data['p'] < alpha/data.shape[0]"
   ]
  },
  {
   "cell_type": "code",
   "execution_count": 23,
   "id": "850624eb-f428-4029-b28b-8fd211ff4138",
   "metadata": {},
   "outputs": [
    {
     "data": {
      "text/html": [
       "\n",
       "        <div class='alert alert-block alert-success'>\n",
       "            \n",
       "            \\begin{align*}\\alpha = 0.00125\\end{align*}\n",
       "        </div>\n",
       "    "
      ],
      "text/plain": [
       "<IPython.core.display.HTML object>"
      ]
     },
     "metadata": {},
     "output_type": "display_data"
    }
   ],
   "source": [
    "pprint(ltxt=f\"\\\\alpha = {alpha/data.shape[0]:.5f}\")"
   ]
  },
  {
   "cell_type": "markdown",
   "id": "211fa48f-be73-48a0-8e44-1ea34fcde224",
   "metadata": {},
   "source": [
    "> `Which items differ significantly using α=0.05.?`"
   ]
  },
  {
   "cell_type": "code",
   "execution_count": 24,
   "id": "8f52fd55-e704-4e96-a2f1-e4f341c471bd",
   "metadata": {},
   "outputs": [
    {
     "data": {
      "text/html": [
       "<div>\n",
       "<style scoped>\n",
       "    .dataframe tbody tr th:only-of-type {\n",
       "        vertical-align: middle;\n",
       "    }\n",
       "\n",
       "    .dataframe tbody tr th {\n",
       "        vertical-align: top;\n",
       "    }\n",
       "\n",
       "    .dataframe thead th {\n",
       "        text-align: right;\n",
       "    }\n",
       "</style>\n",
       "<table border=\"1\" class=\"dataframe\">\n",
       "  <thead>\n",
       "    <tr style=\"text-align: right;\">\n",
       "      <th></th>\n",
       "      <th>ItemNr</th>\n",
       "      <th>PopulationEffect</th>\n",
       "      <th>MeanGroup1</th>\n",
       "      <th>SDGroup1</th>\n",
       "      <th>MeanGroup2</th>\n",
       "      <th>SDGroup2</th>\n",
       "      <th>p</th>\n",
       "      <th>n_c</th>\n",
       "      <th>bfwe_c</th>\n",
       "    </tr>\n",
       "  </thead>\n",
       "  <tbody>\n",
       "    <tr>\n",
       "      <th>0</th>\n",
       "      <td>27</td>\n",
       "      <td>1</td>\n",
       "      <td>-18.063857</td>\n",
       "      <td>90.477102</td>\n",
       "      <td>55.642084</td>\n",
       "      <td>102.978673</td>\n",
       "      <td>0.000249</td>\n",
       "      <td>True</td>\n",
       "      <td>True</td>\n",
       "    </tr>\n",
       "    <tr>\n",
       "      <th>1</th>\n",
       "      <td>30</td>\n",
       "      <td>1</td>\n",
       "      <td>16.420660</td>\n",
       "      <td>110.055172</td>\n",
       "      <td>-62.918949</td>\n",
       "      <td>98.684516</td>\n",
       "      <td>0.000255</td>\n",
       "      <td>True</td>\n",
       "      <td>True</td>\n",
       "    </tr>\n",
       "  </tbody>\n",
       "</table>\n",
       "</div>"
      ],
      "text/plain": [
       "   ItemNr  PopulationEffect  MeanGroup1    SDGroup1  MeanGroup2    SDGroup2  \\\n",
       "0      27                 1  -18.063857   90.477102   55.642084  102.978673   \n",
       "1      30                 1   16.420660  110.055172  -62.918949   98.684516   \n",
       "\n",
       "          p   n_c  bfwe_c  \n",
       "0  0.000249  True    True  \n",
       "1  0.000255  True    True  "
      ]
     },
     "execution_count": 24,
     "metadata": {},
     "output_type": "execute_result"
    }
   ],
   "source": [
    "data.loc[data[c]].sort_values('ItemNr', ignore_index=True)"
   ]
  },
  {
   "cell_type": "markdown",
   "id": "e89d95ef-9be5-493c-be70-e2e7f71b950b",
   "metadata": {},
   "source": [
    "> `How many items are false positives? Which items?`"
   ]
  },
  {
   "cell_type": "code",
   "execution_count": 25,
   "id": "e7d08239-1014-43ac-b7e9-bf4118565920",
   "metadata": {},
   "outputs": [
    {
     "data": {
      "text/html": [
       "<div>\n",
       "<style scoped>\n",
       "    .dataframe tbody tr th:only-of-type {\n",
       "        vertical-align: middle;\n",
       "    }\n",
       "\n",
       "    .dataframe tbody tr th {\n",
       "        vertical-align: top;\n",
       "    }\n",
       "\n",
       "    .dataframe thead th {\n",
       "        text-align: right;\n",
       "    }\n",
       "</style>\n",
       "<table border=\"1\" class=\"dataframe\">\n",
       "  <thead>\n",
       "    <tr style=\"text-align: right;\">\n",
       "      <th></th>\n",
       "      <th>ItemNr</th>\n",
       "      <th>PopulationEffect</th>\n",
       "      <th>MeanGroup1</th>\n",
       "      <th>SDGroup1</th>\n",
       "      <th>MeanGroup2</th>\n",
       "      <th>SDGroup2</th>\n",
       "      <th>p</th>\n",
       "      <th>n_c</th>\n",
       "      <th>bfwe_c</th>\n",
       "    </tr>\n",
       "  </thead>\n",
       "  <tbody>\n",
       "  </tbody>\n",
       "</table>\n",
       "</div>"
      ],
      "text/plain": [
       "Empty DataFrame\n",
       "Columns: [ItemNr, PopulationEffect, MeanGroup1, SDGroup1, MeanGroup2, SDGroup2, p, n_c, bfwe_c]\n",
       "Index: []"
      ]
     },
     "execution_count": 25,
     "metadata": {},
     "output_type": "execute_result"
    }
   ],
   "source": [
    "data.loc[data[c] & ~data['PopulationEffect']].sort_values('ItemNr', ignore_index=True)"
   ]
  },
  {
   "cell_type": "markdown",
   "id": "afc97738-bcf4-4fcb-a14f-377a95100ca5",
   "metadata": {},
   "source": [
    "> `How many items are false negatives? Which items?`"
   ]
  },
  {
   "cell_type": "code",
   "execution_count": 26,
   "id": "5a000c53-762a-4cbd-ac51-c7357f90b235",
   "metadata": {},
   "outputs": [
    {
     "data": {
      "text/html": [
       "<div>\n",
       "<style scoped>\n",
       "    .dataframe tbody tr th:only-of-type {\n",
       "        vertical-align: middle;\n",
       "    }\n",
       "\n",
       "    .dataframe tbody tr th {\n",
       "        vertical-align: top;\n",
       "    }\n",
       "\n",
       "    .dataframe thead th {\n",
       "        text-align: right;\n",
       "    }\n",
       "</style>\n",
       "<table border=\"1\" class=\"dataframe\">\n",
       "  <thead>\n",
       "    <tr style=\"text-align: right;\">\n",
       "      <th></th>\n",
       "      <th>ItemNr</th>\n",
       "      <th>PopulationEffect</th>\n",
       "      <th>MeanGroup1</th>\n",
       "      <th>SDGroup1</th>\n",
       "      <th>MeanGroup2</th>\n",
       "      <th>SDGroup2</th>\n",
       "      <th>p</th>\n",
       "      <th>n_c</th>\n",
       "      <th>bfwe_c</th>\n",
       "    </tr>\n",
       "  </thead>\n",
       "  <tbody>\n",
       "    <tr>\n",
       "      <th>0</th>\n",
       "      <td>3</td>\n",
       "      <td>1</td>\n",
       "      <td>-15.747061</td>\n",
       "      <td>102.164439</td>\n",
       "      <td>-34.091446</td>\n",
       "      <td>93.417503</td>\n",
       "      <td>0.351061</td>\n",
       "      <td>False</td>\n",
       "      <td>False</td>\n",
       "    </tr>\n",
       "    <tr>\n",
       "      <th>1</th>\n",
       "      <td>4</td>\n",
       "      <td>1</td>\n",
       "      <td>6.621659</td>\n",
       "      <td>83.492126</td>\n",
       "      <td>58.531006</td>\n",
       "      <td>89.420670</td>\n",
       "      <td>0.003420</td>\n",
       "      <td>True</td>\n",
       "      <td>False</td>\n",
       "    </tr>\n",
       "    <tr>\n",
       "      <th>2</th>\n",
       "      <td>7</td>\n",
       "      <td>1</td>\n",
       "      <td>6.962812</td>\n",
       "      <td>96.066891</td>\n",
       "      <td>-35.132100</td>\n",
       "      <td>82.916984</td>\n",
       "      <td>0.021014</td>\n",
       "      <td>True</td>\n",
       "      <td>False</td>\n",
       "    </tr>\n",
       "    <tr>\n",
       "      <th>3</th>\n",
       "      <td>8</td>\n",
       "      <td>1</td>\n",
       "      <td>-5.045829</td>\n",
       "      <td>105.239143</td>\n",
       "      <td>35.892766</td>\n",
       "      <td>99.306192</td>\n",
       "      <td>0.048202</td>\n",
       "      <td>True</td>\n",
       "      <td>False</td>\n",
       "    </tr>\n",
       "    <tr>\n",
       "      <th>4</th>\n",
       "      <td>15</td>\n",
       "      <td>1</td>\n",
       "      <td>-9.250379</td>\n",
       "      <td>105.470703</td>\n",
       "      <td>-62.162545</td>\n",
       "      <td>99.005903</td>\n",
       "      <td>0.011169</td>\n",
       "      <td>True</td>\n",
       "      <td>False</td>\n",
       "    </tr>\n",
       "    <tr>\n",
       "      <th>5</th>\n",
       "      <td>17</td>\n",
       "      <td>1</td>\n",
       "      <td>5.176001</td>\n",
       "      <td>105.475429</td>\n",
       "      <td>-41.249891</td>\n",
       "      <td>79.441165</td>\n",
       "      <td>0.014606</td>\n",
       "      <td>True</td>\n",
       "      <td>False</td>\n",
       "    </tr>\n",
       "    <tr>\n",
       "      <th>6</th>\n",
       "      <td>19</td>\n",
       "      <td>1</td>\n",
       "      <td>-7.216715</td>\n",
       "      <td>126.894245</td>\n",
       "      <td>55.354562</td>\n",
       "      <td>99.668515</td>\n",
       "      <td>0.007259</td>\n",
       "      <td>True</td>\n",
       "      <td>False</td>\n",
       "    </tr>\n",
       "    <tr>\n",
       "      <th>7</th>\n",
       "      <td>22</td>\n",
       "      <td>1</td>\n",
       "      <td>10.473582</td>\n",
       "      <td>117.295995</td>\n",
       "      <td>-58.314360</td>\n",
       "      <td>99.941405</td>\n",
       "      <td>0.002122</td>\n",
       "      <td>True</td>\n",
       "      <td>False</td>\n",
       "    </tr>\n",
       "  </tbody>\n",
       "</table>\n",
       "</div>"
      ],
      "text/plain": [
       "   ItemNr  PopulationEffect  MeanGroup1    SDGroup1  MeanGroup2   SDGroup2  \\\n",
       "0       3                 1  -15.747061  102.164439  -34.091446  93.417503   \n",
       "1       4                 1    6.621659   83.492126   58.531006  89.420670   \n",
       "2       7                 1    6.962812   96.066891  -35.132100  82.916984   \n",
       "3       8                 1   -5.045829  105.239143   35.892766  99.306192   \n",
       "4      15                 1   -9.250379  105.470703  -62.162545  99.005903   \n",
       "5      17                 1    5.176001  105.475429  -41.249891  79.441165   \n",
       "6      19                 1   -7.216715  126.894245   55.354562  99.668515   \n",
       "7      22                 1   10.473582  117.295995  -58.314360  99.941405   \n",
       "\n",
       "          p    n_c  bfwe_c  \n",
       "0  0.351061  False   False  \n",
       "1  0.003420   True   False  \n",
       "2  0.021014   True   False  \n",
       "3  0.048202   True   False  \n",
       "4  0.011169   True   False  \n",
       "5  0.014606   True   False  \n",
       "6  0.007259   True   False  \n",
       "7  0.002122   True   False  "
      ]
     },
     "execution_count": 26,
     "metadata": {},
     "output_type": "execute_result"
    }
   ],
   "source": [
    "data.loc[~data[c] & data['PopulationEffect']].sort_values('ItemNr', ignore_index=True)"
   ]
  },
  {
   "cell_type": "markdown",
   "id": "d244114b-105a-493c-af76-76d620819cf3",
   "metadata": {},
   "source": [
    "### `3. Bonferroni-Holm FWE Correction`"
   ]
  },
  {
   "cell_type": "code",
   "execution_count": 27,
   "id": "e17be201-4d7e-4549-b077-b5c24759cacf",
   "metadata": {},
   "outputs": [],
   "source": [
    "c = 'bhfwe_c'"
   ]
  },
  {
   "cell_type": "code",
   "execution_count": 28,
   "id": "50daea91-b296-455c-8700-d00d3b66ecda",
   "metadata": {},
   "outputs": [],
   "source": [
    "data = data.sort_values('p', ignore_index=True) # Sort table in ascending order of significances\n",
    "# Bonferroni-Holm iteration without EXIT\n",
    "data[c] = [h['p'] < alpha/(data.shape[0] - i) for i, h in data.iterrows()]\n",
    "# Account for the EXIT condition in separate step by carrying over a rejection to the subsequent/following hypotheses\n",
    "data[c] = [h[c] & (data[c][i-1] if i else True) for i, h in data.iterrows()]"
   ]
  },
  {
   "cell_type": "code",
   "execution_count": 29,
   "id": "1cfecd99-d078-43b8-97d1-b2d1764ae421",
   "metadata": {},
   "outputs": [
    {
     "data": {
      "text/html": [
       "\n",
       "        <div class='alert alert-block alert-success'>\n",
       "            \n",
       "            \\begin{align*}\\alpha = 0.00132\\end{align*}\n",
       "        </div>\n",
       "    "
      ],
      "text/plain": [
       "<IPython.core.display.HTML object>"
      ]
     },
     "metadata": {},
     "output_type": "display_data"
    }
   ],
   "source": [
    "pprint(ltxt=f\"\\\\alpha = {alpha/(data.shape[0] - data.loc[~data[c]].index[0]):.5f}\")"
   ]
  },
  {
   "cell_type": "markdown",
   "id": "058d4a62-7419-4324-8758-a4c02eca603a",
   "metadata": {},
   "source": [
    "> `Which items differ significantly using α=0.05.?`"
   ]
  },
  {
   "cell_type": "code",
   "execution_count": 30,
   "id": "63383dda-e767-42ab-b898-e547008eb893",
   "metadata": {},
   "outputs": [
    {
     "data": {
      "text/html": [
       "<div>\n",
       "<style scoped>\n",
       "    .dataframe tbody tr th:only-of-type {\n",
       "        vertical-align: middle;\n",
       "    }\n",
       "\n",
       "    .dataframe tbody tr th {\n",
       "        vertical-align: top;\n",
       "    }\n",
       "\n",
       "    .dataframe thead th {\n",
       "        text-align: right;\n",
       "    }\n",
       "</style>\n",
       "<table border=\"1\" class=\"dataframe\">\n",
       "  <thead>\n",
       "    <tr style=\"text-align: right;\">\n",
       "      <th></th>\n",
       "      <th>ItemNr</th>\n",
       "      <th>PopulationEffect</th>\n",
       "      <th>MeanGroup1</th>\n",
       "      <th>SDGroup1</th>\n",
       "      <th>MeanGroup2</th>\n",
       "      <th>SDGroup2</th>\n",
       "      <th>p</th>\n",
       "      <th>n_c</th>\n",
       "      <th>bfwe_c</th>\n",
       "      <th>bhfwe_c</th>\n",
       "    </tr>\n",
       "  </thead>\n",
       "  <tbody>\n",
       "    <tr>\n",
       "      <th>0</th>\n",
       "      <td>27</td>\n",
       "      <td>1</td>\n",
       "      <td>-18.063857</td>\n",
       "      <td>90.477102</td>\n",
       "      <td>55.642084</td>\n",
       "      <td>102.978673</td>\n",
       "      <td>0.000249</td>\n",
       "      <td>True</td>\n",
       "      <td>True</td>\n",
       "      <td>True</td>\n",
       "    </tr>\n",
       "    <tr>\n",
       "      <th>1</th>\n",
       "      <td>30</td>\n",
       "      <td>1</td>\n",
       "      <td>16.420660</td>\n",
       "      <td>110.055172</td>\n",
       "      <td>-62.918949</td>\n",
       "      <td>98.684516</td>\n",
       "      <td>0.000255</td>\n",
       "      <td>True</td>\n",
       "      <td>True</td>\n",
       "      <td>True</td>\n",
       "    </tr>\n",
       "  </tbody>\n",
       "</table>\n",
       "</div>"
      ],
      "text/plain": [
       "   ItemNr  PopulationEffect  MeanGroup1    SDGroup1  MeanGroup2    SDGroup2  \\\n",
       "0      27                 1  -18.063857   90.477102   55.642084  102.978673   \n",
       "1      30                 1   16.420660  110.055172  -62.918949   98.684516   \n",
       "\n",
       "          p   n_c  bfwe_c  bhfwe_c  \n",
       "0  0.000249  True    True     True  \n",
       "1  0.000255  True    True     True  "
      ]
     },
     "execution_count": 30,
     "metadata": {},
     "output_type": "execute_result"
    }
   ],
   "source": [
    "data.loc[data[c]].sort_values('ItemNr', ignore_index=True)"
   ]
  },
  {
   "cell_type": "markdown",
   "id": "e4f098c7-9b4f-4f7b-a8f6-d87675d95ce5",
   "metadata": {},
   "source": [
    "> `How many items are false positives? Which items?`"
   ]
  },
  {
   "cell_type": "code",
   "execution_count": 31,
   "id": "d2aaae34-6b2f-4348-92db-5a78a7314866",
   "metadata": {},
   "outputs": [
    {
     "data": {
      "text/html": [
       "<div>\n",
       "<style scoped>\n",
       "    .dataframe tbody tr th:only-of-type {\n",
       "        vertical-align: middle;\n",
       "    }\n",
       "\n",
       "    .dataframe tbody tr th {\n",
       "        vertical-align: top;\n",
       "    }\n",
       "\n",
       "    .dataframe thead th {\n",
       "        text-align: right;\n",
       "    }\n",
       "</style>\n",
       "<table border=\"1\" class=\"dataframe\">\n",
       "  <thead>\n",
       "    <tr style=\"text-align: right;\">\n",
       "      <th></th>\n",
       "      <th>ItemNr</th>\n",
       "      <th>PopulationEffect</th>\n",
       "      <th>MeanGroup1</th>\n",
       "      <th>SDGroup1</th>\n",
       "      <th>MeanGroup2</th>\n",
       "      <th>SDGroup2</th>\n",
       "      <th>p</th>\n",
       "      <th>n_c</th>\n",
       "      <th>bfwe_c</th>\n",
       "      <th>bhfwe_c</th>\n",
       "    </tr>\n",
       "  </thead>\n",
       "  <tbody>\n",
       "  </tbody>\n",
       "</table>\n",
       "</div>"
      ],
      "text/plain": [
       "Empty DataFrame\n",
       "Columns: [ItemNr, PopulationEffect, MeanGroup1, SDGroup1, MeanGroup2, SDGroup2, p, n_c, bfwe_c, bhfwe_c]\n",
       "Index: []"
      ]
     },
     "execution_count": 31,
     "metadata": {},
     "output_type": "execute_result"
    }
   ],
   "source": [
    "data.loc[data[c] & ~data['PopulationEffect']].sort_values('ItemNr', ignore_index=True)"
   ]
  },
  {
   "cell_type": "markdown",
   "id": "09a489c9-761d-44a6-ab32-cbd1e84a981b",
   "metadata": {},
   "source": [
    "> `How many items are false negatives? Which items?`"
   ]
  },
  {
   "cell_type": "code",
   "execution_count": 32,
   "id": "ff24a4b0-0e1c-42ef-99c0-2ba573ef192b",
   "metadata": {},
   "outputs": [
    {
     "data": {
      "text/html": [
       "<div>\n",
       "<style scoped>\n",
       "    .dataframe tbody tr th:only-of-type {\n",
       "        vertical-align: middle;\n",
       "    }\n",
       "\n",
       "    .dataframe tbody tr th {\n",
       "        vertical-align: top;\n",
       "    }\n",
       "\n",
       "    .dataframe thead th {\n",
       "        text-align: right;\n",
       "    }\n",
       "</style>\n",
       "<table border=\"1\" class=\"dataframe\">\n",
       "  <thead>\n",
       "    <tr style=\"text-align: right;\">\n",
       "      <th></th>\n",
       "      <th>ItemNr</th>\n",
       "      <th>PopulationEffect</th>\n",
       "      <th>MeanGroup1</th>\n",
       "      <th>SDGroup1</th>\n",
       "      <th>MeanGroup2</th>\n",
       "      <th>SDGroup2</th>\n",
       "      <th>p</th>\n",
       "      <th>n_c</th>\n",
       "      <th>bfwe_c</th>\n",
       "      <th>bhfwe_c</th>\n",
       "    </tr>\n",
       "  </thead>\n",
       "  <tbody>\n",
       "    <tr>\n",
       "      <th>0</th>\n",
       "      <td>3</td>\n",
       "      <td>1</td>\n",
       "      <td>-15.747061</td>\n",
       "      <td>102.164439</td>\n",
       "      <td>-34.091446</td>\n",
       "      <td>93.417503</td>\n",
       "      <td>0.351061</td>\n",
       "      <td>False</td>\n",
       "      <td>False</td>\n",
       "      <td>False</td>\n",
       "    </tr>\n",
       "    <tr>\n",
       "      <th>1</th>\n",
       "      <td>4</td>\n",
       "      <td>1</td>\n",
       "      <td>6.621659</td>\n",
       "      <td>83.492126</td>\n",
       "      <td>58.531006</td>\n",
       "      <td>89.420670</td>\n",
       "      <td>0.003420</td>\n",
       "      <td>True</td>\n",
       "      <td>False</td>\n",
       "      <td>False</td>\n",
       "    </tr>\n",
       "    <tr>\n",
       "      <th>2</th>\n",
       "      <td>7</td>\n",
       "      <td>1</td>\n",
       "      <td>6.962812</td>\n",
       "      <td>96.066891</td>\n",
       "      <td>-35.132100</td>\n",
       "      <td>82.916984</td>\n",
       "      <td>0.021014</td>\n",
       "      <td>True</td>\n",
       "      <td>False</td>\n",
       "      <td>False</td>\n",
       "    </tr>\n",
       "    <tr>\n",
       "      <th>3</th>\n",
       "      <td>8</td>\n",
       "      <td>1</td>\n",
       "      <td>-5.045829</td>\n",
       "      <td>105.239143</td>\n",
       "      <td>35.892766</td>\n",
       "      <td>99.306192</td>\n",
       "      <td>0.048202</td>\n",
       "      <td>True</td>\n",
       "      <td>False</td>\n",
       "      <td>False</td>\n",
       "    </tr>\n",
       "    <tr>\n",
       "      <th>4</th>\n",
       "      <td>15</td>\n",
       "      <td>1</td>\n",
       "      <td>-9.250379</td>\n",
       "      <td>105.470703</td>\n",
       "      <td>-62.162545</td>\n",
       "      <td>99.005903</td>\n",
       "      <td>0.011169</td>\n",
       "      <td>True</td>\n",
       "      <td>False</td>\n",
       "      <td>False</td>\n",
       "    </tr>\n",
       "    <tr>\n",
       "      <th>5</th>\n",
       "      <td>17</td>\n",
       "      <td>1</td>\n",
       "      <td>5.176001</td>\n",
       "      <td>105.475429</td>\n",
       "      <td>-41.249891</td>\n",
       "      <td>79.441165</td>\n",
       "      <td>0.014606</td>\n",
       "      <td>True</td>\n",
       "      <td>False</td>\n",
       "      <td>False</td>\n",
       "    </tr>\n",
       "    <tr>\n",
       "      <th>6</th>\n",
       "      <td>19</td>\n",
       "      <td>1</td>\n",
       "      <td>-7.216715</td>\n",
       "      <td>126.894245</td>\n",
       "      <td>55.354562</td>\n",
       "      <td>99.668515</td>\n",
       "      <td>0.007259</td>\n",
       "      <td>True</td>\n",
       "      <td>False</td>\n",
       "      <td>False</td>\n",
       "    </tr>\n",
       "    <tr>\n",
       "      <th>7</th>\n",
       "      <td>22</td>\n",
       "      <td>1</td>\n",
       "      <td>10.473582</td>\n",
       "      <td>117.295995</td>\n",
       "      <td>-58.314360</td>\n",
       "      <td>99.941405</td>\n",
       "      <td>0.002122</td>\n",
       "      <td>True</td>\n",
       "      <td>False</td>\n",
       "      <td>False</td>\n",
       "    </tr>\n",
       "  </tbody>\n",
       "</table>\n",
       "</div>"
      ],
      "text/plain": [
       "   ItemNr  PopulationEffect  MeanGroup1    SDGroup1  MeanGroup2   SDGroup2  \\\n",
       "0       3                 1  -15.747061  102.164439  -34.091446  93.417503   \n",
       "1       4                 1    6.621659   83.492126   58.531006  89.420670   \n",
       "2       7                 1    6.962812   96.066891  -35.132100  82.916984   \n",
       "3       8                 1   -5.045829  105.239143   35.892766  99.306192   \n",
       "4      15                 1   -9.250379  105.470703  -62.162545  99.005903   \n",
       "5      17                 1    5.176001  105.475429  -41.249891  79.441165   \n",
       "6      19                 1   -7.216715  126.894245   55.354562  99.668515   \n",
       "7      22                 1   10.473582  117.295995  -58.314360  99.941405   \n",
       "\n",
       "          p    n_c  bfwe_c  bhfwe_c  \n",
       "0  0.351061  False   False    False  \n",
       "1  0.003420   True   False    False  \n",
       "2  0.021014   True   False    False  \n",
       "3  0.048202   True   False    False  \n",
       "4  0.011169   True   False    False  \n",
       "5  0.014606   True   False    False  \n",
       "6  0.007259   True   False    False  \n",
       "7  0.002122   True   False    False  "
      ]
     },
     "execution_count": 32,
     "metadata": {},
     "output_type": "execute_result"
    }
   ],
   "source": [
    "data.loc[~data[c] & data['PopulationEffect']].sort_values('ItemNr', ignore_index=True)"
   ]
  },
  {
   "cell_type": "markdown",
   "id": "bfe9a966-b116-46fe-90a8-0a538b79d820",
   "metadata": {},
   "source": [
    "### `4. Bonferroni-Hochberg FDR Correction`"
   ]
  },
  {
   "cell_type": "code",
   "execution_count": 33,
   "id": "df9da2c2-3b25-432f-856f-af1e1c9a626e",
   "metadata": {},
   "outputs": [],
   "source": [
    "c = 'bhfdr_c'"
   ]
  },
  {
   "cell_type": "code",
   "execution_count": 34,
   "id": "b2b29f0c-33e0-4f6f-b4ea-39a521db5949",
   "metadata": {},
   "outputs": [],
   "source": [
    "# data = data.sort_values('p', ignore_index=True) # Sort table in ascending order of significances\n",
    "# Bonferroni-Hochberg iteration\n",
    "data[c] = [h['p'] < alpha*(i+1)/data.shape[0] for i, h in data.iterrows()]"
   ]
  },
  {
   "cell_type": "code",
   "execution_count": 35,
   "id": "4c8773f1-6316-4c1a-b6b7-fc52b5f2f8d5",
   "metadata": {},
   "outputs": [
    {
     "data": {
      "text/html": [
       "\n",
       "        <div class='alert alert-block alert-success'>\n",
       "            \n",
       "            \\begin{align*}\\alpha = 0.00625\\end{align*}\n",
       "        </div>\n",
       "    "
      ],
      "text/plain": [
       "<IPython.core.display.HTML object>"
      ]
     },
     "metadata": {},
     "output_type": "display_data"
    }
   ],
   "source": [
    "pprint(ltxt=f\"\\\\alpha = {alpha*(data.loc[data[c]].index[-1]+2)/data.shape[0]:.5f}\")"
   ]
  },
  {
   "cell_type": "markdown",
   "id": "d226d48f-933b-4c08-b1f4-9aa797a0c8c4",
   "metadata": {},
   "source": [
    "> `Which items differ significantly using α=0.05.?`"
   ]
  },
  {
   "cell_type": "code",
   "execution_count": 36,
   "id": "9a021834-0d25-4898-8f70-c0c8fac53494",
   "metadata": {},
   "outputs": [
    {
     "data": {
      "text/html": [
       "<div>\n",
       "<style scoped>\n",
       "    .dataframe tbody tr th:only-of-type {\n",
       "        vertical-align: middle;\n",
       "    }\n",
       "\n",
       "    .dataframe tbody tr th {\n",
       "        vertical-align: top;\n",
       "    }\n",
       "\n",
       "    .dataframe thead th {\n",
       "        text-align: right;\n",
       "    }\n",
       "</style>\n",
       "<table border=\"1\" class=\"dataframe\">\n",
       "  <thead>\n",
       "    <tr style=\"text-align: right;\">\n",
       "      <th></th>\n",
       "      <th>ItemNr</th>\n",
       "      <th>PopulationEffect</th>\n",
       "      <th>MeanGroup1</th>\n",
       "      <th>SDGroup1</th>\n",
       "      <th>MeanGroup2</th>\n",
       "      <th>SDGroup2</th>\n",
       "      <th>p</th>\n",
       "      <th>n_c</th>\n",
       "      <th>bfwe_c</th>\n",
       "      <th>bhfwe_c</th>\n",
       "      <th>bhfdr_c</th>\n",
       "    </tr>\n",
       "  </thead>\n",
       "  <tbody>\n",
       "    <tr>\n",
       "      <th>0</th>\n",
       "      <td>4</td>\n",
       "      <td>1</td>\n",
       "      <td>6.621659</td>\n",
       "      <td>83.492126</td>\n",
       "      <td>58.531006</td>\n",
       "      <td>89.420670</td>\n",
       "      <td>0.003420</td>\n",
       "      <td>True</td>\n",
       "      <td>False</td>\n",
       "      <td>False</td>\n",
       "      <td>True</td>\n",
       "    </tr>\n",
       "    <tr>\n",
       "      <th>1</th>\n",
       "      <td>22</td>\n",
       "      <td>1</td>\n",
       "      <td>10.473582</td>\n",
       "      <td>117.295995</td>\n",
       "      <td>-58.314360</td>\n",
       "      <td>99.941405</td>\n",
       "      <td>0.002122</td>\n",
       "      <td>True</td>\n",
       "      <td>False</td>\n",
       "      <td>False</td>\n",
       "      <td>True</td>\n",
       "    </tr>\n",
       "    <tr>\n",
       "      <th>2</th>\n",
       "      <td>27</td>\n",
       "      <td>1</td>\n",
       "      <td>-18.063857</td>\n",
       "      <td>90.477102</td>\n",
       "      <td>55.642084</td>\n",
       "      <td>102.978673</td>\n",
       "      <td>0.000249</td>\n",
       "      <td>True</td>\n",
       "      <td>True</td>\n",
       "      <td>True</td>\n",
       "      <td>True</td>\n",
       "    </tr>\n",
       "    <tr>\n",
       "      <th>3</th>\n",
       "      <td>30</td>\n",
       "      <td>1</td>\n",
       "      <td>16.420660</td>\n",
       "      <td>110.055172</td>\n",
       "      <td>-62.918949</td>\n",
       "      <td>98.684516</td>\n",
       "      <td>0.000255</td>\n",
       "      <td>True</td>\n",
       "      <td>True</td>\n",
       "      <td>True</td>\n",
       "      <td>True</td>\n",
       "    </tr>\n",
       "  </tbody>\n",
       "</table>\n",
       "</div>"
      ],
      "text/plain": [
       "   ItemNr  PopulationEffect  MeanGroup1    SDGroup1  MeanGroup2    SDGroup2  \\\n",
       "0       4                 1    6.621659   83.492126   58.531006   89.420670   \n",
       "1      22                 1   10.473582  117.295995  -58.314360   99.941405   \n",
       "2      27                 1  -18.063857   90.477102   55.642084  102.978673   \n",
       "3      30                 1   16.420660  110.055172  -62.918949   98.684516   \n",
       "\n",
       "          p   n_c  bfwe_c  bhfwe_c  bhfdr_c  \n",
       "0  0.003420  True   False    False     True  \n",
       "1  0.002122  True   False    False     True  \n",
       "2  0.000249  True    True     True     True  \n",
       "3  0.000255  True    True     True     True  "
      ]
     },
     "execution_count": 36,
     "metadata": {},
     "output_type": "execute_result"
    }
   ],
   "source": [
    "data.loc[data[c]].sort_values('ItemNr', ignore_index=True)"
   ]
  },
  {
   "cell_type": "markdown",
   "id": "99e74519-97a0-439f-bd2e-c5fbe08fafc4",
   "metadata": {},
   "source": [
    "> `How many items are false positives? Which items?`"
   ]
  },
  {
   "cell_type": "code",
   "execution_count": 37,
   "id": "1d149bbc-daae-492c-b764-d74117a2d761",
   "metadata": {},
   "outputs": [
    {
     "data": {
      "text/html": [
       "<div>\n",
       "<style scoped>\n",
       "    .dataframe tbody tr th:only-of-type {\n",
       "        vertical-align: middle;\n",
       "    }\n",
       "\n",
       "    .dataframe tbody tr th {\n",
       "        vertical-align: top;\n",
       "    }\n",
       "\n",
       "    .dataframe thead th {\n",
       "        text-align: right;\n",
       "    }\n",
       "</style>\n",
       "<table border=\"1\" class=\"dataframe\">\n",
       "  <thead>\n",
       "    <tr style=\"text-align: right;\">\n",
       "      <th></th>\n",
       "      <th>ItemNr</th>\n",
       "      <th>PopulationEffect</th>\n",
       "      <th>MeanGroup1</th>\n",
       "      <th>SDGroup1</th>\n",
       "      <th>MeanGroup2</th>\n",
       "      <th>SDGroup2</th>\n",
       "      <th>p</th>\n",
       "      <th>n_c</th>\n",
       "      <th>bfwe_c</th>\n",
       "      <th>bhfwe_c</th>\n",
       "      <th>bhfdr_c</th>\n",
       "    </tr>\n",
       "  </thead>\n",
       "  <tbody>\n",
       "  </tbody>\n",
       "</table>\n",
       "</div>"
      ],
      "text/plain": [
       "Empty DataFrame\n",
       "Columns: [ItemNr, PopulationEffect, MeanGroup1, SDGroup1, MeanGroup2, SDGroup2, p, n_c, bfwe_c, bhfwe_c, bhfdr_c]\n",
       "Index: []"
      ]
     },
     "execution_count": 37,
     "metadata": {},
     "output_type": "execute_result"
    }
   ],
   "source": [
    "data.loc[data[c] & ~data['PopulationEffect']].sort_values('ItemNr', ignore_index=True)"
   ]
  },
  {
   "cell_type": "markdown",
   "id": "92ec244b-7021-4d51-a2b0-fb300dc5b7e5",
   "metadata": {},
   "source": [
    "> `How many items are false negatives? Which items?`"
   ]
  },
  {
   "cell_type": "code",
   "execution_count": 38,
   "id": "ba205ff4-cf30-4061-bede-f9daa429ca0a",
   "metadata": {},
   "outputs": [
    {
     "data": {
      "text/html": [
       "<div>\n",
       "<style scoped>\n",
       "    .dataframe tbody tr th:only-of-type {\n",
       "        vertical-align: middle;\n",
       "    }\n",
       "\n",
       "    .dataframe tbody tr th {\n",
       "        vertical-align: top;\n",
       "    }\n",
       "\n",
       "    .dataframe thead th {\n",
       "        text-align: right;\n",
       "    }\n",
       "</style>\n",
       "<table border=\"1\" class=\"dataframe\">\n",
       "  <thead>\n",
       "    <tr style=\"text-align: right;\">\n",
       "      <th></th>\n",
       "      <th>ItemNr</th>\n",
       "      <th>PopulationEffect</th>\n",
       "      <th>MeanGroup1</th>\n",
       "      <th>SDGroup1</th>\n",
       "      <th>MeanGroup2</th>\n",
       "      <th>SDGroup2</th>\n",
       "      <th>p</th>\n",
       "      <th>n_c</th>\n",
       "      <th>bfwe_c</th>\n",
       "      <th>bhfwe_c</th>\n",
       "      <th>bhfdr_c</th>\n",
       "    </tr>\n",
       "  </thead>\n",
       "  <tbody>\n",
       "    <tr>\n",
       "      <th>0</th>\n",
       "      <td>3</td>\n",
       "      <td>1</td>\n",
       "      <td>-15.747061</td>\n",
       "      <td>102.164439</td>\n",
       "      <td>-34.091446</td>\n",
       "      <td>93.417503</td>\n",
       "      <td>0.351061</td>\n",
       "      <td>False</td>\n",
       "      <td>False</td>\n",
       "      <td>False</td>\n",
       "      <td>False</td>\n",
       "    </tr>\n",
       "    <tr>\n",
       "      <th>1</th>\n",
       "      <td>7</td>\n",
       "      <td>1</td>\n",
       "      <td>6.962812</td>\n",
       "      <td>96.066891</td>\n",
       "      <td>-35.132100</td>\n",
       "      <td>82.916984</td>\n",
       "      <td>0.021014</td>\n",
       "      <td>True</td>\n",
       "      <td>False</td>\n",
       "      <td>False</td>\n",
       "      <td>False</td>\n",
       "    </tr>\n",
       "    <tr>\n",
       "      <th>2</th>\n",
       "      <td>8</td>\n",
       "      <td>1</td>\n",
       "      <td>-5.045829</td>\n",
       "      <td>105.239143</td>\n",
       "      <td>35.892766</td>\n",
       "      <td>99.306192</td>\n",
       "      <td>0.048202</td>\n",
       "      <td>True</td>\n",
       "      <td>False</td>\n",
       "      <td>False</td>\n",
       "      <td>False</td>\n",
       "    </tr>\n",
       "    <tr>\n",
       "      <th>3</th>\n",
       "      <td>15</td>\n",
       "      <td>1</td>\n",
       "      <td>-9.250379</td>\n",
       "      <td>105.470703</td>\n",
       "      <td>-62.162545</td>\n",
       "      <td>99.005903</td>\n",
       "      <td>0.011169</td>\n",
       "      <td>True</td>\n",
       "      <td>False</td>\n",
       "      <td>False</td>\n",
       "      <td>False</td>\n",
       "    </tr>\n",
       "    <tr>\n",
       "      <th>4</th>\n",
       "      <td>17</td>\n",
       "      <td>1</td>\n",
       "      <td>5.176001</td>\n",
       "      <td>105.475429</td>\n",
       "      <td>-41.249891</td>\n",
       "      <td>79.441165</td>\n",
       "      <td>0.014606</td>\n",
       "      <td>True</td>\n",
       "      <td>False</td>\n",
       "      <td>False</td>\n",
       "      <td>False</td>\n",
       "    </tr>\n",
       "    <tr>\n",
       "      <th>5</th>\n",
       "      <td>19</td>\n",
       "      <td>1</td>\n",
       "      <td>-7.216715</td>\n",
       "      <td>126.894245</td>\n",
       "      <td>55.354562</td>\n",
       "      <td>99.668515</td>\n",
       "      <td>0.007259</td>\n",
       "      <td>True</td>\n",
       "      <td>False</td>\n",
       "      <td>False</td>\n",
       "      <td>False</td>\n",
       "    </tr>\n",
       "  </tbody>\n",
       "</table>\n",
       "</div>"
      ],
      "text/plain": [
       "   ItemNr  PopulationEffect  MeanGroup1    SDGroup1  MeanGroup2   SDGroup2  \\\n",
       "0       3                 1  -15.747061  102.164439  -34.091446  93.417503   \n",
       "1       7                 1    6.962812   96.066891  -35.132100  82.916984   \n",
       "2       8                 1   -5.045829  105.239143   35.892766  99.306192   \n",
       "3      15                 1   -9.250379  105.470703  -62.162545  99.005903   \n",
       "4      17                 1    5.176001  105.475429  -41.249891  79.441165   \n",
       "5      19                 1   -7.216715  126.894245   55.354562  99.668515   \n",
       "\n",
       "          p    n_c  bfwe_c  bhfwe_c  bhfdr_c  \n",
       "0  0.351061  False   False    False    False  \n",
       "1  0.021014   True   False    False    False  \n",
       "2  0.048202   True   False    False    False  \n",
       "3  0.011169   True   False    False    False  \n",
       "4  0.014606   True   False    False    False  \n",
       "5  0.007259   True   False    False    False  "
      ]
     },
     "execution_count": 38,
     "metadata": {},
     "output_type": "execute_result"
    }
   ],
   "source": [
    "data.loc[~data[c] & data['PopulationEffect']].sort_values('ItemNr', ignore_index=True)"
   ]
  },
  {
   "cell_type": "markdown",
   "id": "b444b3de-8713-4778-80d7-ddb8a8c249bc",
   "metadata": {
    "heading_collapsed": "true",
    "jp-MarkdownHeadingCollapsed": true,
    "tags": []
   },
   "source": [
    "## 6."
   ]
  },
  {
   "cell_type": "markdown",
   "id": "39c3402c-d435-4015-bde0-1d67cce0264f",
   "metadata": {},
   "source": [
    "<div class=\"alert alert-block alert-warning\">\n",
    "\\begin{align}\n",
    "    \\alpha = 0.048\n",
    "\\end{align}\n",
    "</div>"
   ]
  },
  {
   "cell_type": "code",
   "execution_count": 39,
   "id": "d9330aad-000b-4d4c-b36c-ee672d4c6b69",
   "metadata": {},
   "outputs": [
    {
     "data": {
      "image/png": "[encoded data removed]",
      "text/plain": [
       "<Figure size 640x480 with 1 Axes>"
      ]
     },
     "metadata": {},
     "output_type": "display_data"
    }
   ],
   "source": [
    "alpha = 0.048\n",
    "\n",
    "x = np.linspace(-10, 10, 1+100)\n",
    "df = 30\n",
    "\n",
    "y0 = st.t(df).pdf(x)\n",
    "m = -st.t.ppf(alpha/2, df)\n",
    "\n",
    "plt.plot(x, y0, label='$H_0$')\n",
    "plt.plot(x+m, y0, label='$H_1$')\n",
    "\n",
    "plt.ylim((0, None))\n",
    "\n",
    "plt.fill_between(x, 0, y0, abs(x)>=m, alpha=0.5, label=rf'$\\alpha = {alpha}$')\n",
    "plt.fill_between(x+m, 0, y0, x<=0, alpha=0.5, label=r'$\\beta = 0.5$')\n",
    "plt.axvline(m, c='k', ls='-.', lw=3, alpha=0.5)\n",
    "\n",
    "plt.title(rf\"Student's t-Distributions for Hypothesis Analysis ($\\nu = {df}$)\")\n",
    "plt.legend();"
   ]
  },
  {
   "cell_type": "markdown",
   "id": "7655492e-dcb4-4839-9da0-adf0dbb845b9",
   "metadata": {
    "jp-MarkdownHeadingCollapsed": true,
    "tags": []
   },
   "source": [
    "# Assignment 2"
   ]
  },
  {
   "cell_type": "markdown",
   "id": "a749432e-5752-49bb-9371-f2fb9b633f07",
   "metadata": {
    "jp-MarkdownHeadingCollapsed": true,
    "tags": []
   },
   "source": [
    "## 1."
   ]
  },
  {
   "cell_type": "code",
   "execution_count": 40,
   "id": "f40bc552-5e7e-4182-80f7-1c4b263abb3b",
   "metadata": {},
   "outputs": [],
   "source": [
    "data = pd.read_csv('data/2/Table1.csv')"
   ]
  },
  {
   "cell_type": "code",
   "execution_count": 41,
   "id": "f363536a-f053-41c1-83af-3aabd1fa073b",
   "metadata": {},
   "outputs": [
    {
     "data": {
      "text/html": [
       "<div>\n",
       "<style scoped>\n",
       "    .dataframe tbody tr th:only-of-type {\n",
       "        vertical-align: middle;\n",
       "    }\n",
       "\n",
       "    .dataframe tbody tr th {\n",
       "        vertical-align: top;\n",
       "    }\n",
       "\n",
       "    .dataframe thead th {\n",
       "        text-align: right;\n",
       "    }\n",
       "</style>\n",
       "<table border=\"1\" class=\"dataframe\">\n",
       "  <thead>\n",
       "    <tr style=\"text-align: right;\">\n",
       "      <th></th>\n",
       "      <th>y</th>\n",
       "      <th>cov</th>\n",
       "      <th>group</th>\n",
       "    </tr>\n",
       "  </thead>\n",
       "  <tbody>\n",
       "    <tr>\n",
       "      <th>0</th>\n",
       "      <td>58.629443</td>\n",
       "      <td>11.298809</td>\n",
       "      <td>1</td>\n",
       "    </tr>\n",
       "    <tr>\n",
       "      <th>1</th>\n",
       "      <td>45.167029</td>\n",
       "      <td>11.094228</td>\n",
       "      <td>1</td>\n",
       "    </tr>\n",
       "    <tr>\n",
       "      <th>2</th>\n",
       "      <td>37.777554</td>\n",
       "      <td>8.434532</td>\n",
       "      <td>1</td>\n",
       "    </tr>\n",
       "    <tr>\n",
       "      <th>3</th>\n",
       "      <td>49.880216</td>\n",
       "      <td>14.434979</td>\n",
       "      <td>1</td>\n",
       "    </tr>\n",
       "    <tr>\n",
       "      <th>4</th>\n",
       "      <td>48.472039</td>\n",
       "      <td>4.347170</td>\n",
       "      <td>1</td>\n",
       "    </tr>\n",
       "  </tbody>\n",
       "</table>\n",
       "</div>"
      ],
      "text/plain": [
       "           y        cov  group\n",
       "0  58.629443  11.298809      1\n",
       "1  45.167029  11.094228      1\n",
       "2  37.777554   8.434532      1\n",
       "3  49.880216  14.434979      1\n",
       "4  48.472039   4.347170      1"
      ]
     },
     "execution_count": 41,
     "metadata": {},
     "output_type": "execute_result"
    }
   ],
   "source": [
    "data.head()"
   ]
  },
  {
   "cell_type": "markdown",
   "id": "43f40f8b-e066-44de-baf1-2e6ee0e9004e",
   "metadata": {},
   "source": [
    "`a.`"
   ]
  },
  {
   "cell_type": "code",
   "execution_count": 42,
   "id": "c6dbf5e5-7040-44d9-8455-696ac6b199fb",
   "metadata": {},
   "outputs": [],
   "source": [
    "X = np.c_[np.ones(data.shape[0]), data['group'] - 1]\n",
    "y = data['y'].to_numpy()"
   ]
  },
  {
   "cell_type": "code",
   "execution_count": 43,
   "id": "93163961-b41b-4a5f-ab35-8f9e0f29e71b",
   "metadata": {},
   "outputs": [],
   "source": [
    "# Alternative Hypothesis - H_1\n",
    "beta_hat = np.linalg.inv(X.T @ X) @ X.T @ y\n",
    "y_hat = X @ beta_hat\n",
    "e_hat = y - y_hat\n",
    "sse = e_hat @ e_hat"
   ]
  },
  {
   "cell_type": "code",
   "execution_count": 44,
   "id": "2a5af0b0-77bf-4ee2-ac06-b38959ba4b6e",
   "metadata": {},
   "outputs": [
    {
     "data": {
      "text/html": [
       "\n",
       "        <div class='alert alert-block alert-success'>\n",
       "            \n",
       "            \\begin{align*}\\beta = [ 49.88474,-10.13231]\\end{align*}\n",
       "        </div>\n",
       "    "
      ],
      "text/plain": [
       "<IPython.core.display.HTML object>"
      ]
     },
     "metadata": {},
     "output_type": "display_data"
    },
    {
     "data": {
      "text/html": [
       "\n",
       "        <div class='alert alert-block alert-success'>\n",
       "            \n",
       "            \\begin{align*}SSE = 7889.30511\\end{align*}\n",
       "        </div>\n",
       "    "
      ],
      "text/plain": [
       "<IPython.core.display.HTML object>"
      ]
     },
     "metadata": {},
     "output_type": "display_data"
    }
   ],
   "source": [
    "pprint(ltxt=f\"\\\\beta = {np.array2string(beta_hat, precision=5, separator=',')}\")\n",
    "pprint(ltxt=f\"SSE = {sse:.5f}\")"
   ]
  },
  {
   "cell_type": "markdown",
   "id": "c91c4ea1-1fbe-42b1-9583-ce05d6395a5f",
   "metadata": {},
   "source": [
    "---"
   ]
  },
  {
   "cell_type": "code",
   "execution_count": 45,
   "id": "0d480bb7-e074-481a-8995-872448720932",
   "metadata": {},
   "outputs": [],
   "source": [
    "# Null Hypothesis - H_0\n",
    "X_0 = np.ones(data.shape[0])[:, None]\n",
    "beta_hat_0 = np.linalg.inv(X_0.T @ X_0) @ X_0.T @ y\n",
    "y_hat_0 = X_0 @ beta_hat_0\n",
    "e_hat_0 = y - y_hat_0\n",
    "sse_0 = e_hat_0 @ e_hat_0"
   ]
  },
  {
   "cell_type": "code",
   "execution_count": 46,
   "id": "9fc721c9-8dd0-4a16-b456-9c0f3b2667b7",
   "metadata": {},
   "outputs": [
    {
     "data": {
      "text/html": [
       "\n",
       "        <div class='alert alert-block alert-success'>\n",
       "            \n",
       "            \\begin{align*}SSE_{H_0} = 9429.26191\\end{align*}\n",
       "        </div>\n",
       "    "
      ],
      "text/plain": [
       "<IPython.core.display.HTML object>"
      ]
     },
     "metadata": {},
     "output_type": "display_data"
    }
   ],
   "source": [
    "pprint(ltxt=f\"SSE_{{H_0}} = {sse_0:.5f}\")"
   ]
  },
  {
   "cell_type": "code",
   "execution_count": 47,
   "id": "bf5965ad-9cc3-4b2a-90dd-23652db614c5",
   "metadata": {},
   "outputs": [
    {
     "data": {
      "text/html": [
       "\n",
       "        <div class='alert alert-block alert-success'>\n",
       "            \n",
       "            \\begin{align*}F = 11.32134\\end{align*}\n",
       "        </div>\n",
       "    "
      ],
      "text/plain": [
       "<IPython.core.display.HTML object>"
      ]
     },
     "metadata": {},
     "output_type": "display_data"
    },
    {
     "data": {
      "text/html": [
       "\n",
       "        <div class='alert alert-block alert-success'>\n",
       "            \n",
       "            \\begin{align*}p = 0.00136350\\end{align*}\n",
       "        </div>\n",
       "    "
      ],
      "text/plain": [
       "<IPython.core.display.HTML object>"
      ]
     },
     "metadata": {},
     "output_type": "display_data"
    }
   ],
   "source": [
    "# Significance Test\n",
    "pprint(ltxt=f\"F = {(f := ((n:=len(y)) - (p:=X.shape[1]))/(r:=1) * (sse_0 - sse)/sse):.5f}\")\n",
    "pprint(ltxt=f\"p = {(pval := 1 - st.f.cdf(f, dfn=r, dfd=n-p)):.8f}\")"
   ]
  },
  {
   "cell_type": "markdown",
   "id": "84577590-ab16-45f1-b956-6741d9b3600d",
   "metadata": {},
   "source": [
    "`b.`"
   ]
  },
  {
   "cell_type": "code",
   "execution_count": 48,
   "id": "3992c41d-5ea5-44a3-a352-96f260b2be5c",
   "metadata": {},
   "outputs": [],
   "source": [
    "model = sm.OLS(y, X)\n",
    "results = model.fit()"
   ]
  },
  {
   "cell_type": "code",
   "execution_count": 49,
   "id": "1ce4cb41-b78c-4f95-99d2-b9a5b8d5a8ba",
   "metadata": {},
   "outputs": [
    {
     "data": {
      "text/html": [
       "<table class=\"simpletable\">\n",
       "<caption>OLS Regression Results</caption>\n",
       "<tr>\n",
       "  <th>Dep. Variable:</th>            <td>y</td>        <th>  R-squared:         </th> <td>   0.163</td>\n",
       "</tr>\n",
       "<tr>\n",
       "  <th>Model:</th>                   <td>OLS</td>       <th>  Adj. R-squared:    </th> <td>   0.149</td>\n",
       "</tr>\n",
       "<tr>\n",
       "  <th>Method:</th>             <td>Least Squares</td>  <th>  F-statistic:       </th> <td>   11.32</td>\n",
       "</tr>\n",
       "<tr>\n",
       "  <th>Date:</th>             <td>Sun, 14 Apr 2024</td> <th>  Prob (F-statistic):</th>  <td>0.00136</td>\n",
       "</tr>\n",
       "<tr>\n",
       "  <th>Time:</th>                 <td>16:12:57</td>     <th>  Log-Likelihood:    </th> <td> -231.50</td>\n",
       "</tr>\n",
       "<tr>\n",
       "  <th>No. Observations:</th>      <td>    60</td>      <th>  AIC:               </th> <td>   467.0</td>\n",
       "</tr>\n",
       "<tr>\n",
       "  <th>Df Residuals:</th>          <td>    58</td>      <th>  BIC:               </th> <td>   471.2</td>\n",
       "</tr>\n",
       "<tr>\n",
       "  <th>Df Model:</th>              <td>     1</td>      <th>                     </th>     <td> </td>   \n",
       "</tr>\n",
       "<tr>\n",
       "  <th>Covariance Type:</th>      <td>nonrobust</td>    <th>                     </th>     <td> </td>   \n",
       "</tr>\n",
       "</table>\n",
       "<table class=\"simpletable\">\n",
       "<tr>\n",
       "    <td></td>       <th>coef</th>     <th>std err</th>      <th>t</th>      <th>P>|t|</th>  <th>[0.025</th>    <th>0.975]</th>  \n",
       "</tr>\n",
       "<tr>\n",
       "  <th>const</th> <td>   49.8847</td> <td>    2.129</td> <td>   23.427</td> <td> 0.000</td> <td>   45.622</td> <td>   54.147</td>\n",
       "</tr>\n",
       "<tr>\n",
       "  <th>x1</th>    <td>  -10.1323</td> <td>    3.011</td> <td>   -3.365</td> <td> 0.001</td> <td>  -16.160</td> <td>   -4.104</td>\n",
       "</tr>\n",
       "</table>\n",
       "<table class=\"simpletable\">\n",
       "<tr>\n",
       "  <th>Omnibus:</th>       <td> 4.405</td> <th>  Durbin-Watson:     </th> <td>   2.239</td>\n",
       "</tr>\n",
       "<tr>\n",
       "  <th>Prob(Omnibus):</th> <td> 0.111</td> <th>  Jarque-Bera (JB):  </th> <td>   3.823</td>\n",
       "</tr>\n",
       "<tr>\n",
       "  <th>Skew:</th>          <td> 0.616</td> <th>  Prob(JB):          </th> <td>   0.148</td>\n",
       "</tr>\n",
       "<tr>\n",
       "  <th>Kurtosis:</th>      <td> 3.109</td> <th>  Cond. No.          </th> <td>    2.62</td>\n",
       "</tr>\n",
       "</table><br/><br/>Notes:<br/>[1] Standard Errors assume that the covariance matrix of the errors is correctly specified."
      ],
      "text/latex": [
       "\\begin{center}\n",
       "\\begin{tabular}{lclc}\n",
       "\\toprule\n",
       "\\textbf{Dep. Variable:}    &        y         & \\textbf{  R-squared:         } &     0.163   \\\\\n",
       "\\textbf{Model:}            &       OLS        & \\textbf{  Adj. R-squared:    } &     0.149   \\\\\n",
       "\\textbf{Method:}           &  Least Squares   & \\textbf{  F-statistic:       } &     11.32   \\\\\n",
       "\\textbf{Date:}             & Sun, 14 Apr 2024 & \\textbf{  Prob (F-statistic):} &  0.00136    \\\\\n",
       "\\textbf{Time:}             &     16:12:57     & \\textbf{  Log-Likelihood:    } &   -231.50   \\\\\n",
       "\\textbf{No. Observations:} &          60      & \\textbf{  AIC:               } &     467.0   \\\\\n",
       "\\textbf{Df Residuals:}     &          58      & \\textbf{  BIC:               } &     471.2   \\\\\n",
       "\\textbf{Df Model:}         &           1      & \\textbf{                     } &             \\\\\n",
       "\\textbf{Covariance Type:}  &    nonrobust     & \\textbf{                     } &             \\\\\n",
       "\\bottomrule\n",
       "\\end{tabular}\n",
       "\\begin{tabular}{lcccccc}\n",
       "               & \\textbf{coef} & \\textbf{std err} & \\textbf{t} & \\textbf{P$> |$t$|$} & \\textbf{[0.025} & \\textbf{0.975]}  \\\\\n",
       "\\midrule\n",
       "\\textbf{const} &      49.8847  &        2.129     &    23.427  &         0.000        &       45.622    &       54.147     \\\\\n",
       "\\textbf{x1}    &     -10.1323  &        3.011     &    -3.365  &         0.001        &      -16.160    &       -4.104     \\\\\n",
       "\\bottomrule\n",
       "\\end{tabular}\n",
       "\\begin{tabular}{lclc}\n",
       "\\textbf{Omnibus:}       &  4.405 & \\textbf{  Durbin-Watson:     } &    2.239  \\\\\n",
       "\\textbf{Prob(Omnibus):} &  0.111 & \\textbf{  Jarque-Bera (JB):  } &    3.823  \\\\\n",
       "\\textbf{Skew:}          &  0.616 & \\textbf{  Prob(JB):          } &    0.148  \\\\\n",
       "\\textbf{Kurtosis:}      &  3.109 & \\textbf{  Cond. No.          } &     2.62  \\\\\n",
       "\\bottomrule\n",
       "\\end{tabular}\n",
       "%\\caption{OLS Regression Results}\n",
       "\\end{center}\n",
       "\n",
       "Notes: \\newline\n",
       " [1] Standard Errors assume that the covariance matrix of the errors is correctly specified."
      ],
      "text/plain": [
       "<class 'statsmodels.iolib.summary.Summary'>\n",
       "\"\"\"\n",
       "                            OLS Regression Results                            \n",
       "==============================================================================\n",
       "Dep. Variable:                      y   R-squared:                       0.163\n",
       "Model:                            OLS   Adj. R-squared:                  0.149\n",
       "Method:                 Least Squares   F-statistic:                     11.32\n",
       "Date:                Sun, 14 Apr 2024   Prob (F-statistic):            0.00136\n",
       "Time:                        16:12:57   Log-Likelihood:                -231.50\n",
       "No. Observations:                  60   AIC:                             467.0\n",
       "Df Residuals:                      58   BIC:                             471.2\n",
       "Df Model:                           1                                         \n",
       "Covariance Type:            nonrobust                                         \n",
       "==============================================================================\n",
       "                 coef    std err          t      P>|t|      [0.025      0.975]\n",
       "------------------------------------------------------------------------------\n",
       "const         49.8847      2.129     23.427      0.000      45.622      54.147\n",
       "x1           -10.1323      3.011     -3.365      0.001     -16.160      -4.104\n",
       "==============================================================================\n",
       "Omnibus:                        4.405   Durbin-Watson:                   2.239\n",
       "Prob(Omnibus):                  0.111   Jarque-Bera (JB):                3.823\n",
       "Skew:                           0.616   Prob(JB):                        0.148\n",
       "Kurtosis:                       3.109   Cond. No.                         2.62\n",
       "==============================================================================\n",
       "\n",
       "Notes:\n",
       "[1] Standard Errors assume that the covariance matrix of the errors is correctly specified.\n",
       "\"\"\""
      ]
     },
     "execution_count": 49,
     "metadata": {},
     "output_type": "execute_result"
    }
   ],
   "source": [
    "results.summary()"
   ]
  },
  {
   "cell_type": "code",
   "execution_count": 50,
   "id": "95e8a1ab-dfab-4647-8eca-0f3556884ce8",
   "metadata": {},
   "outputs": [
    {
     "data": {
      "text/html": [
       "\n",
       "        <div class='alert alert-block alert-success'>\n",
       "            \n",
       "            \\begin{align*}\\beta = [ 49.88474,-10.13231]\\end{align*}\n",
       "        </div>\n",
       "    "
      ],
      "text/plain": [
       "<IPython.core.display.HTML object>"
      ]
     },
     "metadata": {},
     "output_type": "display_data"
    },
    {
     "data": {
      "text/html": [
       "\n",
       "        <div class='alert alert-block alert-success'>\n",
       "            \n",
       "            \\begin{align*}SSE = 7889.30511\\end{align*}\n",
       "        </div>\n",
       "    "
      ],
      "text/plain": [
       "<IPython.core.display.HTML object>"
      ]
     },
     "metadata": {},
     "output_type": "display_data"
    }
   ],
   "source": [
    "pprint(ltxt=f\"\\\\beta = {np.array2string(results.params, precision=5, separator=',')}\")\n",
    "pprint(ltxt=f\"SSE = {results.ssr:.5f}\")"
   ]
  },
  {
   "cell_type": "code",
   "execution_count": 51,
   "id": "42e6807c-38cd-46da-b32d-10193010e3e8",
   "metadata": {},
   "outputs": [
    {
     "data": {
      "text/html": [
       "\n",
       "        <div class='alert alert-block alert-success'>\n",
       "            \n",
       "            \\begin{align*}\\text{Degrees of Freedom} = 1, 58\\end{align*}\n",
       "        </div>\n",
       "    "
      ],
      "text/plain": [
       "<IPython.core.display.HTML object>"
      ]
     },
     "metadata": {},
     "output_type": "display_data"
    }
   ],
   "source": [
    "pprint(ltxt=f\"\\\\text{{Degrees of Freedom}} = {int(results.df_model)}, {int(results.df_resid)}\")"
   ]
  },
  {
   "cell_type": "code",
   "execution_count": 52,
   "id": "40f914c8-fcde-40b9-9372-e0f6444c2760",
   "metadata": {},
   "outputs": [
    {
     "data": {
      "text/html": [
       "\n",
       "        <div class='alert alert-block alert-success'>\n",
       "            \n",
       "            \\begin{align*}F = 11.32134\\end{align*}\n",
       "        </div>\n",
       "    "
      ],
      "text/plain": [
       "<IPython.core.display.HTML object>"
      ]
     },
     "metadata": {},
     "output_type": "display_data"
    },
    {
     "data": {
      "text/html": [
       "\n",
       "        <div class='alert alert-block alert-success'>\n",
       "            \n",
       "            \\begin{align*}p = 0.00136350\\end{align*}\n",
       "        </div>\n",
       "    "
      ],
      "text/plain": [
       "<IPython.core.display.HTML object>"
      ]
     },
     "metadata": {},
     "output_type": "display_data"
    }
   ],
   "source": [
    "# Significance Test\n",
    "pprint(ltxt=f\"F = {results.fvalue:.5f}\")\n",
    "pprint(ltxt=f\"p = {results.f_pvalue:.8f}\")"
   ]
  },
  {
   "cell_type": "code",
   "execution_count": 53,
   "id": "01a61552-df6b-4a64-8f71-48bb4de61f1e",
   "metadata": {},
   "outputs": [
    {
     "data": {
      "text/html": [
       "\n",
       "        <div class='alert alert-block alert-success'>\n",
       "            \n",
       "            \\begin{align*}R^2 = 0.16332\\end{align*}\n",
       "        </div>\n",
       "    "
      ],
      "text/plain": [
       "<IPython.core.display.HTML object>"
      ]
     },
     "metadata": {},
     "output_type": "display_data"
    },
    {
     "data": {
      "text/html": [
       "\n",
       "        <div class='alert alert-block alert-success'>\n",
       "            \n",
       "            \\begin{align*}R^2_{adj} = 0.14889\\end{align*}\n",
       "        </div>\n",
       "    "
      ],
      "text/plain": [
       "<IPython.core.display.HTML object>"
      ]
     },
     "metadata": {},
     "output_type": "display_data"
    }
   ],
   "source": [
    "# Other Effect Sizes\n",
    "pprint(ltxt=f\"R^2 = {results.rsquared:.5f}\")\n",
    "pprint(ltxt=f\"R^2_{{adj}} = {results.rsquared_adj:.5f}\")\n",
    "# pprint(ltxt=f\"Cohen's\\ d = {results.tvalues/np.sqrt(len(X)):.5f}\")"
   ]
  },
  {
   "cell_type": "code",
   "execution_count": 54,
   "id": "5fa97774-0900-4006-8af3-0cf5bb1965d4",
   "metadata": {},
   "outputs": [
    {
     "data": {
      "text/html": [
       "\n",
       "        <div class='alert alert-block alert-success'>\n",
       "            There is a significant effect of the drug $(p=0.00136350, F=11.32134)$; it reduces the time of the animals to find the goal.\n",
       "            \n",
       "        </div>\n",
       "    "
      ],
      "text/plain": [
       "<IPython.core.display.HTML object>"
      ]
     },
     "metadata": {},
     "output_type": "display_data"
    }
   ],
   "source": [
    "pprint(txt=f\"\"\"There {\"isn't\" if results.f_pvalue > 0.05 else \"is\"} a significant effect of the drug $(p={results.f_pvalue:.8f}, F={results.fvalue:.5f})$; it {(\"reduces\" if results.params[1] < 0 else \"increases\") if results.f_pvalue < 0.05 else \"does not influence\"} the time of the animals to find the goal.\"\"\")"
   ]
  },
  {
   "cell_type": "markdown",
   "id": "385e5b64-ef5b-493a-9ef0-732b78efd510",
   "metadata": {},
   "source": [
    "`c.`"
   ]
  },
  {
   "cell_type": "code",
   "execution_count": 55,
   "id": "17685f2f-10c6-4eff-8a57-2b8f76314ec0",
   "metadata": {},
   "outputs": [],
   "source": [
    "X = np.c_[np.ones(data.shape[0]), data['cov']]\n",
    "y = data['y'].to_numpy()"
   ]
  },
  {
   "cell_type": "code",
   "execution_count": 56,
   "id": "15aa4ef4-c82c-45b8-87ee-312e8e885a3c",
   "metadata": {},
   "outputs": [],
   "source": [
    "# Alternative Hypothesis - H_1\n",
    "beta_hat = np.linalg.inv(X.T @ X) @ X.T @ y\n",
    "y_hat = X @ beta_hat\n",
    "e_hat = y - y_hat\n",
    "sse = e_hat @ e_hat"
   ]
  },
  {
   "cell_type": "code",
   "execution_count": 57,
   "id": "e090e09d-abef-4fa8-8a05-cb669b29f654",
   "metadata": {},
   "outputs": [
    {
     "data": {
      "text/html": [
       "\n",
       "        <div class='alert alert-block alert-success'>\n",
       "            \n",
       "            \\begin{align*}\\beta = [71.98261,-1.9851 ]\\end{align*}\n",
       "        </div>\n",
       "    "
      ],
      "text/plain": [
       "<IPython.core.display.HTML object>"
      ]
     },
     "metadata": {},
     "output_type": "display_data"
    },
    {
     "data": {
      "text/html": [
       "\n",
       "        <div class='alert alert-block alert-success'>\n",
       "            \n",
       "            \\begin{align*}SSE = 5382.22546\\end{align*}\n",
       "        </div>\n",
       "    "
      ],
      "text/plain": [
       "<IPython.core.display.HTML object>"
      ]
     },
     "metadata": {},
     "output_type": "display_data"
    }
   ],
   "source": [
    "pprint(ltxt=f\"\\\\beta = {np.array2string(beta_hat, precision=5, separator=',')}\")\n",
    "pprint(ltxt=f\"SSE = {sse:.5f}\")"
   ]
  },
  {
   "cell_type": "markdown",
   "id": "0d463f3d-e539-47ae-af3f-75862c495bde",
   "metadata": {},
   "source": [
    "---"
   ]
  },
  {
   "cell_type": "code",
   "execution_count": 58,
   "id": "263970ee-dfa5-4870-8c40-2291e407bdf8",
   "metadata": {},
   "outputs": [],
   "source": [
    "# Null Hypothesis - H_0\n",
    "X_0 = np.ones(data.shape[0])[:, None]\n",
    "beta_hat_0 = np.linalg.inv(X_0.T @ X_0) @ X_0.T @ y\n",
    "y_hat_0 = X_0 @ beta_hat_0\n",
    "e_hat_0 = y - y_hat_0\n",
    "sse_0 = e_hat_0 @ e_hat_0"
   ]
  },
  {
   "cell_type": "code",
   "execution_count": 59,
   "id": "a415d1ad-7630-4e01-a9a0-3a7635f3779d",
   "metadata": {},
   "outputs": [
    {
     "data": {
      "text/html": [
       "\n",
       "        <div class='alert alert-block alert-success'>\n",
       "            \n",
       "            \\begin{align*}SSE_{H_0} = 9429.26191\\end{align*}\n",
       "        </div>\n",
       "    "
      ],
      "text/plain": [
       "<IPython.core.display.HTML object>"
      ]
     },
     "metadata": {},
     "output_type": "display_data"
    }
   ],
   "source": [
    "pprint(ltxt=f\"SSE_{{H_0}} = {sse_0:.5f}\")"
   ]
  },
  {
   "cell_type": "code",
   "execution_count": 60,
   "id": "bce7405b-823c-4a0b-b1e1-323de1bb07bf",
   "metadata": {},
   "outputs": [
    {
     "data": {
      "text/html": [
       "\n",
       "        <div class='alert alert-block alert-success'>\n",
       "            \n",
       "            \\begin{align*}F = 43.61172\\end{align*}\n",
       "        </div>\n",
       "    "
      ],
      "text/plain": [
       "<IPython.core.display.HTML object>"
      ]
     },
     "metadata": {},
     "output_type": "display_data"
    },
    {
     "data": {
      "text/html": [
       "\n",
       "        <div class='alert alert-block alert-success'>\n",
       "            \n",
       "            \\begin{align*}p = 0.00000001\\end{align*}\n",
       "        </div>\n",
       "    "
      ],
      "text/plain": [
       "<IPython.core.display.HTML object>"
      ]
     },
     "metadata": {},
     "output_type": "display_data"
    }
   ],
   "source": [
    "# Significance Test\n",
    "pprint(ltxt=f\"F = {(f := ((n:=len(y)) - (p:=X.shape[1]))/(r:=1) * (sse_0 - sse)/sse):.5f}\")\n",
    "pprint(ltxt=f\"p = {(pval := 1 - st.f.cdf(f, dfn=r, dfd=n-p)):.8f}\")"
   ]
  },
  {
   "cell_type": "markdown",
   "id": "08dd0d77-45d8-490f-8abf-f82325dbb262",
   "metadata": {},
   "source": [
    "`d.`"
   ]
  },
  {
   "cell_type": "code",
   "execution_count": 61,
   "id": "2a029e18-c489-4a4c-ba2b-a44b4a9ccfae",
   "metadata": {},
   "outputs": [],
   "source": [
    "model = sm.OLS(y, X)\n",
    "results = model.fit()"
   ]
  },
  {
   "cell_type": "code",
   "execution_count": 62,
   "id": "22dd906e-41ad-428a-ba24-0ca1eee5a37a",
   "metadata": {},
   "outputs": [
    {
     "data": {
      "text/html": [
       "<table class=\"simpletable\">\n",
       "<caption>OLS Regression Results</caption>\n",
       "<tr>\n",
       "  <th>Dep. Variable:</th>            <td>y</td>        <th>  R-squared:         </th> <td>   0.429</td>\n",
       "</tr>\n",
       "<tr>\n",
       "  <th>Model:</th>                   <td>OLS</td>       <th>  Adj. R-squared:    </th> <td>   0.419</td>\n",
       "</tr>\n",
       "<tr>\n",
       "  <th>Method:</th>             <td>Least Squares</td>  <th>  F-statistic:       </th> <td>   43.61</td>\n",
       "</tr>\n",
       "<tr>\n",
       "  <th>Date:</th>             <td>Sun, 14 Apr 2024</td> <th>  Prob (F-statistic):</th> <td>1.35e-08</td>\n",
       "</tr>\n",
       "<tr>\n",
       "  <th>Time:</th>                 <td>16:12:57</td>     <th>  Log-Likelihood:    </th> <td> -220.03</td>\n",
       "</tr>\n",
       "<tr>\n",
       "  <th>No. Observations:</th>      <td>    60</td>      <th>  AIC:               </th> <td>   444.1</td>\n",
       "</tr>\n",
       "<tr>\n",
       "  <th>Df Residuals:</th>          <td>    58</td>      <th>  BIC:               </th> <td>   448.3</td>\n",
       "</tr>\n",
       "<tr>\n",
       "  <th>Df Model:</th>              <td>     1</td>      <th>                     </th>     <td> </td>   \n",
       "</tr>\n",
       "<tr>\n",
       "  <th>Covariance Type:</th>      <td>nonrobust</td>    <th>                     </th>     <td> </td>   \n",
       "</tr>\n",
       "</table>\n",
       "<table class=\"simpletable\">\n",
       "<tr>\n",
       "    <td></td>       <th>coef</th>     <th>std err</th>      <th>t</th>      <th>P>|t|</th>  <th>[0.025</th>    <th>0.975]</th>  \n",
       "</tr>\n",
       "<tr>\n",
       "  <th>const</th> <td>   71.9826</td> <td>    4.297</td> <td>   16.751</td> <td> 0.000</td> <td>   63.381</td> <td>   80.584</td>\n",
       "</tr>\n",
       "<tr>\n",
       "  <th>x1</th>    <td>   -1.9851</td> <td>    0.301</td> <td>   -6.604</td> <td> 0.000</td> <td>   -2.587</td> <td>   -1.383</td>\n",
       "</tr>\n",
       "</table>\n",
       "<table class=\"simpletable\">\n",
       "<tr>\n",
       "  <th>Omnibus:</th>       <td> 1.878</td> <th>  Durbin-Watson:     </th> <td>   2.125</td>\n",
       "</tr>\n",
       "<tr>\n",
       "  <th>Prob(Omnibus):</th> <td> 0.391</td> <th>  Jarque-Bera (JB):  </th> <td>   1.491</td>\n",
       "</tr>\n",
       "<tr>\n",
       "  <th>Skew:</th>          <td> 0.386</td> <th>  Prob(JB):          </th> <td>   0.475</td>\n",
       "</tr>\n",
       "<tr>\n",
       "  <th>Kurtosis:</th>      <td> 3.008</td> <th>  Cond. No.          </th> <td>    49.6</td>\n",
       "</tr>\n",
       "</table><br/><br/>Notes:<br/>[1] Standard Errors assume that the covariance matrix of the errors is correctly specified."
      ],
      "text/latex": [
       "\\begin{center}\n",
       "\\begin{tabular}{lclc}\n",
       "\\toprule\n",
       "\\textbf{Dep. Variable:}    &        y         & \\textbf{  R-squared:         } &     0.429   \\\\\n",
       "\\textbf{Model:}            &       OLS        & \\textbf{  Adj. R-squared:    } &     0.419   \\\\\n",
       "\\textbf{Method:}           &  Least Squares   & \\textbf{  F-statistic:       } &     43.61   \\\\\n",
       "\\textbf{Date:}             & Sun, 14 Apr 2024 & \\textbf{  Prob (F-statistic):} &  1.35e-08   \\\\\n",
       "\\textbf{Time:}             &     16:12:57     & \\textbf{  Log-Likelihood:    } &   -220.03   \\\\\n",
       "\\textbf{No. Observations:} &          60      & \\textbf{  AIC:               } &     444.1   \\\\\n",
       "\\textbf{Df Residuals:}     &          58      & \\textbf{  BIC:               } &     448.3   \\\\\n",
       "\\textbf{Df Model:}         &           1      & \\textbf{                     } &             \\\\\n",
       "\\textbf{Covariance Type:}  &    nonrobust     & \\textbf{                     } &             \\\\\n",
       "\\bottomrule\n",
       "\\end{tabular}\n",
       "\\begin{tabular}{lcccccc}\n",
       "               & \\textbf{coef} & \\textbf{std err} & \\textbf{t} & \\textbf{P$> |$t$|$} & \\textbf{[0.025} & \\textbf{0.975]}  \\\\\n",
       "\\midrule\n",
       "\\textbf{const} &      71.9826  &        4.297     &    16.751  &         0.000        &       63.381    &       80.584     \\\\\n",
       "\\textbf{x1}    &      -1.9851  &        0.301     &    -6.604  &         0.000        &       -2.587    &       -1.383     \\\\\n",
       "\\bottomrule\n",
       "\\end{tabular}\n",
       "\\begin{tabular}{lclc}\n",
       "\\textbf{Omnibus:}       &  1.878 & \\textbf{  Durbin-Watson:     } &    2.125  \\\\\n",
       "\\textbf{Prob(Omnibus):} &  0.391 & \\textbf{  Jarque-Bera (JB):  } &    1.491  \\\\\n",
       "\\textbf{Skew:}          &  0.386 & \\textbf{  Prob(JB):          } &    0.475  \\\\\n",
       "\\textbf{Kurtosis:}      &  3.008 & \\textbf{  Cond. No.          } &     49.6  \\\\\n",
       "\\bottomrule\n",
       "\\end{tabular}\n",
       "%\\caption{OLS Regression Results}\n",
       "\\end{center}\n",
       "\n",
       "Notes: \\newline\n",
       " [1] Standard Errors assume that the covariance matrix of the errors is correctly specified."
      ],
      "text/plain": [
       "<class 'statsmodels.iolib.summary.Summary'>\n",
       "\"\"\"\n",
       "                            OLS Regression Results                            \n",
       "==============================================================================\n",
       "Dep. Variable:                      y   R-squared:                       0.429\n",
       "Model:                            OLS   Adj. R-squared:                  0.419\n",
       "Method:                 Least Squares   F-statistic:                     43.61\n",
       "Date:                Sun, 14 Apr 2024   Prob (F-statistic):           1.35e-08\n",
       "Time:                        16:12:57   Log-Likelihood:                -220.03\n",
       "No. Observations:                  60   AIC:                             444.1\n",
       "Df Residuals:                      58   BIC:                             448.3\n",
       "Df Model:                           1                                         \n",
       "Covariance Type:            nonrobust                                         \n",
       "==============================================================================\n",
       "                 coef    std err          t      P>|t|      [0.025      0.975]\n",
       "------------------------------------------------------------------------------\n",
       "const         71.9826      4.297     16.751      0.000      63.381      80.584\n",
       "x1            -1.9851      0.301     -6.604      0.000      -2.587      -1.383\n",
       "==============================================================================\n",
       "Omnibus:                        1.878   Durbin-Watson:                   2.125\n",
       "Prob(Omnibus):                  0.391   Jarque-Bera (JB):                1.491\n",
       "Skew:                           0.386   Prob(JB):                        0.475\n",
       "Kurtosis:                       3.008   Cond. No.                         49.6\n",
       "==============================================================================\n",
       "\n",
       "Notes:\n",
       "[1] Standard Errors assume that the covariance matrix of the errors is correctly specified.\n",
       "\"\"\""
      ]
     },
     "execution_count": 62,
     "metadata": {},
     "output_type": "execute_result"
    }
   ],
   "source": [
    "results.summary()"
   ]
  },
  {
   "cell_type": "code",
   "execution_count": 63,
   "id": "feba70bf-1c4a-4bf0-ac2f-fbcdafe42281",
   "metadata": {},
   "outputs": [
    {
     "data": {
      "text/html": [
       "\n",
       "        <div class='alert alert-block alert-success'>\n",
       "            \n",
       "            \\begin{align*}\\beta = [71.98261,-1.9851 ]\\end{align*}\n",
       "        </div>\n",
       "    "
      ],
      "text/plain": [
       "<IPython.core.display.HTML object>"
      ]
     },
     "metadata": {},
     "output_type": "display_data"
    },
    {
     "data": {
      "text/html": [
       "\n",
       "        <div class='alert alert-block alert-success'>\n",
       "            \n",
       "            \\begin{align*}SSE = 5382.22546\\end{align*}\n",
       "        </div>\n",
       "    "
      ],
      "text/plain": [
       "<IPython.core.display.HTML object>"
      ]
     },
     "metadata": {},
     "output_type": "display_data"
    }
   ],
   "source": [
    "pprint(ltxt=f\"\\\\beta = {np.array2string(results.params, precision=5, separator=',')}\")\n",
    "pprint(ltxt=f\"SSE = {results.ssr:.5f}\")"
   ]
  },
  {
   "cell_type": "code",
   "execution_count": 64,
   "id": "3540a703-3ac5-4ad6-baf1-52723452029c",
   "metadata": {},
   "outputs": [
    {
     "data": {
      "text/html": [
       "\n",
       "        <div class='alert alert-block alert-success'>\n",
       "            \n",
       "            \\begin{align*}\\text{Degrees of Freedom} = 1, 58\\end{align*}\n",
       "        </div>\n",
       "    "
      ],
      "text/plain": [
       "<IPython.core.display.HTML object>"
      ]
     },
     "metadata": {},
     "output_type": "display_data"
    }
   ],
   "source": [
    "pprint(ltxt=f\"\\\\text{{Degrees of Freedom}} = {int(results.df_model)}, {int(results.df_resid)}\")"
   ]
  },
  {
   "cell_type": "code",
   "execution_count": 65,
   "id": "c6e9d0f5-f8af-408f-bf41-cd86c9ca0648",
   "metadata": {},
   "outputs": [
    {
     "data": {
      "text/html": [
       "\n",
       "        <div class='alert alert-block alert-success'>\n",
       "            \n",
       "            \\begin{align*}F = 43.61172\\end{align*}\n",
       "        </div>\n",
       "    "
      ],
      "text/plain": [
       "<IPython.core.display.HTML object>"
      ]
     },
     "metadata": {},
     "output_type": "display_data"
    },
    {
     "data": {
      "text/html": [
       "\n",
       "        <div class='alert alert-block alert-success'>\n",
       "            \n",
       "            \\begin{align*}p = 0.00000001\\end{align*}\n",
       "        </div>\n",
       "    "
      ],
      "text/plain": [
       "<IPython.core.display.HTML object>"
      ]
     },
     "metadata": {},
     "output_type": "display_data"
    }
   ],
   "source": [
    "# Significance Test\n",
    "pprint(ltxt=f\"F = {results.fvalue:.5f}\")\n",
    "pprint(ltxt=f\"p = {results.f_pvalue:.8f}\")"
   ]
  },
  {
   "cell_type": "code",
   "execution_count": 66,
   "id": "32362292-f16c-4e34-9f7d-ffd2ce2657d3",
   "metadata": {},
   "outputs": [
    {
     "data": {
      "text/html": [
       "\n",
       "        <div class='alert alert-block alert-success'>\n",
       "            \n",
       "            \\begin{align*}R^2 = 0.42920\\end{align*}\n",
       "        </div>\n",
       "    "
      ],
      "text/plain": [
       "<IPython.core.display.HTML object>"
      ]
     },
     "metadata": {},
     "output_type": "display_data"
    },
    {
     "data": {
      "text/html": [
       "\n",
       "        <div class='alert alert-block alert-success'>\n",
       "            \n",
       "            \\begin{align*}R^2_{adj} = 0.41936\\end{align*}\n",
       "        </div>\n",
       "    "
      ],
      "text/plain": [
       "<IPython.core.display.HTML object>"
      ]
     },
     "metadata": {},
     "output_type": "display_data"
    }
   ],
   "source": [
    "# Other Effect Sizes\n",
    "pprint(ltxt=f\"R^2 = {results.rsquared:.5f}\")\n",
    "pprint(ltxt=f\"R^2_{{adj}} = {results.rsquared_adj:.5f}\")\n",
    "# pprint(ltxt=f\"Cohen's\\ d = {results.tvalues/np.sqrt(len(X)):.5f}\")"
   ]
  },
  {
   "cell_type": "code",
   "execution_count": 67,
   "id": "a62e961c-790a-4929-87fb-04b0d9ce99ee",
   "metadata": {},
   "outputs": [
    {
     "data": {
      "text/html": [
       "\n",
       "        <div class='alert alert-block alert-success'>\n",
       "            There is a significant effect of the speed of the animals $(p=0.00000001, F=43.61172)$; it reduces the time of the animals to find the goal.\n",
       "            \n",
       "        </div>\n",
       "    "
      ],
      "text/plain": [
       "<IPython.core.display.HTML object>"
      ]
     },
     "metadata": {},
     "output_type": "display_data"
    }
   ],
   "source": [
    "pprint(txt=f\"\"\"There {\"isn't\" if results.f_pvalue > 0.05 else \"is\"} a significant effect of the speed of the animals $(p={results.f_pvalue:.8f}, F={results.fvalue:.5f})$; it {(\"reduces\" if results.params[1] < 0 else \"increases\") if results.f_pvalue < 0.05 else \"does not influence\"} the time of the animals to find the goal.\"\"\")"
   ]
  },
  {
   "cell_type": "markdown",
   "id": "fd84784c-9d9f-4ff8-b562-bb9d675cd4bd",
   "metadata": {},
   "source": [
    "`e.`"
   ]
  },
  {
   "cell_type": "code",
   "execution_count": 68,
   "id": "a59ca9b3-d471-4bb8-ae43-755611fc0565",
   "metadata": {},
   "outputs": [],
   "source": [
    "X = np.c_[np.ones(data.shape[0]), data['group'] - 1, data['cov']]\n",
    "y = data['y'].to_numpy()"
   ]
  },
  {
   "cell_type": "code",
   "execution_count": 69,
   "id": "4b2ea0d2-1b40-4fe7-9982-378e15a140f9",
   "metadata": {},
   "outputs": [],
   "source": [
    "# Alternative Hypothesis - H_1\n",
    "beta_hat = np.linalg.inv(X.T @ X) @ X.T @ y\n",
    "y_hat = X @ beta_hat\n",
    "e_hat = y - y_hat\n",
    "sse = e_hat @ e_hat"
   ]
  },
  {
   "cell_type": "code",
   "execution_count": 70,
   "id": "11578ce7-ead0-4be8-8468-58cd8fab5325",
   "metadata": {},
   "outputs": [
    {
     "data": {
      "text/html": [
       "\n",
       "        <div class='alert alert-block alert-success'>\n",
       "            \n",
       "            \\begin{align*}\\beta = [75.04899, 4.27477,-2.36538]\\end{align*}\n",
       "        </div>\n",
       "    "
      ],
      "text/plain": [
       "<IPython.core.display.HTML object>"
      ]
     },
     "metadata": {},
     "output_type": "display_data"
    },
    {
     "data": {
      "text/html": [
       "\n",
       "        <div class='alert alert-block alert-success'>\n",
       "            \n",
       "            \\begin{align*}SSE = 5256.64079\\end{align*}\n",
       "        </div>\n",
       "    "
      ],
      "text/plain": [
       "<IPython.core.display.HTML object>"
      ]
     },
     "metadata": {},
     "output_type": "display_data"
    }
   ],
   "source": [
    "pprint(ltxt=f\"\\\\beta = {np.array2string(beta_hat, precision=5, separator=',')}\")\n",
    "pprint(ltxt=f\"SSE = {sse:.5f}\")"
   ]
  },
  {
   "cell_type": "markdown",
   "id": "304f51f0-3359-41a8-ab32-81989cc3ffaf",
   "metadata": {},
   "source": [
    "---"
   ]
  },
  {
   "cell_type": "code",
   "execution_count": 71,
   "id": "2881e214-d974-4a7e-99f5-bdd9721210fb",
   "metadata": {},
   "outputs": [],
   "source": [
    "# Null Hypothesis 1 - H_0_1\n",
    "X_0 = np.c_[np.ones(data.shape[0]), data['cov']]\n",
    "beta_hat_0 = np.linalg.inv(X_0.T @ X_0) @ X_0.T @ y\n",
    "y_hat_0 = X_0 @ beta_hat_0\n",
    "e_hat_0 = y - y_hat_0\n",
    "sse_0 = e_hat_0 @ e_hat_0"
   ]
  },
  {
   "cell_type": "code",
   "execution_count": 72,
   "id": "a37dd30d-af57-4d1d-bb3d-4fcfc0c9ead0",
   "metadata": {},
   "outputs": [
    {
     "data": {
      "text/html": [
       "\n",
       "        <div class='alert alert-block alert-success'>\n",
       "            \n",
       "            \\begin{align*}SSE_{H_{0_1}} = 5382.22546\\end{align*}\n",
       "        </div>\n",
       "    "
      ],
      "text/plain": [
       "<IPython.core.display.HTML object>"
      ]
     },
     "metadata": {},
     "output_type": "display_data"
    }
   ],
   "source": [
    "pprint(ltxt=f\"SSE_{{H_{{0_1}}}} = {sse_0:.5f}\")"
   ]
  },
  {
   "cell_type": "code",
   "execution_count": 73,
   "id": "0780feac-a68f-4085-ab4e-c95ca702fabf",
   "metadata": {},
   "outputs": [
    {
     "data": {
      "text/html": [
       "\n",
       "        <div class='alert alert-block alert-success'>\n",
       "            \n",
       "            \\begin{align*}F = 1.36177\\end{align*}\n",
       "        </div>\n",
       "    "
      ],
      "text/plain": [
       "<IPython.core.display.HTML object>"
      ]
     },
     "metadata": {},
     "output_type": "display_data"
    },
    {
     "data": {
      "text/html": [
       "\n",
       "        <div class='alert alert-block alert-success'>\n",
       "            \n",
       "            \\begin{align*}p = 0.24809016\\end{align*}\n",
       "        </div>\n",
       "    "
      ],
      "text/plain": [
       "<IPython.core.display.HTML object>"
      ]
     },
     "metadata": {},
     "output_type": "display_data"
    }
   ],
   "source": [
    "# Significance Test\n",
    "pprint(ltxt=f\"F = {(f_1 := ((n:=len(y)) - (p:=X.shape[1]))/(r:=1) * (sse_0 - sse)/sse):.5f}\")\n",
    "pprint(ltxt=f\"p = {(pval_1 := 1 - st.f.cdf(f_1, dfn=r, dfd=n-p)):.8f}\")"
   ]
  },
  {
   "cell_type": "markdown",
   "id": "d64cbd6e-86b4-4843-8ea9-3f0044055fba",
   "metadata": {},
   "source": [
    "---"
   ]
  },
  {
   "cell_type": "code",
   "execution_count": 74,
   "id": "0a330592-7863-4ed1-ad67-77d7fe9edd6d",
   "metadata": {},
   "outputs": [],
   "source": [
    "# Null Hypothesis 2 - H_0_2\n",
    "X_0 = np.c_[np.ones(data.shape[0]), data['group'] - 1]\n",
    "beta_hat_0 = np.linalg.inv(X_0.T @ X_0) @ X_0.T @ y\n",
    "y_hat_0 = X_0 @ beta_hat_0\n",
    "e_hat_0 = y - y_hat_0\n",
    "sse_0 = e_hat_0 @ e_hat_0"
   ]
  },
  {
   "cell_type": "code",
   "execution_count": 75,
   "id": "712031db-6e05-48dc-a166-10702751ec42",
   "metadata": {},
   "outputs": [
    {
     "data": {
      "text/html": [
       "\n",
       "        <div class='alert alert-block alert-success'>\n",
       "            \n",
       "            \\begin{align*}SSE_{H_{0_2}} = 7889.30511\\end{align*}\n",
       "        </div>\n",
       "    "
      ],
      "text/plain": [
       "<IPython.core.display.HTML object>"
      ]
     },
     "metadata": {},
     "output_type": "display_data"
    }
   ],
   "source": [
    "pprint(ltxt=f\"SSE_{{H_{{0_2}}}} = {sse_0:.5f}\")"
   ]
  },
  {
   "cell_type": "code",
   "execution_count": 76,
   "id": "4fa2938e-dc4d-41e5-ac0d-97a19a7d51ee",
   "metadata": {},
   "outputs": [
    {
     "data": {
      "text/html": [
       "\n",
       "        <div class='alert alert-block alert-success'>\n",
       "            \n",
       "            \\begin{align*}F = 28.54710\\end{align*}\n",
       "        </div>\n",
       "    "
      ],
      "text/plain": [
       "<IPython.core.display.HTML object>"
      ]
     },
     "metadata": {},
     "output_type": "display_data"
    },
    {
     "data": {
      "text/html": [
       "\n",
       "        <div class='alert alert-block alert-success'>\n",
       "            \n",
       "            \\begin{align*}p = 0.00000166\\end{align*}\n",
       "        </div>\n",
       "    "
      ],
      "text/plain": [
       "<IPython.core.display.HTML object>"
      ]
     },
     "metadata": {},
     "output_type": "display_data"
    }
   ],
   "source": [
    "# Significance Test\n",
    "pprint(ltxt=f\"F = {(f_2 := ((n:=len(y)) - (p:=X.shape[1]))/(r:=1) * (sse_0 - sse)/sse):.5f}\")\n",
    "pprint(ltxt=f\"p = {(pval_2 := 1 - st.f.cdf(f_2, dfn=r, dfd=n-p)):.8f}\")"
   ]
  },
  {
   "cell_type": "markdown",
   "id": "58d880e4-690a-4c78-af21-4314438c2033",
   "metadata": {},
   "source": [
    "`f.`"
   ]
  },
  {
   "cell_type": "code",
   "execution_count": 77,
   "id": "7210cd0a-fa32-4efc-b76e-3bc8de2ea721",
   "metadata": {},
   "outputs": [],
   "source": [
    "model = sm.OLS(y, X)\n",
    "results = model.fit()"
   ]
  },
  {
   "cell_type": "code",
   "execution_count": 78,
   "id": "5f0c37b2-28a3-4f47-929b-709c4e0ecb0f",
   "metadata": {},
   "outputs": [
    {
     "data": {
      "text/html": [
       "<table class=\"simpletable\">\n",
       "<caption>OLS Regression Results</caption>\n",
       "<tr>\n",
       "  <th>Dep. Variable:</th>            <td>y</td>        <th>  R-squared:         </th> <td>   0.443</td>\n",
       "</tr>\n",
       "<tr>\n",
       "  <th>Model:</th>                   <td>OLS</td>       <th>  Adj. R-squared:    </th> <td>   0.423</td>\n",
       "</tr>\n",
       "<tr>\n",
       "  <th>Method:</th>             <td>Least Squares</td>  <th>  F-statistic:       </th> <td>   22.62</td>\n",
       "</tr>\n",
       "<tr>\n",
       "  <th>Date:</th>             <td>Sun, 14 Apr 2024</td> <th>  Prob (F-statistic):</th> <td>5.86e-08</td>\n",
       "</tr>\n",
       "<tr>\n",
       "  <th>Time:</th>                 <td>16:12:58</td>     <th>  Log-Likelihood:    </th> <td> -219.32</td>\n",
       "</tr>\n",
       "<tr>\n",
       "  <th>No. Observations:</th>      <td>    60</td>      <th>  AIC:               </th> <td>   444.6</td>\n",
       "</tr>\n",
       "<tr>\n",
       "  <th>Df Residuals:</th>          <td>    57</td>      <th>  BIC:               </th> <td>   450.9</td>\n",
       "</tr>\n",
       "<tr>\n",
       "  <th>Df Model:</th>              <td>     2</td>      <th>                     </th>     <td> </td>   \n",
       "</tr>\n",
       "<tr>\n",
       "  <th>Covariance Type:</th>      <td>nonrobust</td>    <th>                     </th>     <td> </td>   \n",
       "</tr>\n",
       "</table>\n",
       "<table class=\"simpletable\">\n",
       "<tr>\n",
       "    <td></td>       <th>coef</th>     <th>std err</th>      <th>t</th>      <th>P>|t|</th>  <th>[0.025</th>    <th>0.975]</th>  \n",
       "</tr>\n",
       "<tr>\n",
       "  <th>const</th> <td>   75.0490</td> <td>    5.026</td> <td>   14.933</td> <td> 0.000</td> <td>   64.985</td> <td>   85.113</td>\n",
       "</tr>\n",
       "<tr>\n",
       "  <th>x1</th>    <td>    4.2748</td> <td>    3.663</td> <td>    1.167</td> <td> 0.248</td> <td>   -3.061</td> <td>   11.610</td>\n",
       "</tr>\n",
       "<tr>\n",
       "  <th>x2</th>    <td>   -2.3654</td> <td>    0.443</td> <td>   -5.343</td> <td> 0.000</td> <td>   -3.252</td> <td>   -1.479</td>\n",
       "</tr>\n",
       "</table>\n",
       "<table class=\"simpletable\">\n",
       "<tr>\n",
       "  <th>Omnibus:</th>       <td> 0.895</td> <th>  Durbin-Watson:     </th> <td>   2.098</td>\n",
       "</tr>\n",
       "<tr>\n",
       "  <th>Prob(Omnibus):</th> <td> 0.639</td> <th>  Jarque-Bera (JB):  </th> <td>   0.704</td>\n",
       "</tr>\n",
       "<tr>\n",
       "  <th>Skew:</th>          <td> 0.263</td> <th>  Prob(JB):          </th> <td>   0.703</td>\n",
       "</tr>\n",
       "<tr>\n",
       "  <th>Kurtosis:</th>      <td> 2.936</td> <th>  Cond. No.          </th> <td>    64.2</td>\n",
       "</tr>\n",
       "</table><br/><br/>Notes:<br/>[1] Standard Errors assume that the covariance matrix of the errors is correctly specified."
      ],
      "text/latex": [
       "\\begin{center}\n",
       "\\begin{tabular}{lclc}\n",
       "\\toprule\n",
       "\\textbf{Dep. Variable:}    &        y         & \\textbf{  R-squared:         } &     0.443   \\\\\n",
       "\\textbf{Model:}            &       OLS        & \\textbf{  Adj. R-squared:    } &     0.423   \\\\\n",
       "\\textbf{Method:}           &  Least Squares   & \\textbf{  F-statistic:       } &     22.62   \\\\\n",
       "\\textbf{Date:}             & Sun, 14 Apr 2024 & \\textbf{  Prob (F-statistic):} &  5.86e-08   \\\\\n",
       "\\textbf{Time:}             &     16:12:58     & \\textbf{  Log-Likelihood:    } &   -219.32   \\\\\n",
       "\\textbf{No. Observations:} &          60      & \\textbf{  AIC:               } &     444.6   \\\\\n",
       "\\textbf{Df Residuals:}     &          57      & \\textbf{  BIC:               } &     450.9   \\\\\n",
       "\\textbf{Df Model:}         &           2      & \\textbf{                     } &             \\\\\n",
       "\\textbf{Covariance Type:}  &    nonrobust     & \\textbf{                     } &             \\\\\n",
       "\\bottomrule\n",
       "\\end{tabular}\n",
       "\\begin{tabular}{lcccccc}\n",
       "               & \\textbf{coef} & \\textbf{std err} & \\textbf{t} & \\textbf{P$> |$t$|$} & \\textbf{[0.025} & \\textbf{0.975]}  \\\\\n",
       "\\midrule\n",
       "\\textbf{const} &      75.0490  &        5.026     &    14.933  &         0.000        &       64.985    &       85.113     \\\\\n",
       "\\textbf{x1}    &       4.2748  &        3.663     &     1.167  &         0.248        &       -3.061    &       11.610     \\\\\n",
       "\\textbf{x2}    &      -2.3654  &        0.443     &    -5.343  &         0.000        &       -3.252    &       -1.479     \\\\\n",
       "\\bottomrule\n",
       "\\end{tabular}\n",
       "\\begin{tabular}{lclc}\n",
       "\\textbf{Omnibus:}       &  0.895 & \\textbf{  Durbin-Watson:     } &    2.098  \\\\\n",
       "\\textbf{Prob(Omnibus):} &  0.639 & \\textbf{  Jarque-Bera (JB):  } &    0.704  \\\\\n",
       "\\textbf{Skew:}          &  0.263 & \\textbf{  Prob(JB):          } &    0.703  \\\\\n",
       "\\textbf{Kurtosis:}      &  2.936 & \\textbf{  Cond. No.          } &     64.2  \\\\\n",
       "\\bottomrule\n",
       "\\end{tabular}\n",
       "%\\caption{OLS Regression Results}\n",
       "\\end{center}\n",
       "\n",
       "Notes: \\newline\n",
       " [1] Standard Errors assume that the covariance matrix of the errors is correctly specified."
      ],
      "text/plain": [
       "<class 'statsmodels.iolib.summary.Summary'>\n",
       "\"\"\"\n",
       "                            OLS Regression Results                            \n",
       "==============================================================================\n",
       "Dep. Variable:                      y   R-squared:                       0.443\n",
       "Model:                            OLS   Adj. R-squared:                  0.423\n",
       "Method:                 Least Squares   F-statistic:                     22.62\n",
       "Date:                Sun, 14 Apr 2024   Prob (F-statistic):           5.86e-08\n",
       "Time:                        16:12:58   Log-Likelihood:                -219.32\n",
       "No. Observations:                  60   AIC:                             444.6\n",
       "Df Residuals:                      57   BIC:                             450.9\n",
       "Df Model:                           2                                         \n",
       "Covariance Type:            nonrobust                                         \n",
       "==============================================================================\n",
       "                 coef    std err          t      P>|t|      [0.025      0.975]\n",
       "------------------------------------------------------------------------------\n",
       "const         75.0490      5.026     14.933      0.000      64.985      85.113\n",
       "x1             4.2748      3.663      1.167      0.248      -3.061      11.610\n",
       "x2            -2.3654      0.443     -5.343      0.000      -3.252      -1.479\n",
       "==============================================================================\n",
       "Omnibus:                        0.895   Durbin-Watson:                   2.098\n",
       "Prob(Omnibus):                  0.639   Jarque-Bera (JB):                0.704\n",
       "Skew:                           0.263   Prob(JB):                        0.703\n",
       "Kurtosis:                       2.936   Cond. No.                         64.2\n",
       "==============================================================================\n",
       "\n",
       "Notes:\n",
       "[1] Standard Errors assume that the covariance matrix of the errors is correctly specified.\n",
       "\"\"\""
      ]
     },
     "execution_count": 78,
     "metadata": {},
     "output_type": "execute_result"
    }
   ],
   "source": [
    "results.summary()"
   ]
  },
  {
   "cell_type": "code",
   "execution_count": 79,
   "id": "fc7b21b2-b8c8-4f9a-ba17-d107cd11493c",
   "metadata": {},
   "outputs": [
    {
     "data": {
      "text/html": [
       "\n",
       "        <div class='alert alert-block alert-success'>\n",
       "            \n",
       "            \\begin{align*}\\beta = [75.04899, 4.27477,-2.36538]\\end{align*}\n",
       "        </div>\n",
       "    "
      ],
      "text/plain": [
       "<IPython.core.display.HTML object>"
      ]
     },
     "metadata": {},
     "output_type": "display_data"
    },
    {
     "data": {
      "text/html": [
       "\n",
       "        <div class='alert alert-block alert-success'>\n",
       "            \n",
       "            \\begin{align*}SSE = 5256.64079\\end{align*}\n",
       "        </div>\n",
       "    "
      ],
      "text/plain": [
       "<IPython.core.display.HTML object>"
      ]
     },
     "metadata": {},
     "output_type": "display_data"
    }
   ],
   "source": [
    "pprint(ltxt=f\"\\\\beta = {np.array2string(results.params, precision=5, separator=',')}\")\n",
    "pprint(ltxt=f\"SSE = {results.ssr:.5f}\")"
   ]
  },
  {
   "cell_type": "code",
   "execution_count": 80,
   "id": "0c0481ff-63f1-4b61-a23e-f894c11af326",
   "metadata": {},
   "outputs": [
    {
     "data": {
      "text/html": [
       "\n",
       "        <div class='alert alert-block alert-success'>\n",
       "            \n",
       "            \\begin{align*}\\text{Degrees of Freedom} = 2, 57\\end{align*}\n",
       "        </div>\n",
       "    "
      ],
      "text/plain": [
       "<IPython.core.display.HTML object>"
      ]
     },
     "metadata": {},
     "output_type": "display_data"
    }
   ],
   "source": [
    "pprint(ltxt=f\"\\\\text{{Degrees of Freedom}} = {int(results.df_model)}, {int(results.df_resid)}\")"
   ]
  },
  {
   "cell_type": "code",
   "execution_count": 81,
   "id": "8c749cbb-e368-4405-906b-d7d8a99813f3",
   "metadata": {},
   "outputs": [
    {
     "data": {
      "text/html": [
       "\n",
       "        <div class='alert alert-block alert-success'>\n",
       "            \n",
       "            \\begin{align*}F = 22.62276\\end{align*}\n",
       "        </div>\n",
       "    "
      ],
      "text/plain": [
       "<IPython.core.display.HTML object>"
      ]
     },
     "metadata": {},
     "output_type": "display_data"
    },
    {
     "data": {
      "text/html": [
       "\n",
       "        <div class='alert alert-block alert-success'>\n",
       "            \n",
       "            \\begin{align*}p = 0.00000006\\end{align*}\n",
       "        </div>\n",
       "    "
      ],
      "text/plain": [
       "<IPython.core.display.HTML object>"
      ]
     },
     "metadata": {},
     "output_type": "display_data"
    }
   ],
   "source": [
    "# Significance Test\n",
    "pprint(ltxt=f\"F = {results.fvalue:.5f}\")\n",
    "pprint(ltxt=f\"p = {results.f_pvalue:.8f}\")"
   ]
  },
  {
   "cell_type": "code",
   "execution_count": 82,
   "id": "f48ce585-df8e-4ea9-840c-0f932032dd96",
   "metadata": {},
   "outputs": [
    {
     "data": {
      "text/html": [
       "\n",
       "        <div class='alert alert-block alert-success'>\n",
       "            \n",
       "            \\begin{align*}R^2 = 0.44252\\end{align*}\n",
       "        </div>\n",
       "    "
      ],
      "text/plain": [
       "<IPython.core.display.HTML object>"
      ]
     },
     "metadata": {},
     "output_type": "display_data"
    },
    {
     "data": {
      "text/html": [
       "\n",
       "        <div class='alert alert-block alert-success'>\n",
       "            \n",
       "            \\begin{align*}R^2_{adj} = 0.42296\\end{align*}\n",
       "        </div>\n",
       "    "
      ],
      "text/plain": [
       "<IPython.core.display.HTML object>"
      ]
     },
     "metadata": {},
     "output_type": "display_data"
    }
   ],
   "source": [
    "# Other Effect Sizes\n",
    "pprint(ltxt=f\"R^2 = {results.rsquared:.5f}\")\n",
    "pprint(ltxt=f\"R^2_{{adj}} = {results.rsquared_adj:.5f}\")\n",
    "# pprint(ltxt=f\"Cohen's\\ d = {results.tvalues/np.sqrt(len(X)):.5f}\")"
   ]
  },
  {
   "cell_type": "code",
   "execution_count": 83,
   "id": "5331fd1f-8e91-4bb0-ba07-bca12c0c1363",
   "metadata": {},
   "outputs": [
    {
     "data": {
      "text/html": [
       "\n",
       "        <div class='alert alert-block alert-success'>\n",
       "            There isn't a significant effect of the drug $(p=0.24809016, F=1.36177)$; it does not influence the time of the animals to find the goal.\n",
       "            \n",
       "        </div>\n",
       "    "
      ],
      "text/plain": [
       "<IPython.core.display.HTML object>"
      ]
     },
     "metadata": {},
     "output_type": "display_data"
    },
    {
     "data": {
      "text/html": [
       "\n",
       "        <div class='alert alert-block alert-success'>\n",
       "            There is a significant effect of the speed of the animals $(p=0.00000166, F=28.54710)$; it reduces the time of the animals to find the goal.\n",
       "            \n",
       "        </div>\n",
       "    "
      ],
      "text/plain": [
       "<IPython.core.display.HTML object>"
      ]
     },
     "metadata": {},
     "output_type": "display_data"
    }
   ],
   "source": [
    "pprint(txt=f\"\"\"There {\"isn't\" if pval_1 > 0.05 else \"is\"} a significant effect of the drug $(p={pval_1:.8f}, F={f_1:.5f})$; it {(\"reduces\" if results.params[1] < 0 else \"increases\") if pval_1 < 0.05 else \"does not influence\"} the time of the animals to find the goal.\"\"\")\n",
    "pprint(txt=f\"\"\"There {\"isn't\" if pval_2 > 0.05 else \"is\"} a significant effect of the speed of the animals $(p={pval_2:.8f}, F={f_2:.5f})$; it {(\"reduces\" if results.params[2] < 0 else \"increases\") if pval_2 < 0.05 else \"does not influence\"} the time of the animals to find the goal.\"\"\")"
   ]
  },
  {
   "cell_type": "markdown",
   "id": "d709d0af-fe2a-473f-a3c2-4fc42490da0a",
   "metadata": {},
   "source": [
    "<div class=\"alert alert-block alert-success\">\n",
    "    Animals with higher running speeds can cover more distances in a shorter time and thus find the goal faster. </br></br>\n",
    "    The $\\beta$ (slope) values give some insight for the above conclusions, i.e. it can be seen that the slope for the drug-effect is positive which can be interpreted as -- \"the drug increases (!) the time to find the goal\", whereas that for the running speed is negative which interprets to lower times. \n",
    "</div>"
   ]
  },
  {
   "cell_type": "markdown",
   "id": "fc89ced5-6036-4cfc-ad3c-07caa975254f",
   "metadata": {
    "jp-MarkdownHeadingCollapsed": true
   },
   "source": [
    "## 2."
   ]
  },
  {
   "cell_type": "code",
   "execution_count": 84,
   "id": "35ff7567-1db4-4b39-b04f-55fccf7139a2",
   "metadata": {},
   "outputs": [],
   "source": [
    "data = pd.read_csv('data/2/Table2.csv')"
   ]
  },
  {
   "cell_type": "code",
   "execution_count": 85,
   "id": "90d33929-6fc3-4a6b-b0be-c2809da088d2",
   "metadata": {},
   "outputs": [
    {
     "data": {
      "text/html": [
       "<div>\n",
       "<style scoped>\n",
       "    .dataframe tbody tr th:only-of-type {\n",
       "        vertical-align: middle;\n",
       "    }\n",
       "\n",
       "    .dataframe tbody tr th {\n",
       "        vertical-align: top;\n",
       "    }\n",
       "\n",
       "    .dataframe thead th {\n",
       "        text-align: right;\n",
       "    }\n",
       "</style>\n",
       "<table border=\"1\" class=\"dataframe\">\n",
       "  <thead>\n",
       "    <tr style=\"text-align: right;\">\n",
       "      <th></th>\n",
       "      <th>y</th>\n",
       "      <th>A</th>\n",
       "      <th>B</th>\n",
       "    </tr>\n",
       "  </thead>\n",
       "  <tbody>\n",
       "    <tr>\n",
       "      <th>0</th>\n",
       "      <td>124.118122</td>\n",
       "      <td>1</td>\n",
       "      <td>1</td>\n",
       "    </tr>\n",
       "    <tr>\n",
       "      <th>1</th>\n",
       "      <td>79.961688</td>\n",
       "      <td>1</td>\n",
       "      <td>1</td>\n",
       "    </tr>\n",
       "    <tr>\n",
       "      <th>2</th>\n",
       "      <td>101.762006</td>\n",
       "      <td>1</td>\n",
       "      <td>1</td>\n",
       "    </tr>\n",
       "    <tr>\n",
       "      <th>3</th>\n",
       "      <td>98.884491</td>\n",
       "      <td>1</td>\n",
       "      <td>1</td>\n",
       "    </tr>\n",
       "    <tr>\n",
       "      <th>4</th>\n",
       "      <td>113.239709</td>\n",
       "      <td>1</td>\n",
       "      <td>1</td>\n",
       "    </tr>\n",
       "  </tbody>\n",
       "</table>\n",
       "</div>"
      ],
      "text/plain": [
       "            y  A  B\n",
       "0  124.118122  1  1\n",
       "1   79.961688  1  1\n",
       "2  101.762006  1  1\n",
       "3   98.884491  1  1\n",
       "4  113.239709  1  1"
      ]
     },
     "execution_count": 85,
     "metadata": {},
     "output_type": "execute_result"
    }
   ],
   "source": [
    "data.head()"
   ]
  },
  {
   "cell_type": "markdown",
   "id": "6579e323-6f44-4e3e-b6e0-1af45ec020d7",
   "metadata": {},
   "source": [
    "`a.`"
   ]
  },
  {
   "cell_type": "code",
   "execution_count": 86,
   "id": "b1b63013-5996-4457-a9b2-47b308eb2727",
   "metadata": {},
   "outputs": [],
   "source": [
    "# Dummy Coding\n",
    "data['drug1'] = data['A']\n",
    "data['drug1'].replace([1], 1, inplace=True)\n",
    "data['drug1'].replace([2], 0, inplace=True)\n",
    "data['drug1'].replace([3], -1, inplace=True)\n",
    "\n",
    "data['drug2'] = data['A']\n",
    "data['drug2'].replace([1], 0, inplace=True)\n",
    "data['drug2'].replace([2], 1, inplace=True)\n",
    "data['drug2'].replace([3], -1, inplace=True)"
   ]
  },
  {
   "cell_type": "code",
   "execution_count": 87,
   "id": "765b8528-f5bc-4052-818b-0f0ed5f08aab",
   "metadata": {},
   "outputs": [],
   "source": [
    "X = np.c_[np.ones(data.shape[0]), data['drug1'], data['drug2']]\n",
    "y = data['y'].to_numpy()"
   ]
  },
  {
   "cell_type": "code",
   "execution_count": 88,
   "id": "6977a47b-2e6b-4221-8659-0f6d2096eca6",
   "metadata": {},
   "outputs": [],
   "source": [
    "# Alternative Hypothesis - H_1\n",
    "beta_hat = np.linalg.inv(X.T @ X) @ X.T @ y\n",
    "y_hat = X @ beta_hat\n",
    "e_hat = y - y_hat\n",
    "sse = e_hat @ e_hat"
   ]
  },
  {
   "cell_type": "code",
   "execution_count": 89,
   "id": "8bc54fec-2b82-40e3-bf2e-1d4afd2565ea",
   "metadata": {},
   "outputs": [
    {
     "data": {
      "text/html": [
       "\n",
       "        <div class='alert alert-block alert-success'>\n",
       "            \n",
       "            \\begin{align*}\\beta = [99.68369,-1.53523, 5.83981]\\end{align*}\n",
       "        </div>\n",
       "    "
      ],
      "text/plain": [
       "<IPython.core.display.HTML object>"
      ]
     },
     "metadata": {},
     "output_type": "display_data"
    },
    {
     "data": {
      "text/html": [
       "\n",
       "        <div class='alert alert-block alert-success'>\n",
       "            \n",
       "            \\begin{align*}SSE = 25172.29802\\end{align*}\n",
       "        </div>\n",
       "    "
      ],
      "text/plain": [
       "<IPython.core.display.HTML object>"
      ]
     },
     "metadata": {},
     "output_type": "display_data"
    }
   ],
   "source": [
    "pprint(ltxt=f\"\\\\beta = {np.array2string(beta_hat, precision=5, separator=',')}\")\n",
    "pprint(ltxt=f\"SSE = {sse:.5f}\")"
   ]
  },
  {
   "cell_type": "markdown",
   "id": "f46d8eae-55f0-4e56-ac3c-85c270b3368b",
   "metadata": {},
   "source": [
    "<div class=\"alert alert-block alert-danger\">\n",
    "    <b>MY QUESTION #1</b></br>\n",
    "    The second slope value above changes sign if I use effect coding instead of dummy coding! I expect it to just decrease in magnitude without a sign conversion because mathmatically/geometrically, the relationship between effect coding and dummy coding is simply a scaling and shifting operation. Can you please comment on this?\n",
    "</div>"
   ]
  },
  {
   "cell_type": "markdown",
   "id": "69dde15f-46e0-45b1-b738-4a2a58f1ebc1",
   "metadata": {},
   "source": [
    "---"
   ]
  },
  {
   "cell_type": "code",
   "execution_count": 90,
   "id": "58151b8f-e779-43b9-ac9e-2ec7d063cd9c",
   "metadata": {},
   "outputs": [],
   "source": [
    "# Null Hypothesis 1 - H_0\n",
    "X_0 = np.ones(data.shape[0])[:, None]\n",
    "beta_hat_0 = np.linalg.inv(X_0.T @ X_0) @ X_0.T @ y\n",
    "y_hat_0 = X_0 @ beta_hat_0\n",
    "e_hat_0 = y - y_hat_0\n",
    "sse_0 = e_hat_0 @ e_hat_0"
   ]
  },
  {
   "cell_type": "code",
   "execution_count": 91,
   "id": "3b2f12d2-4595-464d-bbfa-f73cec03c933",
   "metadata": {},
   "outputs": [
    {
     "data": {
      "text/html": [
       "\n",
       "        <div class='alert alert-block alert-success'>\n",
       "            \n",
       "            \\begin{align*}SSE_{H_0} = 27371.88897\\end{align*}\n",
       "        </div>\n",
       "    "
      ],
      "text/plain": [
       "<IPython.core.display.HTML object>"
      ]
     },
     "metadata": {},
     "output_type": "display_data"
    }
   ],
   "source": [
    "pprint(ltxt=f\"SSE_{{H_0}} = {sse_0:.5f}\")"
   ]
  },
  {
   "cell_type": "code",
   "execution_count": 92,
   "id": "428f61ee-5a68-44c8-abc7-2d588d559050",
   "metadata": {},
   "outputs": [
    {
     "data": {
      "text/html": [
       "\n",
       "        <div class='alert alert-block alert-success'>\n",
       "            \n",
       "            \\begin{align*}F = 5.11181\\end{align*}\n",
       "        </div>\n",
       "    "
      ],
      "text/plain": [
       "<IPython.core.display.HTML object>"
      ]
     },
     "metadata": {},
     "output_type": "display_data"
    },
    {
     "data": {
      "text/html": [
       "\n",
       "        <div class='alert alert-block alert-success'>\n",
       "            \n",
       "            \\begin{align*}p = 0.00744147\\end{align*}\n",
       "        </div>\n",
       "    "
      ],
      "text/plain": [
       "<IPython.core.display.HTML object>"
      ]
     },
     "metadata": {},
     "output_type": "display_data"
    }
   ],
   "source": [
    "# Significance Test\n",
    "pprint(ltxt=f\"F = {(f := ((n:=len(y)) - (p:=X.shape[1]))/(r:=2) * (sse_0 - sse)/sse):.5f}\")\n",
    "pprint(ltxt=f\"p = {(pval := 1 - st.f.cdf(f, dfn=r, dfd=n-p)):.8f}\")"
   ]
  },
  {
   "cell_type": "code",
   "execution_count": 93,
   "id": "2aab4765-4bdc-463c-aed8-b131f5d11a3c",
   "metadata": {},
   "outputs": [
    {
     "data": {
      "text/html": [
       "\n",
       "        <div class='alert alert-block alert-success'>\n",
       "            There is a significant effect of the drugs $(p=0.00744147, F=5.11181)$; drug1 reduces intelligence and drug2 increases intelligence.\n",
       "            \n",
       "        </div>\n",
       "    "
      ],
      "text/plain": [
       "<IPython.core.display.HTML object>"
      ]
     },
     "metadata": {},
     "output_type": "display_data"
    }
   ],
   "source": [
    "pprint(txt=f\"\"\"There {\"isn't\" if pval > 0.05 else \"is\"} a significant effect of the drugs $(p={pval:.8f}, F={f:.5f})$; drug1 {(\"reduces\" if beta_hat[1] < 0 else \"increases\") if pval < 0.05 else \"does not influence\"} intelligence and drug2 {(\"reduces\" if beta_hat[2] < 0 else \"increases\") if pval < 0.05 else \"does not influence\"} intelligence.\"\"\")"
   ]
  },
  {
   "cell_type": "markdown",
   "id": "f7862a5d-b028-458b-b13c-06d6a51465e5",
   "metadata": {},
   "source": [
    "`b.`"
   ]
  },
  {
   "cell_type": "markdown",
   "id": "241302f2-d44a-4a31-9fd9-8df61eb6377b",
   "metadata": {},
   "source": [
    "<div class=\"alert alert-block alert-danger\">\n",
    "    <b>MY QUESTION #2</b></br>\n",
    "    I don't see why effect coding is \"required\" and why dummy coding cannot be used as long as interation components are properly added. I wrote down the effects (linear combination of slopes) for all the cases for both types of coding, and it seems that for each of them the effects can be quantified with some *unique* combination of the slopes, so I'd think that either of them can be used and just the interpretation of the slopes for effects would be different.\n",
    "</div>"
   ]
  },
  {
   "cell_type": "code",
   "execution_count": 94,
   "id": "ad0bc3e2-dec1-498d-9add-5309aea2f279",
   "metadata": {},
   "outputs": [],
   "source": [
    "# Interaction Coding (Dummy)\n",
    "data['gender'] = data['B']\n",
    "data['gender'].replace([1], -1, inplace=True)\n",
    "data['gender'].replace([2], 1, inplace=True)\n",
    "\n",
    "data['drug1_gender'] = data['drug1'] * data['gender']\n",
    "data['drug2_gender'] = data['drug2'] * data['gender']"
   ]
  },
  {
   "cell_type": "code",
   "execution_count": 95,
   "id": "c1f244f0-1376-4412-95c2-d0401371f9ad",
   "metadata": {},
   "outputs": [],
   "source": [
    "X = np.c_[np.ones(data.shape[0]), data['drug1'], data['drug2'], data['gender'], data['drug1_gender'], data['drug2_gender']]\n",
    "y = data['y'].to_numpy()"
   ]
  },
  {
   "cell_type": "code",
   "execution_count": 96,
   "id": "a145f134-0fef-435c-be14-2a43853fa514",
   "metadata": {},
   "outputs": [],
   "source": [
    "# Alternative Hypothesis - H_1\n",
    "beta_hat = np.linalg.inv(X.T @ X) @ X.T @ y\n",
    "y_hat = X @ beta_hat\n",
    "e_hat = y - y_hat\n",
    "sse = e_hat @ e_hat"
   ]
  },
  {
   "cell_type": "code",
   "execution_count": 97,
   "id": "da30e238-e165-49e2-9c97-be8b736510c1",
   "metadata": {},
   "outputs": [
    {
     "data": {
      "text/html": [
       "\n",
       "        <div class='alert alert-block alert-success'>\n",
       "            \n",
       "            \\begin{align*}\\beta = [99.68369,-1.53523, 5.83981, 2.57285,-3.18735, 6.08244]\\end{align*}\n",
       "        </div>\n",
       "    "
      ],
      "text/plain": [
       "<IPython.core.display.HTML object>"
      ]
     },
     "metadata": {},
     "output_type": "display_data"
    },
    {
     "data": {
      "text/html": [
       "\n",
       "        <div class='alert alert-block alert-success'>\n",
       "            \n",
       "            \\begin{align*}SSE = 22156.47626\\end{align*}\n",
       "        </div>\n",
       "    "
      ],
      "text/plain": [
       "<IPython.core.display.HTML object>"
      ]
     },
     "metadata": {},
     "output_type": "display_data"
    }
   ],
   "source": [
    "pprint(ltxt=f\"\\\\beta = {np.array2string(beta_hat, precision=5, separator=',')}\")\n",
    "pprint(ltxt=f\"SSE = {sse:.5f}\")"
   ]
  },
  {
   "cell_type": "markdown",
   "id": "3f90d4c9-95f1-4d54-9305-aeaf78e76d45",
   "metadata": {},
   "source": [
    "---"
   ]
  },
  {
   "cell_type": "code",
   "execution_count": 98,
   "id": "ce8cb281-f3d9-4685-ae0c-09f46d409281",
   "metadata": {},
   "outputs": [],
   "source": [
    "# Null Hypothesis 1 - H_0\n",
    "X_0 = np.c_[np.ones(data.shape[0]), data['gender'], data['drug1_gender'], data['drug2_gender']]\n",
    "beta_hat_0 = np.linalg.inv(X_0.T @ X_0) @ X_0.T @ y\n",
    "y_hat_0 = X_0 @ beta_hat_0\n",
    "e_hat_0 = y - y_hat_0\n",
    "sse_0 = e_hat_0 @ e_hat_0"
   ]
  },
  {
   "cell_type": "code",
   "execution_count": 99,
   "id": "55738e31-005f-4a3a-87fe-8ac720972a40",
   "metadata": {},
   "outputs": [
    {
     "data": {
      "text/html": [
       "\n",
       "        <div class='alert alert-block alert-success'>\n",
       "            \n",
       "            \\begin{align*}SSE_{H_{0_1}} = 24356.06721\\end{align*}\n",
       "        </div>\n",
       "    "
      ],
      "text/plain": [
       "<IPython.core.display.HTML object>"
      ]
     },
     "metadata": {},
     "output_type": "display_data"
    }
   ],
   "source": [
    "pprint(ltxt=f\"SSE_{{H_{{0_1}}}} = {sse_0:.5f}\")"
   ]
  },
  {
   "cell_type": "code",
   "execution_count": 100,
   "id": "94fbe166-85b0-44ea-92af-8b76e079ac9b",
   "metadata": {},
   "outputs": [
    {
     "data": {
      "text/html": [
       "\n",
       "        <div class='alert alert-block alert-success'>\n",
       "            \n",
       "            \\begin{align*}F = 5.65869\\end{align*}\n",
       "        </div>\n",
       "    "
      ],
      "text/plain": [
       "<IPython.core.display.HTML object>"
      ]
     },
     "metadata": {},
     "output_type": "display_data"
    },
    {
     "data": {
      "text/html": [
       "\n",
       "        <div class='alert alert-block alert-success'>\n",
       "            \n",
       "            \\begin{align*}p = 0.00453870\\end{align*}\n",
       "        </div>\n",
       "    "
      ],
      "text/plain": [
       "<IPython.core.display.HTML object>"
      ]
     },
     "metadata": {},
     "output_type": "display_data"
    }
   ],
   "source": [
    "# Significance Test\n",
    "pprint(ltxt=f\"F = {(f_1 := ((n:=len(y)) - (p:=X.shape[1]))/(r:=2) * (sse_0 - sse)/sse):.5f}\")\n",
    "pprint(ltxt=f\"p = {(pval_1 := 1 - st.f.cdf(f_1, dfn=r, dfd=n-p)):.8f}\")"
   ]
  },
  {
   "cell_type": "markdown",
   "id": "bed198f7-fbd7-4582-b2d3-d86858c26b24",
   "metadata": {},
   "source": [
    "---"
   ]
  },
  {
   "cell_type": "code",
   "execution_count": 101,
   "id": "245756e6-be8e-4ae1-8db3-7cdba21472f2",
   "metadata": {},
   "outputs": [],
   "source": [
    "# Null Hypothesis 2 - H_0\n",
    "X_0 = np.c_[np.ones(data.shape[0]), data['drug1'], data['drug2'], data['drug1_gender'], data['drug2_gender']]\n",
    "beta_hat_0 = np.linalg.inv(X_0.T @ X_0) @ X_0.T @ y\n",
    "y_hat_0 = X_0 @ beta_hat_0\n",
    "e_hat_0 = y - y_hat_0\n",
    "sse_0 = e_hat_0 @ e_hat_0"
   ]
  },
  {
   "cell_type": "code",
   "execution_count": 102,
   "id": "92ee4dd3-d988-4fe1-9a76-c1f18f0aa8c1",
   "metadata": {},
   "outputs": [
    {
     "data": {
      "text/html": [
       "\n",
       "        <div class='alert alert-block alert-success'>\n",
       "            \n",
       "            \\begin{align*}SSE_{H_{0_2}} = 22950.82426\\end{align*}\n",
       "        </div>\n",
       "    "
      ],
      "text/plain": [
       "<IPython.core.display.HTML object>"
      ]
     },
     "metadata": {},
     "output_type": "display_data"
    }
   ],
   "source": [
    "pprint(ltxt=f\"SSE_{{H_{{0_2}}}} = {sse_0:.5f}\")"
   ]
  },
  {
   "cell_type": "code",
   "execution_count": 103,
   "id": "3c428776-8abb-4da8-bcb8-fc94c402dc49",
   "metadata": {},
   "outputs": [
    {
     "data": {
      "text/html": [
       "\n",
       "        <div class='alert alert-block alert-success'>\n",
       "            \n",
       "            \\begin{align*}F = 4.08710\\end{align*}\n",
       "        </div>\n",
       "    "
      ],
      "text/plain": [
       "<IPython.core.display.HTML object>"
      ]
     },
     "metadata": {},
     "output_type": "display_data"
    },
    {
     "data": {
      "text/html": [
       "\n",
       "        <div class='alert alert-block alert-success'>\n",
       "            \n",
       "            \\begin{align*}p = 0.04555385\\end{align*}\n",
       "        </div>\n",
       "    "
      ],
      "text/plain": [
       "<IPython.core.display.HTML object>"
      ]
     },
     "metadata": {},
     "output_type": "display_data"
    }
   ],
   "source": [
    "# Significance Test\n",
    "pprint(ltxt=f\"F = {(f_2 := ((n:=len(y)) - (p:=X.shape[1]))/(r:=1) * (sse_0 - sse)/sse):.5f}\")\n",
    "pprint(ltxt=f\"p = {(pval_2 := 1 - st.f.cdf(f_2, dfn=r, dfd=n-p)):.8f}\")"
   ]
  },
  {
   "cell_type": "markdown",
   "id": "c083fa50-5d78-4a58-87ad-db8d60e58ba0",
   "metadata": {},
   "source": [
    "---"
   ]
  },
  {
   "cell_type": "code",
   "execution_count": 104,
   "id": "67ffd962-c3fc-408c-ab31-e2f9c70c82e6",
   "metadata": {},
   "outputs": [],
   "source": [
    "# Null Hypothesis 3 - H_0\n",
    "X_0 = np.c_[np.ones(data.shape[0]), data['drug1'], data['drug2'], data['gender']]\n",
    "beta_hat_0 = np.linalg.inv(X_0.T @ X_0) @ X_0.T @ y\n",
    "y_hat_0 = X_0 @ beta_hat_0\n",
    "e_hat_0 = y - y_hat_0\n",
    "sse_0 = e_hat_0 @ e_hat_0"
   ]
  },
  {
   "cell_type": "code",
   "execution_count": 105,
   "id": "be641f1a-629b-4555-befd-3b4cf7931419",
   "metadata": {},
   "outputs": [
    {
     "data": {
      "text/html": [
       "\n",
       "        <div class='alert alert-block alert-success'>\n",
       "            \n",
       "            \\begin{align*}SSE_{H_{0_3}} = 24377.95002\\end{align*}\n",
       "        </div>\n",
       "    "
      ],
      "text/plain": [
       "<IPython.core.display.HTML object>"
      ]
     },
     "metadata": {},
     "output_type": "display_data"
    }
   ],
   "source": [
    "pprint(ltxt=f\"SSE_{{H_{{0_3}}}} = {sse_0:.5f}\")"
   ]
  },
  {
   "cell_type": "code",
   "execution_count": 106,
   "id": "62934b1c-d5aa-4525-92a0-c32fe48e1dd6",
   "metadata": {},
   "outputs": [
    {
     "data": {
      "text/html": [
       "\n",
       "        <div class='alert alert-block alert-success'>\n",
       "            \n",
       "            \\begin{align*}F = 5.71499\\end{align*}\n",
       "        </div>\n",
       "    "
      ],
      "text/plain": [
       "<IPython.core.display.HTML object>"
      ]
     },
     "metadata": {},
     "output_type": "display_data"
    },
    {
     "data": {
      "text/html": [
       "\n",
       "        <div class='alert alert-block alert-success'>\n",
       "            \n",
       "            \\begin{align*}p = 0.00431221\\end{align*}\n",
       "        </div>\n",
       "    "
      ],
      "text/plain": [
       "<IPython.core.display.HTML object>"
      ]
     },
     "metadata": {},
     "output_type": "display_data"
    }
   ],
   "source": [
    "# Significance Test\n",
    "pprint(ltxt=f\"F = {(f_3 := ((n:=len(y)) - (p:=X.shape[1]))/(r:=2) * (sse_0 - sse)/sse):.5f}\")\n",
    "pprint(ltxt=f\"p = {(pval_3 := 1 - st.f.cdf(f_3, dfn=r, dfd=n-p)):.8f}\")"
   ]
  },
  {
   "cell_type": "code",
   "execution_count": 107,
   "id": "5005cfe8-7cc5-4502-bd73-ee958982e11f",
   "metadata": {},
   "outputs": [
    {
     "data": {
      "text/html": [
       "\n",
       "        <div class='alert alert-block alert-success'>\n",
       "            There is a significant effect of the drugs $(p=0.00453870, F=5.65869)$.\n",
       "            \n",
       "        </div>\n",
       "    "
      ],
      "text/plain": [
       "<IPython.core.display.HTML object>"
      ]
     },
     "metadata": {},
     "output_type": "display_data"
    },
    {
     "data": {
      "text/html": [
       "\n",
       "        <div class='alert alert-block alert-success'>\n",
       "            There is a significant effect of gender $(p=0.04555385, F=4.08710)$.\n",
       "            \n",
       "        </div>\n",
       "    "
      ],
      "text/plain": [
       "<IPython.core.display.HTML object>"
      ]
     },
     "metadata": {},
     "output_type": "display_data"
    },
    {
     "data": {
      "text/html": [
       "\n",
       "        <div class='alert alert-block alert-success'>\n",
       "            There is a significant effect of the drug-gender interactions $(p=0.00431221, F=5.71499)$.\n",
       "            \n",
       "        </div>\n",
       "    "
      ],
      "text/plain": [
       "<IPython.core.display.HTML object>"
      ]
     },
     "metadata": {},
     "output_type": "display_data"
    }
   ],
   "source": [
    "pprint(txt=f\"\"\"There {\"isn't\" if pval_1 > 0.05 else \"is\"} a significant effect of the drugs $(p={pval_1:.8f}, F={f_1:.5f})$.\"\"\")\n",
    "pprint(txt=f\"\"\"There {\"isn't\" if pval_2 > 0.05 else \"is\"} a significant effect of gender $(p={pval_2:.8f}, F={f_2:.5f})$.\"\"\")\n",
    "pprint(txt=f\"\"\"There {\"isn't\" if pval_3 > 0.05 else \"is\"} a significant effect of the drug-gender interactions $(p={pval_3:.8f}, F={f_3:.5f})$.\"\"\")"
   ]
  },
  {
   "cell_type": "markdown",
   "id": "460aefad-42b3-4cc4-8474-f0957074fc76",
   "metadata": {},
   "source": [
    "# Assignment 3"
   ]
  },
  {
   "cell_type": "code",
   "execution_count": null,
   "id": "7d8d35d8-f391-45f0-921c-920ff03fc893",
   "metadata": {},
   "outputs": [],
   "source": []
  }
 ],
 "metadata": {
  "kernelspec": {
   "display_name": "Python 3 (ipykernel)",
   "language": "python",
   "name": "python3"
  },
  "language_info": {
   "codemirror_mode": {
    "name": "ipython",
    "version": 3
   },
   "file_extension": ".py",
   "mimetype": "text/x-python",
   "name": "python",
   "nbconvert_exporter": "python",
   "pygments_lexer": "ipython3",
   "version": "3.10.11"
  },
  "toc-showcode": false,
  "toc-showmarkdowntxt": false,
  "toc-showtags": false
 },
 "nbformat": 4,
 "nbformat_minor": 5
}
