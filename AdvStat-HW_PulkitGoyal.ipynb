{
 "cells": [
  {
   "cell_type": "markdown",
   "id": "9e62cd82-8b58-42a9-b1cd-0e4aac29f71d",
   "metadata": {
    "tags": []
   },
   "source": [
    "# Imports"
   ]
  },
  {
   "cell_type": "code",
   "execution_count": 1,
   "id": "675c21e4-d1c5-42d5-a3a2-c0870d43a935",
   "metadata": {},
   "outputs": [],
   "source": [
    "import math"
   ]
  },
  {
   "cell_type": "code",
   "execution_count": 2,
   "id": "c2125ab7-1a18-4e26-8e22-b5f914b4cce7",
   "metadata": {},
   "outputs": [],
   "source": [
    "import numpy as np"
   ]
  },
  {
   "cell_type": "code",
   "execution_count": 3,
   "id": "c93d8053-30bd-49a6-ba53-7f84670875d5",
   "metadata": {},
   "outputs": [],
   "source": [
    "import pandas as pd"
   ]
  },
  {
   "cell_type": "code",
   "execution_count": 4,
   "id": "6dfff2e8-9eab-4853-84e2-1adf0d0bca87",
   "metadata": {},
   "outputs": [],
   "source": [
    "import matplotlib.pyplot as plt"
   ]
  },
  {
   "cell_type": "code",
   "execution_count": 5,
   "id": "326f0255-6256-4c66-96c8-fbcc6ecce89f",
   "metadata": {},
   "outputs": [],
   "source": [
    "import scipy.stats as st"
   ]
  },
  {
   "cell_type": "code",
   "execution_count": 6,
   "id": "928f4d7d-683c-49ec-a7ab-eea9d79a5faa",
   "metadata": {},
   "outputs": [],
   "source": [
    "import statsmodels.api as sm\n",
    "import statsmodels.stats.power as sm_power"
   ]
  },
  {
   "cell_type": "markdown",
   "id": "da7c6b1d-a8af-4e82-983c-2ce5792b0bd9",
   "metadata": {},
   "source": [
    "---"
   ]
  },
  {
   "cell_type": "code",
   "execution_count": 7,
   "id": "3d5353d6-c4c1-4bf0-9e96-c8cce69d8b36",
   "metadata": {},
   "outputs": [],
   "source": [
    "from IPython.display import display, HTML"
   ]
  },
  {
   "cell_type": "raw",
   "id": "e6e710a4-18bc-4124-a390-cd49f0ea0f95",
   "metadata": {
    "id": "Hj1kEjsKKnBF",
    "tags": []
   },
   "source": [
    "<div class=\"alert alert-block alert-success\">\n",
    "\\begin{align*}\n",
    "\\end{align*}\n",
    "</div>"
   ]
  },
  {
   "cell_type": "code",
   "execution_count": 8,
   "id": "56c1b1cc-50ea-4b3f-920c-eb758ab12206",
   "metadata": {},
   "outputs": [],
   "source": [
    "def pprint(txt='', ltxt=None, alert='success'): \n",
    "    display(HTML(f\"\"\"\n",
    "        <div class='alert alert-block alert-{alert}'>\n",
    "            {txt}\n",
    "            {f'''/b/begin{{align*}}{ltxt}/b/end{{align*}}''' if ltxt else ''}\n",
    "        </div>\n",
    "    \"\"\".replace(\"/b/\", \"\\\\\")))"
   ]
  },
  {
   "cell_type": "markdown",
   "id": "a5073758-dfef-49b7-a654-23ebf412a9e0",
   "metadata": {
    "heading_collapsed": "true",
    "tags": []
   },
   "source": [
    "# Assignment 1"
   ]
  },
  {
   "cell_type": "markdown",
   "id": "e94d8fb5-9bcf-471a-ab35-fd8d6579d44e",
   "metadata": {
    "heading_collapsed": "true",
    "tags": []
   },
   "source": [
    "## 1."
   ]
  },
  {
   "cell_type": "markdown",
   "id": "ae49af49-d040-4dba-867b-b20bd35a4515",
   "metadata": {},
   "source": [
    "<div class=\"alert alert-block alert-warning\">\n",
    "\\begin{equation*}\n",
    "    \\begin{aligned}[c]\n",
    "        n_m &= 814\\\\\n",
    "        \\bar{x}_m &= 177.7\\, cm\\\\\n",
    "        s_m^2 &= 49.0\\, cm^2\n",
    "    \\end{aligned}\n",
    "    \\qquad\\qquad\\qquad\\qquad\n",
    "    \\begin{aligned}[c]\n",
    "        n_f &= 854\\\\\n",
    "        \\bar{x}_f &= 165.1\\, cm\\\\\n",
    "        s_f^2 &= 38.4\\, cm^2\n",
    "    \\end{aligned}\n",
    "\\end{equation*}\n",
    "</div>"
   ]
  },
  {
   "cell_type": "markdown",
   "id": "c73a5715-7d17-42fa-bf91-ce743d7d9c01",
   "metadata": {
    "tags": []
   },
   "source": [
    "`b.`"
   ]
  },
  {
   "cell_type": "markdown",
   "id": "c04d509e-59a4-4867-a172-4216261e9539",
   "metadata": {
    "id": "Hj1kEjsKKnBF",
    "tags": []
   },
   "source": [
    "<div class=\"alert alert-block alert-info\">\n",
    "\\begin{align}\n",
    "    Cohen's\\ d &= \\frac{\\bar{x}_1 - \\bar{x}_2}{s}\n",
    "    \\backepsilon s = \\sqrt{\\frac{(n_1 - 1).s_1^2 + (n_2 - 1).s_2^2}{n_1 + n_2 - 2}}\n",
    "\\end{align}\n",
    "</div>"
   ]
  },
  {
   "cell_type": "markdown",
   "id": "240c4427-aba9-4fba-a556-b18642c8cf4a",
   "metadata": {
    "tags": []
   },
   "source": [
    "`a.`"
   ]
  },
  {
   "cell_type": "markdown",
   "id": "2e7101f6-bea3-42eb-94e1-9710414ecb40",
   "metadata": {},
   "source": [
    "<div class=\"alert alert-block alert-success\">\n",
    "\\begin{align}\n",
    "    d &= \\frac{\\bar{x}_m - \\bar{x}_f}{s} = \\frac{177.7 - 165.1}{s} = \\frac{12.6}{s}\\\\\n",
    "    s &= \\sqrt{\\frac{(n_m - 1).s_m^2 + (n_f - 1).s_f^2}{n_m + n_f - 2}}\\\\\n",
    "      &= \\sqrt{\\frac{(814 - 1)*49.0 + (854 - 1)*38.4}{814 + 854 - 2}}\\\\\n",
    "      &= 6.601\\\\\\\\\n",
    "    \\therefore d &= \\frac{12.6}{6.6} = 1.91\n",
    "\\end{align}\n",
    "</div>"
   ]
  },
  {
   "cell_type": "markdown",
   "id": "4e9a05ff-7bc9-4c22-aac7-04199e4a7c60",
   "metadata": {
    "tags": []
   },
   "source": [
    "`c.`"
   ]
  },
  {
   "cell_type": "markdown",
   "id": "cc9f323f-6386-4a35-9c44-986d21d1af4e",
   "metadata": {},
   "source": [
    "<div class=\"alert alert-block alert-success\">\n",
    "The effect size is large.\n",
    "</div>"
   ]
  },
  {
   "cell_type": "markdown",
   "id": "d36f55d6-8d53-442d-b855-f7c0c5185dcd",
   "metadata": {
    "heading_collapsed": "true",
    "tags": []
   },
   "source": [
    "## 2."
   ]
  },
  {
   "cell_type": "markdown",
   "id": "a4404fcb-8034-4342-b3e3-745d245358f9",
   "metadata": {},
   "source": [
    "<div class=\"alert alert-block alert-info\">\n",
    "For equal sample size and sample variance, the independent two-sample t-test t-statistic is related to the effct size by the following relationship.\n",
    "\\begin{align}\n",
    "    t = d.\\sqrt{\\frac{n}{2}}\n",
    "\\end{align}\n",
    "</div>"
   ]
  },
  {
   "cell_type": "markdown",
   "id": "1fc5d099-a6c5-4ca6-bbd7-34981b1aa049",
   "metadata": {},
   "source": [
    "<div class=\"alert alert-block alert-success\">\n",
    "So, the t-value for the given conditions is $0.2*\\sqrt{\\frac{72}{2}} = 1.2 > \\alpha\\ (0.05)$. Therefore, the effect is <b>not significant</b>.\n",
    "</div>"
   ]
  },
  {
   "cell_type": "markdown",
   "id": "d4c5d4a2-d5df-4c32-be57-9df1445787cd",
   "metadata": {
    "heading_collapsed": "true",
    "tags": []
   },
   "source": [
    "## 3."
   ]
  },
  {
   "cell_type": "markdown",
   "id": "751a1c9d-48c9-447f-b882-3835145a5129",
   "metadata": {},
   "source": [
    "<div class=\"alert alert-block alert-warning\">\n",
    "\\begin{equation*}\n",
    "    \\begin{aligned}[c]\n",
    "        g_m &= 8.66\\\\\n",
    "        s_m &= 3.2\\\\\n",
    "    \\end{aligned}\n",
    "    \\qquad\\qquad\\qquad\\qquad\n",
    "    \\begin{aligned}[c]\n",
    "        g_f &= 8.45\\\\\n",
    "        s_f &= 2.8\\\\\n",
    "    \\end{aligned}\\\\\n",
    "    r = 0.47\n",
    "\\end{equation*}\n",
    "</div>"
   ]
  },
  {
   "cell_type": "markdown",
   "id": "e121b4cd-b445-457e-9974-1509ba0a0578",
   "metadata": {},
   "source": [
    "<div class=\"alert alert-block alert-success\">\n",
    "\\begin{align}\n",
    "    d_{rm} &= \\frac{\\bar{g}_m - \\bar{g}_f}{s_z} = \\frac{8.66 - 8.45}{s_z} = \\frac{0.21}{s_z}\\\\\n",
    "    s_z &= \\sqrt{\\frac{s_m^2 + s_f^2 - 2.r.s_m.s_f}{2.(1-r)}}\\\\\n",
    "        &= \\sqrt{\\frac{3.2^2 + 2.8^2 - 2*0.47*3.2*2.8}{2*(1-0.47)}}\\\\\n",
    "        &= 3.018\\\\\\\\\n",
    "    \\therefore d_{rm} &= \\frac{0.21}{3.018} = 0.696\n",
    "\\end{align}\n",
    "</div>"
   ]
  },
  {
   "cell_type": "markdown",
   "id": "4fd1ebdb-427a-4207-b088-b3297a8d006e",
   "metadata": {
    "heading_collapsed": "true",
    "tags": []
   },
   "source": [
    "## 4"
   ]
  },
  {
   "cell_type": "markdown",
   "id": "9fe7f3f4-5dde-451e-b84d-b9211cba981b",
   "metadata": {},
   "source": [
    "<div class=\"alert alert-block alert-info\">\n",
    "The variance explained can be captured partial eta-squared ($\\eta^2$) measure, which is related to the f-statistic ($f$) in ANOVA as,\n",
    "    $$f^2 = \\frac{\\eta^2}{1-\\eta^2}$$\n",
    "<div>"
   ]
  },
  {
   "cell_type": "markdown",
   "id": "a4b4cf8d-6ea5-4d02-9c28-da7183675c9f",
   "metadata": {},
   "source": [
    "<div class=\"alert alert-block alert-warning\">\n",
    "\\begin{align*}\n",
    "    \\eta^2 &= 0.1\\\\\n",
    "    1-\\beta &= 0.9\\\\\n",
    "    \\alpha &= 0.05\\\\\n",
    "\\end{align*}\n",
    "</div>"
   ]
  },
  {
   "cell_type": "markdown",
   "id": "4fb7ed1b-9fef-466b-8347-1645e0d633c6",
   "metadata": {},
   "source": [
    "<div class=\"alert alert-block alert-success\">\n",
    "\\begin{align*}\n",
    "    \\therefore f &= \\sqrt{\\frac{0.1}{1-0.1}} = 0.333\n",
    "\\end{align*}\n",
    "</div>"
   ]
  },
  {
   "cell_type": "markdown",
   "id": "84e4f0af-1939-4b7a-aaea-e9afdc2bc11e",
   "metadata": {
    "tags": []
   },
   "source": [
    "`a.`"
   ]
  },
  {
   "cell_type": "code",
   "execution_count": 9,
   "id": "973c1903-01d6-4a7c-a4a2-ba1d64122f03",
   "metadata": {},
   "outputs": [
    {
     "data": {
      "text/html": [
       "\n",
       "        <div class='alert alert-block alert-success'>\n",
       "            \n",
       "            \\begin{align*}\\text{Using power analyis, number of samples required for effect size } (f = 0.333) \\Rightarrow 118\\end{align*}\n",
       "        </div>\n",
       "    "
      ],
      "text/plain": [
       "<IPython.core.display.HTML object>"
      ]
     },
     "metadata": {},
     "output_type": "display_data"
    }
   ],
   "source": [
    "nobs = math.ceil(sm_power.FTestAnovaPower().solve_power(effect_size=0.333, alpha=0.05, power=0.9, k_groups=3))\n",
    "pprint(ltxt=f\"\\\\text{{Using power analyis, number of samples required for effect size }} (f = 0.333) \\\\Rightarrow {nobs}\")"
   ]
  },
  {
   "cell_type": "markdown",
   "id": "b034ea0c-edd9-4391-b444-02519b9fa63f",
   "metadata": {
    "tags": []
   },
   "source": [
    "`b.`"
   ]
  },
  {
   "cell_type": "code",
   "execution_count": 10,
   "id": "da80836e-0d47-484e-8d6e-5212c0dc5ea0",
   "metadata": {},
   "outputs": [],
   "source": [
    "powers = np.arange(0.06, 0.99, 0.01)\n",
    "nobss = np.array([float(sm_power.FTestAnovaPower().solve_power(effect_size=0.333, alpha=0.05, power=power, k_groups=3)) for power in powers])"
   ]
  },
  {
   "cell_type": "code",
   "execution_count": 11,
   "id": "fc928ff0-fcc1-45c5-a916-a8a12610ce00",
   "metadata": {},
   "outputs": [
    {
     "data": {
      "image/png": "[encoded data removed]",
      "text/plain": [
       "<Figure size 432x288 with 1 Axes>"
      ]
     },
     "metadata": {
      "needs_background": "light"
     },
     "output_type": "display_data"
    }
   ],
   "source": [
    "sm_power.FTestAnovaPower().plot_power('nobs', nobs=nobss, effect_size=[0.333], alpha=[0.05], k_groups=3)\n",
    "plt.xlim([0, None])\n",
    "# plt.xticks(np.append(plt.xticks()[0], math.ceil(nobss[np.isclose(powers, 0.9)][0])))\n",
    "plt.yticks(np.linspace(0, 1, 11))\n",
    "plt.ylabel(r\"Power (1-$\\beta$)\")\n",
    "plt.axvspan(nobss[np.isclose(powers, 0.9)][0], plt.xticks()[0][-1], color='r', alpha=0.1)\n",
    "plt.hlines(0.9, 0, nobss[np.isclose(powers, 0.9)][0], color='r', ls='-.', lw=2, alpha=0.2);"
   ]
  },
  {
   "cell_type": "markdown",
   "id": "d53f8dbc-4260-4085-9c75-5308d46fab4d",
   "metadata": {
    "tags": []
   },
   "source": [
    "`c.`"
   ]
  },
  {
   "cell_type": "code",
   "execution_count": 12,
   "id": "b06bc1be-c224-4c09-846a-a4e1a833343e",
   "metadata": {},
   "outputs": [
    {
     "data": {
      "text/html": [
       "\n",
       "        <div class='alert alert-block alert-success'>\n",
       "            \n",
       "            \\begin{align*}\\text{Using power analyis, number of samples required for effect size } (f = 0.1) \\Rightarrow 1269\\end{align*}\n",
       "        </div>\n",
       "    "
      ],
      "text/plain": [
       "<IPython.core.display.HTML object>"
      ]
     },
     "metadata": {},
     "output_type": "display_data"
    }
   ],
   "source": [
    "nobs = math.ceil(sm_power.FTestAnovaPower().solve_power(effect_size=0.1, alpha=0.05, power=0.9, k_groups=3))\n",
    "pprint(ltxt=f\"\\\\text{{Using power analyis, number of samples required for effect size }} (f = 0.1) \\\\Rightarrow {nobs}\")"
   ]
  },
  {
   "cell_type": "markdown",
   "id": "3fcc5dde-56a4-43e8-a237-dccb572f2bdf",
   "metadata": {
    "heading_collapsed": "true",
    "tags": []
   },
   "source": [
    "## 5."
   ]
  },
  {
   "cell_type": "code",
   "execution_count": 13,
   "id": "6edc6ce2-0335-4f53-96ef-d74a300aa598",
   "metadata": {},
   "outputs": [],
   "source": [
    "data = pd.read_csv('data2/1/Table1.csv')"
   ]
  },
  {
   "cell_type": "code",
   "execution_count": 14,
   "id": "6ad2232f-b18d-4846-972b-8787ec7992a0",
   "metadata": {},
   "outputs": [
    {
     "data": {
      "text/html": [
       "<div>\n",
       "<style scoped>\n",
       "    .dataframe tbody tr th:only-of-type {\n",
       "        vertical-align: middle;\n",
       "    }\n",
       "\n",
       "    .dataframe tbody tr th {\n",
       "        vertical-align: top;\n",
       "    }\n",
       "\n",
       "    .dataframe thead th {\n",
       "        text-align: right;\n",
       "    }\n",
       "</style>\n",
       "<table border=\"1\" class=\"dataframe\">\n",
       "  <thead>\n",
       "    <tr style=\"text-align: right;\">\n",
       "      <th></th>\n",
       "      <th>ItemNr</th>\n",
       "      <th>PopulationEffect</th>\n",
       "      <th>MeanGroup1</th>\n",
       "      <th>SDGroup1</th>\n",
       "      <th>MeanGroup2</th>\n",
       "      <th>SDGroup2</th>\n",
       "      <th>p</th>\n",
       "    </tr>\n",
       "  </thead>\n",
       "  <tbody>\n",
       "    <tr>\n",
       "      <th>0</th>\n",
       "      <td>1</td>\n",
       "      <td>0</td>\n",
       "      <td>-7.877204</td>\n",
       "      <td>91.521064</td>\n",
       "      <td>10.205394</td>\n",
       "      <td>111.895157</td>\n",
       "      <td>3.785805e-01</td>\n",
       "    </tr>\n",
       "    <tr>\n",
       "      <th>1</th>\n",
       "      <td>2</td>\n",
       "      <td>1</td>\n",
       "      <td>29.994295</td>\n",
       "      <td>95.425780</td>\n",
       "      <td>-69.758266</td>\n",
       "      <td>94.396975</td>\n",
       "      <td>8.650106e-07</td>\n",
       "    </tr>\n",
       "    <tr>\n",
       "      <th>2</th>\n",
       "      <td>3</td>\n",
       "      <td>1</td>\n",
       "      <td>-14.750289</td>\n",
       "      <td>91.456969</td>\n",
       "      <td>59.478600</td>\n",
       "      <td>77.639469</td>\n",
       "      <td>3.032362e-05</td>\n",
       "    </tr>\n",
       "    <tr>\n",
       "      <th>3</th>\n",
       "      <td>4</td>\n",
       "      <td>1</td>\n",
       "      <td>15.365896</td>\n",
       "      <td>108.016974</td>\n",
       "      <td>-65.388718</td>\n",
       "      <td>97.181716</td>\n",
       "      <td>1.583762e-04</td>\n",
       "    </tr>\n",
       "    <tr>\n",
       "      <th>4</th>\n",
       "      <td>5</td>\n",
       "      <td>0</td>\n",
       "      <td>-6.467899</td>\n",
       "      <td>92.043180</td>\n",
       "      <td>-1.512149</td>\n",
       "      <td>78.736410</td>\n",
       "      <td>7.729575e-01</td>\n",
       "    </tr>\n",
       "  </tbody>\n",
       "</table>\n",
       "</div>"
      ],
      "text/plain": [
       "   ItemNr  PopulationEffect  MeanGroup1    SDGroup1  MeanGroup2    SDGroup2  \\\n",
       "0       1                 0   -7.877204   91.521064   10.205394  111.895157   \n",
       "1       2                 1   29.994295   95.425780  -69.758266   94.396975   \n",
       "2       3                 1  -14.750289   91.456969   59.478600   77.639469   \n",
       "3       4                 1   15.365896  108.016974  -65.388718   97.181716   \n",
       "4       5                 0   -6.467899   92.043180   -1.512149   78.736410   \n",
       "\n",
       "              p  \n",
       "0  3.785805e-01  \n",
       "1  8.650106e-07  \n",
       "2  3.032362e-05  \n",
       "3  1.583762e-04  \n",
       "4  7.729575e-01  "
      ]
     },
     "execution_count": 14,
     "metadata": {},
     "output_type": "execute_result"
    }
   ],
   "source": [
    "data.head()"
   ]
  },
  {
   "cell_type": "code",
   "execution_count": 15,
   "id": "a49c33e5-ed65-4cdc-ac9a-9cbf874b73f9",
   "metadata": {},
   "outputs": [],
   "source": [
    "alpha = 0.05"
   ]
  },
  {
   "cell_type": "markdown",
   "id": "6969264c-2345-4331-98cd-1d55eff7a3da",
   "metadata": {
    "tags": []
   },
   "source": [
    "### `1. No Correction`"
   ]
  },
  {
   "cell_type": "code",
   "execution_count": 16,
   "id": "1bdc113e-d163-4c79-ab0f-75049dc606f0",
   "metadata": {},
   "outputs": [],
   "source": [
    "c = 'n_c'"
   ]
  },
  {
   "cell_type": "code",
   "execution_count": 17,
   "id": "282120f3-6aa3-426c-8008-3480954e10ee",
   "metadata": {},
   "outputs": [],
   "source": [
    "data[c] = data['p'] < alpha"
   ]
  },
  {
   "cell_type": "markdown",
   "id": "8bcdd65c-04db-4f54-aa6f-1df933ef7951",
   "metadata": {},
   "source": [
    "> `Which items differ significantly using α=0.05.?`"
   ]
  },
  {
   "cell_type": "code",
   "execution_count": 18,
   "id": "b202eb0a-99cb-4394-a7de-8b79359a30d6",
   "metadata": {},
   "outputs": [
    {
     "data": {
      "text/html": [
       "<div>\n",
       "<style scoped>\n",
       "    .dataframe tbody tr th:only-of-type {\n",
       "        vertical-align: middle;\n",
       "    }\n",
       "\n",
       "    .dataframe tbody tr th {\n",
       "        vertical-align: top;\n",
       "    }\n",
       "\n",
       "    .dataframe thead th {\n",
       "        text-align: right;\n",
       "    }\n",
       "</style>\n",
       "<table border=\"1\" class=\"dataframe\">\n",
       "  <thead>\n",
       "    <tr style=\"text-align: right;\">\n",
       "      <th></th>\n",
       "      <th>ItemNr</th>\n",
       "      <th>PopulationEffect</th>\n",
       "      <th>MeanGroup1</th>\n",
       "      <th>SDGroup1</th>\n",
       "      <th>MeanGroup2</th>\n",
       "      <th>SDGroup2</th>\n",
       "      <th>p</th>\n",
       "      <th>n_c</th>\n",
       "    </tr>\n",
       "  </thead>\n",
       "  <tbody>\n",
       "    <tr>\n",
       "      <th>0</th>\n",
       "      <td>2</td>\n",
       "      <td>1</td>\n",
       "      <td>29.994295</td>\n",
       "      <td>95.425780</td>\n",
       "      <td>-69.758266</td>\n",
       "      <td>94.396975</td>\n",
       "      <td>8.650106e-07</td>\n",
       "      <td>True</td>\n",
       "    </tr>\n",
       "    <tr>\n",
       "      <th>1</th>\n",
       "      <td>3</td>\n",
       "      <td>1</td>\n",
       "      <td>-14.750289</td>\n",
       "      <td>91.456969</td>\n",
       "      <td>59.478600</td>\n",
       "      <td>77.639469</td>\n",
       "      <td>3.032362e-05</td>\n",
       "      <td>True</td>\n",
       "    </tr>\n",
       "    <tr>\n",
       "      <th>2</th>\n",
       "      <td>4</td>\n",
       "      <td>1</td>\n",
       "      <td>15.365896</td>\n",
       "      <td>108.016974</td>\n",
       "      <td>-65.388718</td>\n",
       "      <td>97.181716</td>\n",
       "      <td>1.583762e-04</td>\n",
       "      <td>True</td>\n",
       "    </tr>\n",
       "    <tr>\n",
       "      <th>3</th>\n",
       "      <td>9</td>\n",
       "      <td>1</td>\n",
       "      <td>-1.607536</td>\n",
       "      <td>106.710088</td>\n",
       "      <td>47.116989</td>\n",
       "      <td>93.501920</td>\n",
       "      <td>1.699042e-02</td>\n",
       "      <td>True</td>\n",
       "    </tr>\n",
       "    <tr>\n",
       "      <th>4</th>\n",
       "      <td>12</td>\n",
       "      <td>1</td>\n",
       "      <td>-3.337813</td>\n",
       "      <td>100.688518</td>\n",
       "      <td>55.741800</td>\n",
       "      <td>77.225995</td>\n",
       "      <td>1.383237e-03</td>\n",
       "      <td>True</td>\n",
       "    </tr>\n",
       "    <tr>\n",
       "      <th>5</th>\n",
       "      <td>17</td>\n",
       "      <td>1</td>\n",
       "      <td>17.397040</td>\n",
       "      <td>91.816131</td>\n",
       "      <td>-36.685736</td>\n",
       "      <td>89.275218</td>\n",
       "      <td>3.567915e-03</td>\n",
       "      <td>True</td>\n",
       "    </tr>\n",
       "    <tr>\n",
       "      <th>6</th>\n",
       "      <td>18</td>\n",
       "      <td>0</td>\n",
       "      <td>10.630157</td>\n",
       "      <td>116.847023</td>\n",
       "      <td>-35.981509</td>\n",
       "      <td>108.310455</td>\n",
       "      <td>4.120774e-02</td>\n",
       "      <td>True</td>\n",
       "    </tr>\n",
       "    <tr>\n",
       "      <th>7</th>\n",
       "      <td>22</td>\n",
       "      <td>1</td>\n",
       "      <td>3.724174</td>\n",
       "      <td>104.332472</td>\n",
       "      <td>-61.473413</td>\n",
       "      <td>89.711421</td>\n",
       "      <td>1.146776e-03</td>\n",
       "      <td>True</td>\n",
       "    </tr>\n",
       "    <tr>\n",
       "      <th>8</th>\n",
       "      <td>28</td>\n",
       "      <td>1</td>\n",
       "      <td>14.837358</td>\n",
       "      <td>89.832916</td>\n",
       "      <td>70.702745</td>\n",
       "      <td>98.851208</td>\n",
       "      <td>3.887910e-03</td>\n",
       "      <td>True</td>\n",
       "    </tr>\n",
       "    <tr>\n",
       "      <th>9</th>\n",
       "      <td>30</td>\n",
       "      <td>1</td>\n",
       "      <td>-11.133983</td>\n",
       "      <td>102.951818</td>\n",
       "      <td>61.504223</td>\n",
       "      <td>121.314186</td>\n",
       "      <td>1.695383e-03</td>\n",
       "      <td>True</td>\n",
       "    </tr>\n",
       "    <tr>\n",
       "      <th>10</th>\n",
       "      <td>32</td>\n",
       "      <td>1</td>\n",
       "      <td>4.420160</td>\n",
       "      <td>102.200128</td>\n",
       "      <td>61.186652</td>\n",
       "      <td>97.454919</td>\n",
       "      <td>5.448136e-03</td>\n",
       "      <td>True</td>\n",
       "    </tr>\n",
       "  </tbody>\n",
       "</table>\n",
       "</div>"
      ],
      "text/plain": [
       "    ItemNr  PopulationEffect  MeanGroup1    SDGroup1  MeanGroup2    SDGroup2  \\\n",
       "0        2                 1   29.994295   95.425780  -69.758266   94.396975   \n",
       "1        3                 1  -14.750289   91.456969   59.478600   77.639469   \n",
       "2        4                 1   15.365896  108.016974  -65.388718   97.181716   \n",
       "3        9                 1   -1.607536  106.710088   47.116989   93.501920   \n",
       "4       12                 1   -3.337813  100.688518   55.741800   77.225995   \n",
       "5       17                 1   17.397040   91.816131  -36.685736   89.275218   \n",
       "6       18                 0   10.630157  116.847023  -35.981509  108.310455   \n",
       "7       22                 1    3.724174  104.332472  -61.473413   89.711421   \n",
       "8       28                 1   14.837358   89.832916   70.702745   98.851208   \n",
       "9       30                 1  -11.133983  102.951818   61.504223  121.314186   \n",
       "10      32                 1    4.420160  102.200128   61.186652   97.454919   \n",
       "\n",
       "               p   n_c  \n",
       "0   8.650106e-07  True  \n",
       "1   3.032362e-05  True  \n",
       "2   1.583762e-04  True  \n",
       "3   1.699042e-02  True  \n",
       "4   1.383237e-03  True  \n",
       "5   3.567915e-03  True  \n",
       "6   4.120774e-02  True  \n",
       "7   1.146776e-03  True  \n",
       "8   3.887910e-03  True  \n",
       "9   1.695383e-03  True  \n",
       "10  5.448136e-03  True  "
      ]
     },
     "execution_count": 18,
     "metadata": {},
     "output_type": "execute_result"
    }
   ],
   "source": [
    "data.loc[data[c]].sort_values('ItemNr', ignore_index=True)"
   ]
  },
  {
   "cell_type": "markdown",
   "id": "fc1052ca-ca2e-4690-9a4e-0b681209845a",
   "metadata": {},
   "source": [
    "> `How many items are false positives? Which items?`"
   ]
  },
  {
   "cell_type": "code",
   "execution_count": 19,
   "id": "2d6ab8aa-d80d-4183-99b2-3cb76755f6ac",
   "metadata": {},
   "outputs": [
    {
     "data": {
      "text/html": [
       "<div>\n",
       "<style scoped>\n",
       "    .dataframe tbody tr th:only-of-type {\n",
       "        vertical-align: middle;\n",
       "    }\n",
       "\n",
       "    .dataframe tbody tr th {\n",
       "        vertical-align: top;\n",
       "    }\n",
       "\n",
       "    .dataframe thead th {\n",
       "        text-align: right;\n",
       "    }\n",
       "</style>\n",
       "<table border=\"1\" class=\"dataframe\">\n",
       "  <thead>\n",
       "    <tr style=\"text-align: right;\">\n",
       "      <th></th>\n",
       "      <th>ItemNr</th>\n",
       "      <th>PopulationEffect</th>\n",
       "      <th>MeanGroup1</th>\n",
       "      <th>SDGroup1</th>\n",
       "      <th>MeanGroup2</th>\n",
       "      <th>SDGroup2</th>\n",
       "      <th>p</th>\n",
       "      <th>n_c</th>\n",
       "    </tr>\n",
       "  </thead>\n",
       "  <tbody>\n",
       "    <tr>\n",
       "      <th>0</th>\n",
       "      <td>18</td>\n",
       "      <td>0</td>\n",
       "      <td>10.630157</td>\n",
       "      <td>116.847023</td>\n",
       "      <td>-35.981509</td>\n",
       "      <td>108.310455</td>\n",
       "      <td>0.041208</td>\n",
       "      <td>True</td>\n",
       "    </tr>\n",
       "  </tbody>\n",
       "</table>\n",
       "</div>"
      ],
      "text/plain": [
       "   ItemNr  PopulationEffect  MeanGroup1    SDGroup1  MeanGroup2    SDGroup2  \\\n",
       "0      18                 0   10.630157  116.847023  -35.981509  108.310455   \n",
       "\n",
       "          p   n_c  \n",
       "0  0.041208  True  "
      ]
     },
     "execution_count": 19,
     "metadata": {},
     "output_type": "execute_result"
    }
   ],
   "source": [
    "data.loc[data[c] & ~data['PopulationEffect']].sort_values('ItemNr', ignore_index=True)"
   ]
  },
  {
   "cell_type": "markdown",
   "id": "cb63f063-9660-49a4-b515-9b8f378e591a",
   "metadata": {},
   "source": [
    "> `How many items are false negatives? Which items?`"
   ]
  },
  {
   "cell_type": "code",
   "execution_count": 20,
   "id": "72efda3e-eee7-468f-af90-eb495277d0e8",
   "metadata": {},
   "outputs": [
    {
     "data": {
      "text/html": [
       "<div>\n",
       "<style scoped>\n",
       "    .dataframe tbody tr th:only-of-type {\n",
       "        vertical-align: middle;\n",
       "    }\n",
       "\n",
       "    .dataframe tbody tr th {\n",
       "        vertical-align: top;\n",
       "    }\n",
       "\n",
       "    .dataframe thead th {\n",
       "        text-align: right;\n",
       "    }\n",
       "</style>\n",
       "<table border=\"1\" class=\"dataframe\">\n",
       "  <thead>\n",
       "    <tr style=\"text-align: right;\">\n",
       "      <th></th>\n",
       "      <th>ItemNr</th>\n",
       "      <th>PopulationEffect</th>\n",
       "      <th>MeanGroup1</th>\n",
       "      <th>SDGroup1</th>\n",
       "      <th>MeanGroup2</th>\n",
       "      <th>SDGroup2</th>\n",
       "      <th>p</th>\n",
       "      <th>n_c</th>\n",
       "    </tr>\n",
       "  </thead>\n",
       "  <tbody>\n",
       "  </tbody>\n",
       "</table>\n",
       "</div>"
      ],
      "text/plain": [
       "Empty DataFrame\n",
       "Columns: [ItemNr, PopulationEffect, MeanGroup1, SDGroup1, MeanGroup2, SDGroup2, p, n_c]\n",
       "Index: []"
      ]
     },
     "execution_count": 20,
     "metadata": {},
     "output_type": "execute_result"
    }
   ],
   "source": [
    "data.loc[~data[c] & data['PopulationEffect']].sort_values('ItemNr', ignore_index=True)"
   ]
  },
  {
   "cell_type": "markdown",
   "id": "f764c9f9-4dad-49c4-963a-eec4709907ec",
   "metadata": {
    "tags": []
   },
   "source": [
    "### `2. Bonferroni FWE Correction`"
   ]
  },
  {
   "cell_type": "code",
   "execution_count": 21,
   "id": "0e065565-5b84-44f8-a825-c130cce48246",
   "metadata": {},
   "outputs": [],
   "source": [
    "c = 'bfwe_c'"
   ]
  },
  {
   "cell_type": "code",
   "execution_count": 22,
   "id": "d7588482-0786-495d-8d84-e65b3964d362",
   "metadata": {},
   "outputs": [],
   "source": [
    "data[c] = data['p'] < alpha/data.shape[0]"
   ]
  },
  {
   "cell_type": "code",
   "execution_count": 23,
   "id": "850624eb-f428-4029-b28b-8fd211ff4138",
   "metadata": {},
   "outputs": [
    {
     "data": {
      "text/html": [
       "\n",
       "        <div class='alert alert-block alert-success'>\n",
       "            \n",
       "            \\begin{align*}\\alpha = 0.00125\\end{align*}\n",
       "        </div>\n",
       "    "
      ],
      "text/plain": [
       "<IPython.core.display.HTML object>"
      ]
     },
     "metadata": {},
     "output_type": "display_data"
    }
   ],
   "source": [
    "pprint(ltxt=f\"\\\\alpha = {alpha/data.shape[0]:.5f}\")"
   ]
  },
  {
   "cell_type": "markdown",
   "id": "211fa48f-be73-48a0-8e44-1ea34fcde224",
   "metadata": {},
   "source": [
    "> `Which items differ significantly using α=0.05.?`"
   ]
  },
  {
   "cell_type": "code",
   "execution_count": 24,
   "id": "8f52fd55-e704-4e96-a2f1-e4f341c471bd",
   "metadata": {},
   "outputs": [
    {
     "data": {
      "text/html": [
       "<div>\n",
       "<style scoped>\n",
       "    .dataframe tbody tr th:only-of-type {\n",
       "        vertical-align: middle;\n",
       "    }\n",
       "\n",
       "    .dataframe tbody tr th {\n",
       "        vertical-align: top;\n",
       "    }\n",
       "\n",
       "    .dataframe thead th {\n",
       "        text-align: right;\n",
       "    }\n",
       "</style>\n",
       "<table border=\"1\" class=\"dataframe\">\n",
       "  <thead>\n",
       "    <tr style=\"text-align: right;\">\n",
       "      <th></th>\n",
       "      <th>ItemNr</th>\n",
       "      <th>PopulationEffect</th>\n",
       "      <th>MeanGroup1</th>\n",
       "      <th>SDGroup1</th>\n",
       "      <th>MeanGroup2</th>\n",
       "      <th>SDGroup2</th>\n",
       "      <th>p</th>\n",
       "      <th>n_c</th>\n",
       "      <th>bfwe_c</th>\n",
       "    </tr>\n",
       "  </thead>\n",
       "  <tbody>\n",
       "    <tr>\n",
       "      <th>0</th>\n",
       "      <td>2</td>\n",
       "      <td>1</td>\n",
       "      <td>29.994295</td>\n",
       "      <td>95.425780</td>\n",
       "      <td>-69.758266</td>\n",
       "      <td>94.396975</td>\n",
       "      <td>8.650106e-07</td>\n",
       "      <td>True</td>\n",
       "      <td>True</td>\n",
       "    </tr>\n",
       "    <tr>\n",
       "      <th>1</th>\n",
       "      <td>3</td>\n",
       "      <td>1</td>\n",
       "      <td>-14.750289</td>\n",
       "      <td>91.456969</td>\n",
       "      <td>59.478600</td>\n",
       "      <td>77.639469</td>\n",
       "      <td>3.032362e-05</td>\n",
       "      <td>True</td>\n",
       "      <td>True</td>\n",
       "    </tr>\n",
       "    <tr>\n",
       "      <th>2</th>\n",
       "      <td>4</td>\n",
       "      <td>1</td>\n",
       "      <td>15.365896</td>\n",
       "      <td>108.016974</td>\n",
       "      <td>-65.388718</td>\n",
       "      <td>97.181716</td>\n",
       "      <td>1.583762e-04</td>\n",
       "      <td>True</td>\n",
       "      <td>True</td>\n",
       "    </tr>\n",
       "    <tr>\n",
       "      <th>3</th>\n",
       "      <td>22</td>\n",
       "      <td>1</td>\n",
       "      <td>3.724174</td>\n",
       "      <td>104.332472</td>\n",
       "      <td>-61.473413</td>\n",
       "      <td>89.711421</td>\n",
       "      <td>1.146776e-03</td>\n",
       "      <td>True</td>\n",
       "      <td>True</td>\n",
       "    </tr>\n",
       "  </tbody>\n",
       "</table>\n",
       "</div>"
      ],
      "text/plain": [
       "   ItemNr  PopulationEffect  MeanGroup1    SDGroup1  MeanGroup2   SDGroup2  \\\n",
       "0       2                 1   29.994295   95.425780  -69.758266  94.396975   \n",
       "1       3                 1  -14.750289   91.456969   59.478600  77.639469   \n",
       "2       4                 1   15.365896  108.016974  -65.388718  97.181716   \n",
       "3      22                 1    3.724174  104.332472  -61.473413  89.711421   \n",
       "\n",
       "              p   n_c  bfwe_c  \n",
       "0  8.650106e-07  True    True  \n",
       "1  3.032362e-05  True    True  \n",
       "2  1.583762e-04  True    True  \n",
       "3  1.146776e-03  True    True  "
      ]
     },
     "execution_count": 24,
     "metadata": {},
     "output_type": "execute_result"
    }
   ],
   "source": [
    "data.loc[data[c]].sort_values('ItemNr', ignore_index=True)"
   ]
  },
  {
   "cell_type": "markdown",
   "id": "e89d95ef-9be5-493c-be70-e2e7f71b950b",
   "metadata": {},
   "source": [
    "> `How many items are false positives? Which items?`"
   ]
  },
  {
   "cell_type": "code",
   "execution_count": 25,
   "id": "e7d08239-1014-43ac-b7e9-bf4118565920",
   "metadata": {},
   "outputs": [
    {
     "data": {
      "text/html": [
       "<div>\n",
       "<style scoped>\n",
       "    .dataframe tbody tr th:only-of-type {\n",
       "        vertical-align: middle;\n",
       "    }\n",
       "\n",
       "    .dataframe tbody tr th {\n",
       "        vertical-align: top;\n",
       "    }\n",
       "\n",
       "    .dataframe thead th {\n",
       "        text-align: right;\n",
       "    }\n",
       "</style>\n",
       "<table border=\"1\" class=\"dataframe\">\n",
       "  <thead>\n",
       "    <tr style=\"text-align: right;\">\n",
       "      <th></th>\n",
       "      <th>ItemNr</th>\n",
       "      <th>PopulationEffect</th>\n",
       "      <th>MeanGroup1</th>\n",
       "      <th>SDGroup1</th>\n",
       "      <th>MeanGroup2</th>\n",
       "      <th>SDGroup2</th>\n",
       "      <th>p</th>\n",
       "      <th>n_c</th>\n",
       "      <th>bfwe_c</th>\n",
       "    </tr>\n",
       "  </thead>\n",
       "  <tbody>\n",
       "  </tbody>\n",
       "</table>\n",
       "</div>"
      ],
      "text/plain": [
       "Empty DataFrame\n",
       "Columns: [ItemNr, PopulationEffect, MeanGroup1, SDGroup1, MeanGroup2, SDGroup2, p, n_c, bfwe_c]\n",
       "Index: []"
      ]
     },
     "execution_count": 25,
     "metadata": {},
     "output_type": "execute_result"
    }
   ],
   "source": [
    "data.loc[data[c] & ~data['PopulationEffect']].sort_values('ItemNr', ignore_index=True)"
   ]
  },
  {
   "cell_type": "markdown",
   "id": "afc97738-bcf4-4fcb-a14f-377a95100ca5",
   "metadata": {},
   "source": [
    "> `How many items are false negatives? Which items?`"
   ]
  },
  {
   "cell_type": "code",
   "execution_count": 26,
   "id": "5a000c53-762a-4cbd-ac51-c7357f90b235",
   "metadata": {},
   "outputs": [
    {
     "data": {
      "text/html": [
       "<div>\n",
       "<style scoped>\n",
       "    .dataframe tbody tr th:only-of-type {\n",
       "        vertical-align: middle;\n",
       "    }\n",
       "\n",
       "    .dataframe tbody tr th {\n",
       "        vertical-align: top;\n",
       "    }\n",
       "\n",
       "    .dataframe thead th {\n",
       "        text-align: right;\n",
       "    }\n",
       "</style>\n",
       "<table border=\"1\" class=\"dataframe\">\n",
       "  <thead>\n",
       "    <tr style=\"text-align: right;\">\n",
       "      <th></th>\n",
       "      <th>ItemNr</th>\n",
       "      <th>PopulationEffect</th>\n",
       "      <th>MeanGroup1</th>\n",
       "      <th>SDGroup1</th>\n",
       "      <th>MeanGroup2</th>\n",
       "      <th>SDGroup2</th>\n",
       "      <th>p</th>\n",
       "      <th>n_c</th>\n",
       "      <th>bfwe_c</th>\n",
       "    </tr>\n",
       "  </thead>\n",
       "  <tbody>\n",
       "    <tr>\n",
       "      <th>0</th>\n",
       "      <td>9</td>\n",
       "      <td>1</td>\n",
       "      <td>-1.607536</td>\n",
       "      <td>106.710088</td>\n",
       "      <td>47.116989</td>\n",
       "      <td>93.501920</td>\n",
       "      <td>0.016990</td>\n",
       "      <td>True</td>\n",
       "      <td>False</td>\n",
       "    </tr>\n",
       "    <tr>\n",
       "      <th>1</th>\n",
       "      <td>12</td>\n",
       "      <td>1</td>\n",
       "      <td>-3.337813</td>\n",
       "      <td>100.688518</td>\n",
       "      <td>55.741800</td>\n",
       "      <td>77.225995</td>\n",
       "      <td>0.001383</td>\n",
       "      <td>True</td>\n",
       "      <td>False</td>\n",
       "    </tr>\n",
       "    <tr>\n",
       "      <th>2</th>\n",
       "      <td>17</td>\n",
       "      <td>1</td>\n",
       "      <td>17.397040</td>\n",
       "      <td>91.816131</td>\n",
       "      <td>-36.685736</td>\n",
       "      <td>89.275218</td>\n",
       "      <td>0.003568</td>\n",
       "      <td>True</td>\n",
       "      <td>False</td>\n",
       "    </tr>\n",
       "    <tr>\n",
       "      <th>3</th>\n",
       "      <td>28</td>\n",
       "      <td>1</td>\n",
       "      <td>14.837358</td>\n",
       "      <td>89.832916</td>\n",
       "      <td>70.702745</td>\n",
       "      <td>98.851208</td>\n",
       "      <td>0.003888</td>\n",
       "      <td>True</td>\n",
       "      <td>False</td>\n",
       "    </tr>\n",
       "    <tr>\n",
       "      <th>4</th>\n",
       "      <td>30</td>\n",
       "      <td>1</td>\n",
       "      <td>-11.133983</td>\n",
       "      <td>102.951818</td>\n",
       "      <td>61.504223</td>\n",
       "      <td>121.314186</td>\n",
       "      <td>0.001695</td>\n",
       "      <td>True</td>\n",
       "      <td>False</td>\n",
       "    </tr>\n",
       "    <tr>\n",
       "      <th>5</th>\n",
       "      <td>32</td>\n",
       "      <td>1</td>\n",
       "      <td>4.420160</td>\n",
       "      <td>102.200128</td>\n",
       "      <td>61.186652</td>\n",
       "      <td>97.454919</td>\n",
       "      <td>0.005448</td>\n",
       "      <td>True</td>\n",
       "      <td>False</td>\n",
       "    </tr>\n",
       "  </tbody>\n",
       "</table>\n",
       "</div>"
      ],
      "text/plain": [
       "   ItemNr  PopulationEffect  MeanGroup1    SDGroup1  MeanGroup2    SDGroup2  \\\n",
       "0       9                 1   -1.607536  106.710088   47.116989   93.501920   \n",
       "1      12                 1   -3.337813  100.688518   55.741800   77.225995   \n",
       "2      17                 1   17.397040   91.816131  -36.685736   89.275218   \n",
       "3      28                 1   14.837358   89.832916   70.702745   98.851208   \n",
       "4      30                 1  -11.133983  102.951818   61.504223  121.314186   \n",
       "5      32                 1    4.420160  102.200128   61.186652   97.454919   \n",
       "\n",
       "          p   n_c  bfwe_c  \n",
       "0  0.016990  True   False  \n",
       "1  0.001383  True   False  \n",
       "2  0.003568  True   False  \n",
       "3  0.003888  True   False  \n",
       "4  0.001695  True   False  \n",
       "5  0.005448  True   False  "
      ]
     },
     "execution_count": 26,
     "metadata": {},
     "output_type": "execute_result"
    }
   ],
   "source": [
    "data.loc[~data[c] & data['PopulationEffect']].sort_values('ItemNr', ignore_index=True)"
   ]
  },
  {
   "cell_type": "markdown",
   "id": "d244114b-105a-493c-af76-76d620819cf3",
   "metadata": {},
   "source": [
    "### `3. Bonferroni-Holm FWE Correction`"
   ]
  },
  {
   "cell_type": "code",
   "execution_count": 27,
   "id": "e17be201-4d7e-4549-b077-b5c24759cacf",
   "metadata": {},
   "outputs": [],
   "source": [
    "c = 'bhfwe_c'"
   ]
  },
  {
   "cell_type": "code",
   "execution_count": 28,
   "id": "50daea91-b296-455c-8700-d00d3b66ecda",
   "metadata": {},
   "outputs": [],
   "source": [
    "data = data.sort_values('p', ignore_index=True) # Sort table in ascending order of significances\n",
    "# Bonferroni-Holm iteration without EXIT\n",
    "data[c] = [h['p'] < alpha/(data.shape[0] - i) for i, h in data.iterrows()]\n",
    "# Account for the EXIT condition in separate step by carrying over a rejection to the subsequent/following hypotheses\n",
    "data[c] = [h[c] & (data[c][i-1] if i else True) for i, h in data.iterrows()]"
   ]
  },
  {
   "cell_type": "code",
   "execution_count": 29,
   "id": "1cfecd99-d078-43b8-97d1-b2d1764ae421",
   "metadata": {},
   "outputs": [
    {
     "data": {
      "text/html": [
       "\n",
       "        <div class='alert alert-block alert-success'>\n",
       "            \n",
       "            \\begin{align*}\\alpha = 0.00143\\end{align*}\n",
       "        </div>\n",
       "    "
      ],
      "text/plain": [
       "<IPython.core.display.HTML object>"
      ]
     },
     "metadata": {},
     "output_type": "display_data"
    }
   ],
   "source": [
    "pprint(ltxt=f\"\\\\alpha = {alpha/(data.shape[0] - data.loc[~data[c]].index[0]):.5f}\")"
   ]
  },
  {
   "cell_type": "markdown",
   "id": "058d4a62-7419-4324-8758-a4c02eca603a",
   "metadata": {},
   "source": [
    "> `Which items differ significantly using α=0.05.?`"
   ]
  },
  {
   "cell_type": "code",
   "execution_count": 30,
   "id": "63383dda-e767-42ab-b898-e547008eb893",
   "metadata": {},
   "outputs": [
    {
     "data": {
      "text/html": [
       "<div>\n",
       "<style scoped>\n",
       "    .dataframe tbody tr th:only-of-type {\n",
       "        vertical-align: middle;\n",
       "    }\n",
       "\n",
       "    .dataframe tbody tr th {\n",
       "        vertical-align: top;\n",
       "    }\n",
       "\n",
       "    .dataframe thead th {\n",
       "        text-align: right;\n",
       "    }\n",
       "</style>\n",
       "<table border=\"1\" class=\"dataframe\">\n",
       "  <thead>\n",
       "    <tr style=\"text-align: right;\">\n",
       "      <th></th>\n",
       "      <th>ItemNr</th>\n",
       "      <th>PopulationEffect</th>\n",
       "      <th>MeanGroup1</th>\n",
       "      <th>SDGroup1</th>\n",
       "      <th>MeanGroup2</th>\n",
       "      <th>SDGroup2</th>\n",
       "      <th>p</th>\n",
       "      <th>n_c</th>\n",
       "      <th>bfwe_c</th>\n",
       "      <th>bhfwe_c</th>\n",
       "    </tr>\n",
       "  </thead>\n",
       "  <tbody>\n",
       "    <tr>\n",
       "      <th>0</th>\n",
       "      <td>2</td>\n",
       "      <td>1</td>\n",
       "      <td>29.994295</td>\n",
       "      <td>95.425780</td>\n",
       "      <td>-69.758266</td>\n",
       "      <td>94.396975</td>\n",
       "      <td>8.650106e-07</td>\n",
       "      <td>True</td>\n",
       "      <td>True</td>\n",
       "      <td>True</td>\n",
       "    </tr>\n",
       "    <tr>\n",
       "      <th>1</th>\n",
       "      <td>3</td>\n",
       "      <td>1</td>\n",
       "      <td>-14.750289</td>\n",
       "      <td>91.456969</td>\n",
       "      <td>59.478600</td>\n",
       "      <td>77.639469</td>\n",
       "      <td>3.032362e-05</td>\n",
       "      <td>True</td>\n",
       "      <td>True</td>\n",
       "      <td>True</td>\n",
       "    </tr>\n",
       "    <tr>\n",
       "      <th>2</th>\n",
       "      <td>4</td>\n",
       "      <td>1</td>\n",
       "      <td>15.365896</td>\n",
       "      <td>108.016974</td>\n",
       "      <td>-65.388718</td>\n",
       "      <td>97.181716</td>\n",
       "      <td>1.583762e-04</td>\n",
       "      <td>True</td>\n",
       "      <td>True</td>\n",
       "      <td>True</td>\n",
       "    </tr>\n",
       "    <tr>\n",
       "      <th>3</th>\n",
       "      <td>12</td>\n",
       "      <td>1</td>\n",
       "      <td>-3.337813</td>\n",
       "      <td>100.688518</td>\n",
       "      <td>55.741800</td>\n",
       "      <td>77.225995</td>\n",
       "      <td>1.383237e-03</td>\n",
       "      <td>True</td>\n",
       "      <td>False</td>\n",
       "      <td>True</td>\n",
       "    </tr>\n",
       "    <tr>\n",
       "      <th>4</th>\n",
       "      <td>22</td>\n",
       "      <td>1</td>\n",
       "      <td>3.724174</td>\n",
       "      <td>104.332472</td>\n",
       "      <td>-61.473413</td>\n",
       "      <td>89.711421</td>\n",
       "      <td>1.146776e-03</td>\n",
       "      <td>True</td>\n",
       "      <td>True</td>\n",
       "      <td>True</td>\n",
       "    </tr>\n",
       "  </tbody>\n",
       "</table>\n",
       "</div>"
      ],
      "text/plain": [
       "   ItemNr  PopulationEffect  MeanGroup1    SDGroup1  MeanGroup2   SDGroup2  \\\n",
       "0       2                 1   29.994295   95.425780  -69.758266  94.396975   \n",
       "1       3                 1  -14.750289   91.456969   59.478600  77.639469   \n",
       "2       4                 1   15.365896  108.016974  -65.388718  97.181716   \n",
       "3      12                 1   -3.337813  100.688518   55.741800  77.225995   \n",
       "4      22                 1    3.724174  104.332472  -61.473413  89.711421   \n",
       "\n",
       "              p   n_c  bfwe_c  bhfwe_c  \n",
       "0  8.650106e-07  True    True     True  \n",
       "1  3.032362e-05  True    True     True  \n",
       "2  1.583762e-04  True    True     True  \n",
       "3  1.383237e-03  True   False     True  \n",
       "4  1.146776e-03  True    True     True  "
      ]
     },
     "execution_count": 30,
     "metadata": {},
     "output_type": "execute_result"
    }
   ],
   "source": [
    "data.loc[data[c]].sort_values('ItemNr', ignore_index=True)"
   ]
  },
  {
   "cell_type": "markdown",
   "id": "e4f098c7-9b4f-4f7b-a8f6-d87675d95ce5",
   "metadata": {},
   "source": [
    "> `How many items are false positives? Which items?`"
   ]
  },
  {
   "cell_type": "code",
   "execution_count": 31,
   "id": "d2aaae34-6b2f-4348-92db-5a78a7314866",
   "metadata": {},
   "outputs": [
    {
     "data": {
      "text/html": [
       "<div>\n",
       "<style scoped>\n",
       "    .dataframe tbody tr th:only-of-type {\n",
       "        vertical-align: middle;\n",
       "    }\n",
       "\n",
       "    .dataframe tbody tr th {\n",
       "        vertical-align: top;\n",
       "    }\n",
       "\n",
       "    .dataframe thead th {\n",
       "        text-align: right;\n",
       "    }\n",
       "</style>\n",
       "<table border=\"1\" class=\"dataframe\">\n",
       "  <thead>\n",
       "    <tr style=\"text-align: right;\">\n",
       "      <th></th>\n",
       "      <th>ItemNr</th>\n",
       "      <th>PopulationEffect</th>\n",
       "      <th>MeanGroup1</th>\n",
       "      <th>SDGroup1</th>\n",
       "      <th>MeanGroup2</th>\n",
       "      <th>SDGroup2</th>\n",
       "      <th>p</th>\n",
       "      <th>n_c</th>\n",
       "      <th>bfwe_c</th>\n",
       "      <th>bhfwe_c</th>\n",
       "    </tr>\n",
       "  </thead>\n",
       "  <tbody>\n",
       "  </tbody>\n",
       "</table>\n",
       "</div>"
      ],
      "text/plain": [
       "Empty DataFrame\n",
       "Columns: [ItemNr, PopulationEffect, MeanGroup1, SDGroup1, MeanGroup2, SDGroup2, p, n_c, bfwe_c, bhfwe_c]\n",
       "Index: []"
      ]
     },
     "execution_count": 31,
     "metadata": {},
     "output_type": "execute_result"
    }
   ],
   "source": [
    "data.loc[data[c] & ~data['PopulationEffect']].sort_values('ItemNr', ignore_index=True)"
   ]
  },
  {
   "cell_type": "markdown",
   "id": "09a489c9-761d-44a6-ab32-cbd1e84a981b",
   "metadata": {},
   "source": [
    "> `How many items are false negatives? Which items?`"
   ]
  },
  {
   "cell_type": "code",
   "execution_count": 32,
   "id": "ff24a4b0-0e1c-42ef-99c0-2ba573ef192b",
   "metadata": {},
   "outputs": [
    {
     "data": {
      "text/html": [
       "<div>\n",
       "<style scoped>\n",
       "    .dataframe tbody tr th:only-of-type {\n",
       "        vertical-align: middle;\n",
       "    }\n",
       "\n",
       "    .dataframe tbody tr th {\n",
       "        vertical-align: top;\n",
       "    }\n",
       "\n",
       "    .dataframe thead th {\n",
       "        text-align: right;\n",
       "    }\n",
       "</style>\n",
       "<table border=\"1\" class=\"dataframe\">\n",
       "  <thead>\n",
       "    <tr style=\"text-align: right;\">\n",
       "      <th></th>\n",
       "      <th>ItemNr</th>\n",
       "      <th>PopulationEffect</th>\n",
       "      <th>MeanGroup1</th>\n",
       "      <th>SDGroup1</th>\n",
       "      <th>MeanGroup2</th>\n",
       "      <th>SDGroup2</th>\n",
       "      <th>p</th>\n",
       "      <th>n_c</th>\n",
       "      <th>bfwe_c</th>\n",
       "      <th>bhfwe_c</th>\n",
       "    </tr>\n",
       "  </thead>\n",
       "  <tbody>\n",
       "    <tr>\n",
       "      <th>0</th>\n",
       "      <td>9</td>\n",
       "      <td>1</td>\n",
       "      <td>-1.607536</td>\n",
       "      <td>106.710088</td>\n",
       "      <td>47.116989</td>\n",
       "      <td>93.501920</td>\n",
       "      <td>0.016990</td>\n",
       "      <td>True</td>\n",
       "      <td>False</td>\n",
       "      <td>False</td>\n",
       "    </tr>\n",
       "    <tr>\n",
       "      <th>1</th>\n",
       "      <td>17</td>\n",
       "      <td>1</td>\n",
       "      <td>17.397040</td>\n",
       "      <td>91.816131</td>\n",
       "      <td>-36.685736</td>\n",
       "      <td>89.275218</td>\n",
       "      <td>0.003568</td>\n",
       "      <td>True</td>\n",
       "      <td>False</td>\n",
       "      <td>False</td>\n",
       "    </tr>\n",
       "    <tr>\n",
       "      <th>2</th>\n",
       "      <td>28</td>\n",
       "      <td>1</td>\n",
       "      <td>14.837358</td>\n",
       "      <td>89.832916</td>\n",
       "      <td>70.702745</td>\n",
       "      <td>98.851208</td>\n",
       "      <td>0.003888</td>\n",
       "      <td>True</td>\n",
       "      <td>False</td>\n",
       "      <td>False</td>\n",
       "    </tr>\n",
       "    <tr>\n",
       "      <th>3</th>\n",
       "      <td>30</td>\n",
       "      <td>1</td>\n",
       "      <td>-11.133983</td>\n",
       "      <td>102.951818</td>\n",
       "      <td>61.504223</td>\n",
       "      <td>121.314186</td>\n",
       "      <td>0.001695</td>\n",
       "      <td>True</td>\n",
       "      <td>False</td>\n",
       "      <td>False</td>\n",
       "    </tr>\n",
       "    <tr>\n",
       "      <th>4</th>\n",
       "      <td>32</td>\n",
       "      <td>1</td>\n",
       "      <td>4.420160</td>\n",
       "      <td>102.200128</td>\n",
       "      <td>61.186652</td>\n",
       "      <td>97.454919</td>\n",
       "      <td>0.005448</td>\n",
       "      <td>True</td>\n",
       "      <td>False</td>\n",
       "      <td>False</td>\n",
       "    </tr>\n",
       "  </tbody>\n",
       "</table>\n",
       "</div>"
      ],
      "text/plain": [
       "   ItemNr  PopulationEffect  MeanGroup1    SDGroup1  MeanGroup2    SDGroup2  \\\n",
       "0       9                 1   -1.607536  106.710088   47.116989   93.501920   \n",
       "1      17                 1   17.397040   91.816131  -36.685736   89.275218   \n",
       "2      28                 1   14.837358   89.832916   70.702745   98.851208   \n",
       "3      30                 1  -11.133983  102.951818   61.504223  121.314186   \n",
       "4      32                 1    4.420160  102.200128   61.186652   97.454919   \n",
       "\n",
       "          p   n_c  bfwe_c  bhfwe_c  \n",
       "0  0.016990  True   False    False  \n",
       "1  0.003568  True   False    False  \n",
       "2  0.003888  True   False    False  \n",
       "3  0.001695  True   False    False  \n",
       "4  0.005448  True   False    False  "
      ]
     },
     "execution_count": 32,
     "metadata": {},
     "output_type": "execute_result"
    }
   ],
   "source": [
    "data.loc[~data[c] & data['PopulationEffect']].sort_values('ItemNr', ignore_index=True)"
   ]
  },
  {
   "cell_type": "markdown",
   "id": "bfe9a966-b116-46fe-90a8-0a538b79d820",
   "metadata": {},
   "source": [
    "### `4. Bonferroni-Hochberg FDR Correction`"
   ]
  },
  {
   "cell_type": "code",
   "execution_count": 33,
   "id": "df9da2c2-3b25-432f-856f-af1e1c9a626e",
   "metadata": {},
   "outputs": [],
   "source": [
    "c = 'bhfdr_c'"
   ]
  },
  {
   "cell_type": "code",
   "execution_count": 34,
   "id": "b2b29f0c-33e0-4f6f-b4ea-39a521db5949",
   "metadata": {},
   "outputs": [],
   "source": [
    "# data = data.sort_values('p', ignore_index=True) # Sort table in ascending order of significances\n",
    "# Bonferroni-Hochberg iteration\n",
    "data[c] = [h['p'] < alpha*(i+1)/data.shape[0] for i, h in data.iterrows()]"
   ]
  },
  {
   "cell_type": "code",
   "execution_count": 35,
   "id": "4c8773f1-6316-4c1a-b6b7-fc52b5f2f8d5",
   "metadata": {},
   "outputs": [
    {
     "data": {
      "text/html": [
       "\n",
       "        <div class='alert alert-block alert-success'>\n",
       "            \n",
       "            \\begin{align*}\\alpha = 0.01250\\end{align*}\n",
       "        </div>\n",
       "    "
      ],
      "text/plain": [
       "<IPython.core.display.HTML object>"
      ]
     },
     "metadata": {},
     "output_type": "display_data"
    }
   ],
   "source": [
    "pprint(ltxt=f\"\\\\alpha = {alpha*(data.loc[data[c]].index[-1]+2)/data.shape[0]:.5f}\")"
   ]
  },
  {
   "cell_type": "markdown",
   "id": "d226d48f-933b-4c08-b1f4-9aa797a0c8c4",
   "metadata": {},
   "source": [
    "> `Which items differ significantly using α=0.05.?`"
   ]
  },
  {
   "cell_type": "code",
   "execution_count": 36,
   "id": "9a021834-0d25-4898-8f70-c0c8fac53494",
   "metadata": {},
   "outputs": [
    {
     "data": {
      "text/html": [
       "<div>\n",
       "<style scoped>\n",
       "    .dataframe tbody tr th:only-of-type {\n",
       "        vertical-align: middle;\n",
       "    }\n",
       "\n",
       "    .dataframe tbody tr th {\n",
       "        vertical-align: top;\n",
       "    }\n",
       "\n",
       "    .dataframe thead th {\n",
       "        text-align: right;\n",
       "    }\n",
       "</style>\n",
       "<table border=\"1\" class=\"dataframe\">\n",
       "  <thead>\n",
       "    <tr style=\"text-align: right;\">\n",
       "      <th></th>\n",
       "      <th>ItemNr</th>\n",
       "      <th>PopulationEffect</th>\n",
       "      <th>MeanGroup1</th>\n",
       "      <th>SDGroup1</th>\n",
       "      <th>MeanGroup2</th>\n",
       "      <th>SDGroup2</th>\n",
       "      <th>p</th>\n",
       "      <th>n_c</th>\n",
       "      <th>bfwe_c</th>\n",
       "      <th>bhfwe_c</th>\n",
       "      <th>bhfdr_c</th>\n",
       "    </tr>\n",
       "  </thead>\n",
       "  <tbody>\n",
       "    <tr>\n",
       "      <th>0</th>\n",
       "      <td>2</td>\n",
       "      <td>1</td>\n",
       "      <td>29.994295</td>\n",
       "      <td>95.425780</td>\n",
       "      <td>-69.758266</td>\n",
       "      <td>94.396975</td>\n",
       "      <td>8.650106e-07</td>\n",
       "      <td>True</td>\n",
       "      <td>True</td>\n",
       "      <td>True</td>\n",
       "      <td>True</td>\n",
       "    </tr>\n",
       "    <tr>\n",
       "      <th>1</th>\n",
       "      <td>3</td>\n",
       "      <td>1</td>\n",
       "      <td>-14.750289</td>\n",
       "      <td>91.456969</td>\n",
       "      <td>59.478600</td>\n",
       "      <td>77.639469</td>\n",
       "      <td>3.032362e-05</td>\n",
       "      <td>True</td>\n",
       "      <td>True</td>\n",
       "      <td>True</td>\n",
       "      <td>True</td>\n",
       "    </tr>\n",
       "    <tr>\n",
       "      <th>2</th>\n",
       "      <td>4</td>\n",
       "      <td>1</td>\n",
       "      <td>15.365896</td>\n",
       "      <td>108.016974</td>\n",
       "      <td>-65.388718</td>\n",
       "      <td>97.181716</td>\n",
       "      <td>1.583762e-04</td>\n",
       "      <td>True</td>\n",
       "      <td>True</td>\n",
       "      <td>True</td>\n",
       "      <td>True</td>\n",
       "    </tr>\n",
       "    <tr>\n",
       "      <th>3</th>\n",
       "      <td>12</td>\n",
       "      <td>1</td>\n",
       "      <td>-3.337813</td>\n",
       "      <td>100.688518</td>\n",
       "      <td>55.741800</td>\n",
       "      <td>77.225995</td>\n",
       "      <td>1.383237e-03</td>\n",
       "      <td>True</td>\n",
       "      <td>False</td>\n",
       "      <td>True</td>\n",
       "      <td>True</td>\n",
       "    </tr>\n",
       "    <tr>\n",
       "      <th>4</th>\n",
       "      <td>17</td>\n",
       "      <td>1</td>\n",
       "      <td>17.397040</td>\n",
       "      <td>91.816131</td>\n",
       "      <td>-36.685736</td>\n",
       "      <td>89.275218</td>\n",
       "      <td>3.567915e-03</td>\n",
       "      <td>True</td>\n",
       "      <td>False</td>\n",
       "      <td>False</td>\n",
       "      <td>True</td>\n",
       "    </tr>\n",
       "    <tr>\n",
       "      <th>5</th>\n",
       "      <td>22</td>\n",
       "      <td>1</td>\n",
       "      <td>3.724174</td>\n",
       "      <td>104.332472</td>\n",
       "      <td>-61.473413</td>\n",
       "      <td>89.711421</td>\n",
       "      <td>1.146776e-03</td>\n",
       "      <td>True</td>\n",
       "      <td>True</td>\n",
       "      <td>True</td>\n",
       "      <td>True</td>\n",
       "    </tr>\n",
       "    <tr>\n",
       "      <th>6</th>\n",
       "      <td>28</td>\n",
       "      <td>1</td>\n",
       "      <td>14.837358</td>\n",
       "      <td>89.832916</td>\n",
       "      <td>70.702745</td>\n",
       "      <td>98.851208</td>\n",
       "      <td>3.887910e-03</td>\n",
       "      <td>True</td>\n",
       "      <td>False</td>\n",
       "      <td>False</td>\n",
       "      <td>True</td>\n",
       "    </tr>\n",
       "    <tr>\n",
       "      <th>7</th>\n",
       "      <td>30</td>\n",
       "      <td>1</td>\n",
       "      <td>-11.133983</td>\n",
       "      <td>102.951818</td>\n",
       "      <td>61.504223</td>\n",
       "      <td>121.314186</td>\n",
       "      <td>1.695383e-03</td>\n",
       "      <td>True</td>\n",
       "      <td>False</td>\n",
       "      <td>False</td>\n",
       "      <td>True</td>\n",
       "    </tr>\n",
       "    <tr>\n",
       "      <th>8</th>\n",
       "      <td>32</td>\n",
       "      <td>1</td>\n",
       "      <td>4.420160</td>\n",
       "      <td>102.200128</td>\n",
       "      <td>61.186652</td>\n",
       "      <td>97.454919</td>\n",
       "      <td>5.448136e-03</td>\n",
       "      <td>True</td>\n",
       "      <td>False</td>\n",
       "      <td>False</td>\n",
       "      <td>True</td>\n",
       "    </tr>\n",
       "  </tbody>\n",
       "</table>\n",
       "</div>"
      ],
      "text/plain": [
       "   ItemNr  PopulationEffect  MeanGroup1    SDGroup1  MeanGroup2    SDGroup2  \\\n",
       "0       2                 1   29.994295   95.425780  -69.758266   94.396975   \n",
       "1       3                 1  -14.750289   91.456969   59.478600   77.639469   \n",
       "2       4                 1   15.365896  108.016974  -65.388718   97.181716   \n",
       "3      12                 1   -3.337813  100.688518   55.741800   77.225995   \n",
       "4      17                 1   17.397040   91.816131  -36.685736   89.275218   \n",
       "5      22                 1    3.724174  104.332472  -61.473413   89.711421   \n",
       "6      28                 1   14.837358   89.832916   70.702745   98.851208   \n",
       "7      30                 1  -11.133983  102.951818   61.504223  121.314186   \n",
       "8      32                 1    4.420160  102.200128   61.186652   97.454919   \n",
       "\n",
       "              p   n_c  bfwe_c  bhfwe_c  bhfdr_c  \n",
       "0  8.650106e-07  True    True     True     True  \n",
       "1  3.032362e-05  True    True     True     True  \n",
       "2  1.583762e-04  True    True     True     True  \n",
       "3  1.383237e-03  True   False     True     True  \n",
       "4  3.567915e-03  True   False    False     True  \n",
       "5  1.146776e-03  True    True     True     True  \n",
       "6  3.887910e-03  True   False    False     True  \n",
       "7  1.695383e-03  True   False    False     True  \n",
       "8  5.448136e-03  True   False    False     True  "
      ]
     },
     "execution_count": 36,
     "metadata": {},
     "output_type": "execute_result"
    }
   ],
   "source": [
    "data.loc[data[c]].sort_values('ItemNr', ignore_index=True)"
   ]
  },
  {
   "cell_type": "markdown",
   "id": "99e74519-97a0-439f-bd2e-c5fbe08fafc4",
   "metadata": {},
   "source": [
    "> `How many items are false positives? Which items?`"
   ]
  },
  {
   "cell_type": "code",
   "execution_count": 37,
   "id": "1d149bbc-daae-492c-b764-d74117a2d761",
   "metadata": {},
   "outputs": [
    {
     "data": {
      "text/html": [
       "<div>\n",
       "<style scoped>\n",
       "    .dataframe tbody tr th:only-of-type {\n",
       "        vertical-align: middle;\n",
       "    }\n",
       "\n",
       "    .dataframe tbody tr th {\n",
       "        vertical-align: top;\n",
       "    }\n",
       "\n",
       "    .dataframe thead th {\n",
       "        text-align: right;\n",
       "    }\n",
       "</style>\n",
       "<table border=\"1\" class=\"dataframe\">\n",
       "  <thead>\n",
       "    <tr style=\"text-align: right;\">\n",
       "      <th></th>\n",
       "      <th>ItemNr</th>\n",
       "      <th>PopulationEffect</th>\n",
       "      <th>MeanGroup1</th>\n",
       "      <th>SDGroup1</th>\n",
       "      <th>MeanGroup2</th>\n",
       "      <th>SDGroup2</th>\n",
       "      <th>p</th>\n",
       "      <th>n_c</th>\n",
       "      <th>bfwe_c</th>\n",
       "      <th>bhfwe_c</th>\n",
       "      <th>bhfdr_c</th>\n",
       "    </tr>\n",
       "  </thead>\n",
       "  <tbody>\n",
       "  </tbody>\n",
       "</table>\n",
       "</div>"
      ],
      "text/plain": [
       "Empty DataFrame\n",
       "Columns: [ItemNr, PopulationEffect, MeanGroup1, SDGroup1, MeanGroup2, SDGroup2, p, n_c, bfwe_c, bhfwe_c, bhfdr_c]\n",
       "Index: []"
      ]
     },
     "execution_count": 37,
     "metadata": {},
     "output_type": "execute_result"
    }
   ],
   "source": [
    "data.loc[data[c] & ~data['PopulationEffect']].sort_values('ItemNr', ignore_index=True)"
   ]
  },
  {
   "cell_type": "markdown",
   "id": "92ec244b-7021-4d51-a2b0-fb300dc5b7e5",
   "metadata": {},
   "source": [
    "> `How many items are false negatives? Which items?`"
   ]
  },
  {
   "cell_type": "code",
   "execution_count": 38,
   "id": "ba205ff4-cf30-4061-bede-f9daa429ca0a",
   "metadata": {},
   "outputs": [
    {
     "data": {
      "text/html": [
       "<div>\n",
       "<style scoped>\n",
       "    .dataframe tbody tr th:only-of-type {\n",
       "        vertical-align: middle;\n",
       "    }\n",
       "\n",
       "    .dataframe tbody tr th {\n",
       "        vertical-align: top;\n",
       "    }\n",
       "\n",
       "    .dataframe thead th {\n",
       "        text-align: right;\n",
       "    }\n",
       "</style>\n",
       "<table border=\"1\" class=\"dataframe\">\n",
       "  <thead>\n",
       "    <tr style=\"text-align: right;\">\n",
       "      <th></th>\n",
       "      <th>ItemNr</th>\n",
       "      <th>PopulationEffect</th>\n",
       "      <th>MeanGroup1</th>\n",
       "      <th>SDGroup1</th>\n",
       "      <th>MeanGroup2</th>\n",
       "      <th>SDGroup2</th>\n",
       "      <th>p</th>\n",
       "      <th>n_c</th>\n",
       "      <th>bfwe_c</th>\n",
       "      <th>bhfwe_c</th>\n",
       "      <th>bhfdr_c</th>\n",
       "    </tr>\n",
       "  </thead>\n",
       "  <tbody>\n",
       "    <tr>\n",
       "      <th>0</th>\n",
       "      <td>9</td>\n",
       "      <td>1</td>\n",
       "      <td>-1.607536</td>\n",
       "      <td>106.710088</td>\n",
       "      <td>47.116989</td>\n",
       "      <td>93.50192</td>\n",
       "      <td>0.01699</td>\n",
       "      <td>True</td>\n",
       "      <td>False</td>\n",
       "      <td>False</td>\n",
       "      <td>False</td>\n",
       "    </tr>\n",
       "  </tbody>\n",
       "</table>\n",
       "</div>"
      ],
      "text/plain": [
       "   ItemNr  PopulationEffect  MeanGroup1    SDGroup1  MeanGroup2  SDGroup2  \\\n",
       "0       9                 1   -1.607536  106.710088   47.116989  93.50192   \n",
       "\n",
       "         p   n_c  bfwe_c  bhfwe_c  bhfdr_c  \n",
       "0  0.01699  True   False    False    False  "
      ]
     },
     "execution_count": 38,
     "metadata": {},
     "output_type": "execute_result"
    }
   ],
   "source": [
    "data.loc[~data[c] & data['PopulationEffect']].sort_values('ItemNr', ignore_index=True)"
   ]
  },
  {
   "cell_type": "markdown",
   "id": "b444b3de-8713-4778-80d7-ddb8a8c249bc",
   "metadata": {
    "heading_collapsed": "true",
    "tags": []
   },
   "source": [
    "## 6."
   ]
  },
  {
   "cell_type": "markdown",
   "id": "39c3402c-d435-4015-bde0-1d67cce0264f",
   "metadata": {},
   "source": [
    "<div class=\"alert alert-block alert-warning\">\n",
    "$$\\alpha = 0.048$$\n",
    "</div>"
   ]
  },
  {
   "cell_type": "code",
   "execution_count": 39,
   "id": "d9330aad-000b-4d4c-b36c-ee672d4c6b69",
   "metadata": {},
   "outputs": [
    {
     "data": {
      "image/png": "[encoded data removed]",
      "text/plain": [
       "<Figure size 432x288 with 1 Axes>"
      ]
     },
     "metadata": {
      "needs_background": "light"
     },
     "output_type": "display_data"
    }
   ],
   "source": [
    "alpha = 0.048\n",
    "\n",
    "x = np.linspace(-10, 10, 1+100)\n",
    "df = 30\n",
    "\n",
    "y0 = st.t(df).pdf(x)\n",
    "m = -st.t.ppf(alpha/2, df)\n",
    "\n",
    "plt.plot(x, y0, label='$H_0$')\n",
    "plt.plot(x+m, y0, label='$H_1$')\n",
    "\n",
    "plt.ylim((0, None))\n",
    "\n",
    "plt.fill_between(x, 0, y0, abs(x)>=m, alpha=0.5, label=rf'$\\alpha = {alpha}$')\n",
    "plt.fill_between(x+m, 0, y0, x<=0, alpha=0.5, label=r'$\\beta = 0.5$')\n",
    "plt.axvline(m, c='k', ls='-.', lw=3, alpha=0.5)\n",
    "\n",
    "plt.title(rf\"Student's t-Distributions for Hypothesis Analysis ($\\nu = {df}$)\")\n",
    "plt.legend();"
   ]
  },
  {
   "cell_type": "markdown",
   "id": "7655492e-dcb4-4839-9da0-adf0dbb845b9",
   "metadata": {
    "tags": []
   },
   "source": [
    "# Assignment 2"
   ]
  },
  {
   "cell_type": "markdown",
   "id": "a749432e-5752-49bb-9371-f2fb9b633f07",
   "metadata": {
    "tags": []
   },
   "source": [
    "## 1."
   ]
  },
  {
   "cell_type": "code",
   "execution_count": 40,
   "id": "f40bc552-5e7e-4182-80f7-1c4b263abb3b",
   "metadata": {},
   "outputs": [],
   "source": [
    "data = pd.read_csv('data2/2/Table1.csv')"
   ]
  },
  {
   "cell_type": "code",
   "execution_count": 41,
   "id": "f363536a-f053-41c1-83af-3aabd1fa073b",
   "metadata": {},
   "outputs": [
    {
     "data": {
      "text/html": [
       "<div>\n",
       "<style scoped>\n",
       "    .dataframe tbody tr th:only-of-type {\n",
       "        vertical-align: middle;\n",
       "    }\n",
       "\n",
       "    .dataframe tbody tr th {\n",
       "        vertical-align: top;\n",
       "    }\n",
       "\n",
       "    .dataframe thead th {\n",
       "        text-align: right;\n",
       "    }\n",
       "</style>\n",
       "<table border=\"1\" class=\"dataframe\">\n",
       "  <thead>\n",
       "    <tr style=\"text-align: right;\">\n",
       "      <th></th>\n",
       "      <th>y</th>\n",
       "      <th>cov</th>\n",
       "      <th>group</th>\n",
       "    </tr>\n",
       "  </thead>\n",
       "  <tbody>\n",
       "    <tr>\n",
       "      <th>0</th>\n",
       "      <td>38.584295</td>\n",
       "      <td>10.412885</td>\n",
       "      <td>1</td>\n",
       "    </tr>\n",
       "    <tr>\n",
       "      <th>1</th>\n",
       "      <td>44.187336</td>\n",
       "      <td>11.002084</td>\n",
       "      <td>1</td>\n",
       "    </tr>\n",
       "    <tr>\n",
       "      <th>2</th>\n",
       "      <td>52.094189</td>\n",
       "      <td>6.414673</td>\n",
       "      <td>1</td>\n",
       "    </tr>\n",
       "    <tr>\n",
       "      <th>3</th>\n",
       "      <td>59.555212</td>\n",
       "      <td>14.345982</td>\n",
       "      <td>1</td>\n",
       "    </tr>\n",
       "    <tr>\n",
       "      <th>4</th>\n",
       "      <td>54.836810</td>\n",
       "      <td>9.047109</td>\n",
       "      <td>1</td>\n",
       "    </tr>\n",
       "  </tbody>\n",
       "</table>\n",
       "</div>"
      ],
      "text/plain": [
       "           y        cov  group\n",
       "0  38.584295  10.412885      1\n",
       "1  44.187336  11.002084      1\n",
       "2  52.094189   6.414673      1\n",
       "3  59.555212  14.345982      1\n",
       "4  54.836810   9.047109      1"
      ]
     },
     "execution_count": 41,
     "metadata": {},
     "output_type": "execute_result"
    }
   ],
   "source": [
    "data.head()"
   ]
  },
  {
   "cell_type": "markdown",
   "id": "43f40f8b-e066-44de-baf1-2e6ee0e9004e",
   "metadata": {},
   "source": [
    "`a.`"
   ]
  },
  {
   "cell_type": "code",
   "execution_count": 42,
   "id": "c6dbf5e5-7040-44d9-8455-696ac6b199fb",
   "metadata": {},
   "outputs": [],
   "source": [
    "X = np.c_[-data['group'] + 2, np.ones(data.shape[0])]\n",
    "y = data['y'].to_numpy()"
   ]
  },
  {
   "cell_type": "code",
   "execution_count": 43,
   "id": "93163961-b41b-4a5f-ab35-8f9e0f29e71b",
   "metadata": {},
   "outputs": [],
   "source": [
    "# Alternative Hypothesis - H_1\n",
    "beta_hat = np.linalg.inv(X.T @ X) @ X.T @ y\n",
    "y_hat = X @ beta_hat\n",
    "e_hat = y - y_hat\n",
    "sse = e_hat @ e_hat"
   ]
  },
  {
   "cell_type": "code",
   "execution_count": 78,
   "id": "2a5af0b0-77bf-4ee2-ac06-b38959ba4b6e",
   "metadata": {},
   "outputs": [
    {
     "data": {
      "text/html": [
       "\n",
       "        <div class='alert alert-block alert-success'>\n",
       "            \n",
       "            \\begin{align*}\\beta = [ 7.18545,42.32027]\\end{align*}\n",
       "        </div>\n",
       "    "
      ],
      "text/plain": [
       "<IPython.core.display.HTML object>"
      ]
     },
     "metadata": {},
     "output_type": "display_data"
    },
    {
     "data": {
      "text/html": [
       "\n",
       "        <div class='alert alert-block alert-success'>\n",
       "            \n",
       "            \\begin{align*}SSE = 6047.93004\\end{align*}\n",
       "        </div>\n",
       "    "
      ],
      "text/plain": [
       "<IPython.core.display.HTML object>"
      ]
     },
     "metadata": {},
     "output_type": "display_data"
    }
   ],
   "source": [
    "pprint(ltxt=f\"\\\\beta = {np.array2string(beta_hat, precision=5, separator=',')}\")\n",
    "pprint(ltxt=f\"SSE = {sse:.5f}\")"
   ]
  },
  {
   "cell_type": "code",
   "execution_count": 79,
   "id": "0d480bb7-e074-481a-8995-872448720932",
   "metadata": {},
   "outputs": [],
   "source": [
    "# Null Hypothesis - H_0\n",
    "X_0 = np.ones(data.shape[0])[:, None]\n",
    "beta_hat_0 = np.linalg.inv(X_0.T @ X_0) @ X_0.T @ y\n",
    "y_hat_0 = X_0 @ beta_hat_0\n",
    "e_hat_0 = y - y_hat_0\n",
    "sse_0 = e_hat_0 @ e_hat_0"
   ]
  },
  {
   "cell_type": "code",
   "execution_count": 80,
   "id": "9fc721c9-8dd0-4a16-b456-9c0f3b2667b7",
   "metadata": {},
   "outputs": [
    {
     "data": {
      "text/html": [
       "\n",
       "        <div class='alert alert-block alert-success'>\n",
       "            \n",
       "            \\begin{align*}SSE_{H_0} = 6822.38993\\end{align*}\n",
       "        </div>\n",
       "    "
      ],
      "text/plain": [
       "<IPython.core.display.HTML object>"
      ]
     },
     "metadata": {},
     "output_type": "display_data"
    }
   ],
   "source": [
    "pprint(ltxt=f\"SSE_{{H_0}} = {sse_0:.5f}\")"
   ]
  },
  {
   "cell_type": "code",
   "execution_count": 73,
   "id": "bf5965ad-9cc3-4b2a-90dd-23652db614c5",
   "metadata": {},
   "outputs": [
    {
     "data": {
      "text/html": [
       "\n",
       "        <div class='alert alert-block alert-success'>\n",
       "            \n",
       "            \\begin{align*}F = 7.42712\\end{align*}\n",
       "        </div>\n",
       "    "
      ],
      "text/plain": [
       "<IPython.core.display.HTML object>"
      ]
     },
     "metadata": {},
     "output_type": "display_data"
    },
    {
     "data": {
      "text/html": [
       "\n",
       "        <div class='alert alert-block alert-success'>\n",
       "            \n",
       "            \\begin{align*}p = 0.00848\\end{align*}\n",
       "        </div>\n",
       "    "
      ],
      "text/plain": [
       "<IPython.core.display.HTML object>"
      ]
     },
     "metadata": {},
     "output_type": "display_data"
    }
   ],
   "source": [
    "# Significance Test\n",
    "pprint(ltxt=f\"F = {(f := ((n:=len(y)) - (p:=2))/(r:=1) * (sse_0 - sse)/sse):.5f}\")\n",
    "pprint(ltxt=f\"p = {(pval := 1 - st.f.cdf(f, dfn=r, dfd=n-p)):.5f}\")"
   ]
  },
  {
   "cell_type": "markdown",
   "id": "84577590-ab16-45f1-b956-6741d9b3600d",
   "metadata": {},
   "source": [
    "`b.`"
   ]
  },
  {
   "cell_type": "code",
   "execution_count": 93,
   "id": "3992c41d-5ea5-44a3-a352-96f260b2be5c",
   "metadata": {},
   "outputs": [],
   "source": [
    "model = sm.OLS(y, X)\n",
    "results = model.fit()"
   ]
  },
  {
   "cell_type": "code",
   "execution_count": 94,
   "id": "1ce4cb41-b78c-4f95-99d2-b9a5b8d5a8ba",
   "metadata": {},
   "outputs": [
    {
     "data": {
      "text/html": [
       "<table class=\"simpletable\">\n",
       "<caption>OLS Regression Results</caption>\n",
       "<tr>\n",
       "  <th>Dep. Variable:</th>            <td>y</td>        <th>  R-squared:         </th> <td>   0.114</td>\n",
       "</tr>\n",
       "<tr>\n",
       "  <th>Model:</th>                   <td>OLS</td>       <th>  Adj. R-squared:    </th> <td>   0.098</td>\n",
       "</tr>\n",
       "<tr>\n",
       "  <th>Method:</th>             <td>Least Squares</td>  <th>  F-statistic:       </th> <td>   7.427</td>\n",
       "</tr>\n",
       "<tr>\n",
       "  <th>Date:</th>             <td>Thu, 15 Sep 2022</td> <th>  Prob (F-statistic):</th>  <td>0.00848</td>\n",
       "</tr>\n",
       "<tr>\n",
       "  <th>Time:</th>                 <td>17:07:12</td>     <th>  Log-Likelihood:    </th> <td> -223.53</td>\n",
       "</tr>\n",
       "<tr>\n",
       "  <th>No. Observations:</th>      <td>    60</td>      <th>  AIC:               </th> <td>   451.1</td>\n",
       "</tr>\n",
       "<tr>\n",
       "  <th>Df Residuals:</th>          <td>    58</td>      <th>  BIC:               </th> <td>   455.2</td>\n",
       "</tr>\n",
       "<tr>\n",
       "  <th>Df Model:</th>              <td>     1</td>      <th>                     </th>     <td> </td>   \n",
       "</tr>\n",
       "<tr>\n",
       "  <th>Covariance Type:</th>      <td>nonrobust</td>    <th>                     </th>     <td> </td>   \n",
       "</tr>\n",
       "</table>\n",
       "<table class=\"simpletable\">\n",
       "<tr>\n",
       "    <td></td>       <th>coef</th>     <th>std err</th>      <th>t</th>      <th>P>|t|</th>  <th>[0.025</th>    <th>0.975]</th>  \n",
       "</tr>\n",
       "<tr>\n",
       "  <th>x1</th>    <td>    7.1854</td> <td>    2.637</td> <td>    2.725</td> <td> 0.008</td> <td>    1.908</td> <td>   12.463</td>\n",
       "</tr>\n",
       "<tr>\n",
       "  <th>const</th> <td>   42.3203</td> <td>    1.864</td> <td>   22.700</td> <td> 0.000</td> <td>   38.588</td> <td>   46.052</td>\n",
       "</tr>\n",
       "</table>\n",
       "<table class=\"simpletable\">\n",
       "<tr>\n",
       "  <th>Omnibus:</th>       <td> 1.120</td> <th>  Durbin-Watson:     </th> <td>   1.895</td>\n",
       "</tr>\n",
       "<tr>\n",
       "  <th>Prob(Omnibus):</th> <td> 0.571</td> <th>  Jarque-Bera (JB):  </th> <td>   0.954</td>\n",
       "</tr>\n",
       "<tr>\n",
       "  <th>Skew:</th>          <td> 0.007</td> <th>  Prob(JB):          </th> <td>   0.621</td>\n",
       "</tr>\n",
       "<tr>\n",
       "  <th>Kurtosis:</th>      <td> 2.382</td> <th>  Cond. No.          </th> <td>    2.62</td>\n",
       "</tr>\n",
       "</table><br/><br/>Notes:<br/>[1] Standard Errors assume that the covariance matrix of the errors is correctly specified."
      ],
      "text/plain": [
       "<class 'statsmodels.iolib.summary.Summary'>\n",
       "\"\"\"\n",
       "                            OLS Regression Results                            \n",
       "==============================================================================\n",
       "Dep. Variable:                      y   R-squared:                       0.114\n",
       "Model:                            OLS   Adj. R-squared:                  0.098\n",
       "Method:                 Least Squares   F-statistic:                     7.427\n",
       "Date:                Thu, 15 Sep 2022   Prob (F-statistic):            0.00848\n",
       "Time:                        17:07:12   Log-Likelihood:                -223.53\n",
       "No. Observations:                  60   AIC:                             451.1\n",
       "Df Residuals:                      58   BIC:                             455.2\n",
       "Df Model:                           1                                         \n",
       "Covariance Type:            nonrobust                                         \n",
       "==============================================================================\n",
       "                 coef    std err          t      P>|t|      [0.025      0.975]\n",
       "------------------------------------------------------------------------------\n",
       "x1             7.1854      2.637      2.725      0.008       1.908      12.463\n",
       "const         42.3203      1.864     22.700      0.000      38.588      46.052\n",
       "==============================================================================\n",
       "Omnibus:                        1.120   Durbin-Watson:                   1.895\n",
       "Prob(Omnibus):                  0.571   Jarque-Bera (JB):                0.954\n",
       "Skew:                           0.007   Prob(JB):                        0.621\n",
       "Kurtosis:                       2.382   Cond. No.                         2.62\n",
       "==============================================================================\n",
       "\n",
       "Notes:\n",
       "[1] Standard Errors assume that the covariance matrix of the errors is correctly specified.\n",
       "\"\"\""
      ]
     },
     "execution_count": 94,
     "metadata": {},
     "output_type": "execute_result"
    }
   ],
   "source": [
    "results.summary()"
   ]
  },
  {
   "cell_type": "code",
   "execution_count": 81,
   "id": "95e8a1ab-dfab-4647-8eca-0f3556884ce8",
   "metadata": {},
   "outputs": [
    {
     "data": {
      "text/html": [
       "\n",
       "        <div class='alert alert-block alert-success'>\n",
       "            \n",
       "            \\begin{align*}\\beta = [ 7.18545,42.32027]\\end{align*}\n",
       "        </div>\n",
       "    "
      ],
      "text/plain": [
       "<IPython.core.display.HTML object>"
      ]
     },
     "metadata": {},
     "output_type": "display_data"
    },
    {
     "data": {
      "text/html": [
       "\n",
       "        <div class='alert alert-block alert-success'>\n",
       "            \n",
       "            \\begin{align*}SSE = 6047.93004\\end{align*}\n",
       "        </div>\n",
       "    "
      ],
      "text/plain": [
       "<IPython.core.display.HTML object>"
      ]
     },
     "metadata": {},
     "output_type": "display_data"
    }
   ],
   "source": [
    "pprint(ltxt=f\"\\\\beta = {np.array2string(results.params, precision=5, separator=',')}\")\n",
    "pprint(ltxt=f\"SSE = {results.pearson_chi2:.5f}\")"
   ]
  },
  {
   "cell_type": "code",
   "execution_count": 101,
   "id": "42e6807c-38cd-46da-b32d-10193010e3e8",
   "metadata": {},
   "outputs": [
    {
     "data": {
      "text/html": [
       "\n",
       "        <div class='alert alert-block alert-success'>\n",
       "            \n",
       "            \\begin{align*}\\text{Degrees of Freedom} = 1, 58\\end{align*}\n",
       "        </div>\n",
       "    "
      ],
      "text/plain": [
       "<IPython.core.display.HTML object>"
      ]
     },
     "metadata": {},
     "output_type": "display_data"
    }
   ],
   "source": [
    "pprint(ltxt=f\"\\\\text{{Degrees of Freedom}} = {int(results.df_model)}, {int(results.df_resid)}\")"
   ]
  },
  {
   "cell_type": "code",
   "execution_count": 98,
   "id": "40f914c8-fcde-40b9-9372-e0f6444c2760",
   "metadata": {},
   "outputs": [
    {
     "data": {
      "text/html": [
       "\n",
       "        <div class='alert alert-block alert-success'>\n",
       "            \n",
       "            \\begin{align*}F = 7.42712\\end{align*}\n",
       "        </div>\n",
       "    "
      ],
      "text/plain": [
       "<IPython.core.display.HTML object>"
      ]
     },
     "metadata": {},
     "output_type": "display_data"
    },
    {
     "data": {
      "text/html": [
       "\n",
       "        <div class='alert alert-block alert-success'>\n",
       "            \n",
       "            \\begin{align*}p = 0.00848\\end{align*}\n",
       "        </div>\n",
       "    "
      ],
      "text/plain": [
       "<IPython.core.display.HTML object>"
      ]
     },
     "metadata": {},
     "output_type": "display_data"
    }
   ],
   "source": [
    "# Significance Test\n",
    "pprint(ltxt=f\"F = {results.fvalue:.5f}\")\n",
    "pprint(ltxt=f\"p = {results.f_pvalue:.5f}\")"
   ]
  },
  {
   "cell_type": "code",
   "execution_count": 111,
   "id": "01a61552-df6b-4a64-8f71-48bb4de61f1e",
   "metadata": {},
   "outputs": [
    {
     "data": {
      "text/html": [
       "\n",
       "        <div class='alert alert-block alert-success'>\n",
       "            \n",
       "            \\begin{align*}R^2 = 0.11352\\end{align*}\n",
       "        </div>\n",
       "    "
      ],
      "text/plain": [
       "<IPython.core.display.HTML object>"
      ]
     },
     "metadata": {},
     "output_type": "display_data"
    },
    {
     "data": {
      "text/html": [
       "\n",
       "        <div class='alert alert-block alert-success'>\n",
       "            \n",
       "            \\begin{align*}R^2_{adj} = 0.09823\\end{align*}\n",
       "        </div>\n",
       "    "
      ],
      "text/plain": [
       "<IPython.core.display.HTML object>"
      ]
     },
     "metadata": {},
     "output_type": "display_data"
    }
   ],
   "source": [
    "# Other Effect Sizes\n",
    "pprint(ltxt=f\"R^2 = {results.rsquared:.5f}\")\n",
    "pprint(ltxt=f\"R^2_{{adj}} = {results.rsquared_adj:.5f}\")\n",
    "# pprint(ltxt=f\"Cohen's\\ d = {results.tvalues/np.sqrt(len(X)):.5f}\")"
   ]
  },
  {
   "cell_type": "markdown",
   "id": "8d0fd0d7-e013-4277-930f-4a2f33001624",
   "metadata": {},
   "source": [
    "<div class=\"alert alert-block alert-success\">\n",
    "There is a significant effect of the drug ($p=0.00848, F=7.42712$).\n",
    "</div>"
   ]
  },
  {
   "cell_type": "markdown",
   "id": "385e5b64-ef5b-493a-9ef0-732b78efd510",
   "metadata": {},
   "source": [
    "`c.`"
   ]
  },
  {
   "cell_type": "code",
   "execution_count": null,
   "id": "512b2dbd-2c3b-4702-be3d-dc3ba33be0f1",
   "metadata": {},
   "outputs": [],
   "source": []
  }
 ],
 "metadata": {
  "kernelspec": {
   "display_name": "Python 3",
   "language": "python",
   "name": "python3"
  },
  "language_info": {
   "codemirror_mode": {
    "name": "ipython",
    "version": 3
   },
   "file_extension": ".py",
   "mimetype": "text/x-python",
   "name": "python",
   "nbconvert_exporter": "python",
   "pygments_lexer": "ipython3",
   "version": "3.8.8"
  },
  "toc-showcode": false,
  "toc-showmarkdowntxt": false,
  "toc-showtags": false
 },
 "nbformat": 4,
 "nbformat_minor": 5
}
